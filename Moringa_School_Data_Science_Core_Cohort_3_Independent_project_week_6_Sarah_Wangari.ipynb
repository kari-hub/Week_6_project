{
  "nbformat": 4,
  "nbformat_minor": 0,
  "metadata": {
    "colab": {
      "name": "Moringa_School_Data_Science_Core_Cohort_3_Independent_project_week_6_Sarah_Wangari",
      "provenance": [],
      "authorship_tag": "ABX9TyPIbq0rmyFIhaaIGRuQA9vj",
      "include_colab_link": true
    },
    "kernelspec": {
      "name": "python3",
      "display_name": "Python 3"
    }
  },
  "cells": [
    {
      "cell_type": "markdown",
      "metadata": {
        "id": "view-in-github",
        "colab_type": "text"
      },
      "source": [
        "<a href=\"https://colab.research.google.com/github/kari-hub/Week_6_project/blob/master/Moringa_School_Data_Science_Core_Cohort_3_Independent_project_week_6_Sarah_Wangari.ipynb\" target=\"_parent\"><img src=\"https://colab.research.google.com/assets/colab-badge.svg\" alt=\"Open In Colab\"/></a>"
      ]
    },
    {
      "cell_type": "markdown",
      "metadata": {
        "id": "dFokhjzcIYWn",
        "colab_type": "text"
      },
      "source": [
        "# FIFA Data Predictions."
      ]
    },
    {
      "cell_type": "markdown",
      "metadata": {
        "id": "CelOeRRakVAc",
        "colab_type": "text"
      },
      "source": [
        "## 1. Defining the Question\n"
      ]
    },
    {
      "cell_type": "markdown",
      "metadata": {
        "id": "pFRqijPZlYTh",
        "colab_type": "text"
      },
      "source": [
        "### a) Specifying the Question\n"
      ]
    },
    {
      "cell_type": "markdown",
      "metadata": {
        "id": "kIOuKrsslb8c",
        "colab_type": "text"
      },
      "source": [
        "> You have been recruited as a football analyst by a company known as Mchezopesa Ltd. They have asked you to predict the result of a game between team 1 and team 2, based on who's home and who is away, and whether or not the gme is friendly(rank is to be included in training)\n",
        "\n",
        ">> We will use the following inputs to create our model:Home team, Away team, Tournament type(World cup, Friendly, Other)\n"
      ]
    },
    {
      "cell_type": "markdown",
      "metadata": {
        "id": "dbur5xjRlgqd",
        "colab_type": "text"
      },
      "source": [
        "### b) Defining the Metric for Success\n"
      ]
    },
    {
      "cell_type": "markdown",
      "metadata": {
        "id": "YdUsjhtaljeP",
        "colab_type": "text"
      },
      "source": [
        "### c) Understanding the context\n"
      ]
    },
    {
      "cell_type": "markdown",
      "metadata": {
        "id": "woDHrxaYlmpt",
        "colab_type": "text"
      },
      "source": [
        "### d) Recording the Experimental Design\n"
      ]
    },
    {
      "cell_type": "markdown",
      "metadata": {
        "id": "pNGN0xqqluYW",
        "colab_type": "text"
      },
      "source": [
        "### e) Data Relevance\n"
      ]
    },
    {
      "cell_type": "markdown",
      "metadata": {
        "id": "r5svE1Hdlxvj",
        "colab_type": "text"
      },
      "source": [
        "## 2. Reading the Data"
      ]
    },
    {
      "cell_type": "code",
      "metadata": {
        "id": "it_h_Drsm5Da",
        "colab_type": "code",
        "colab": {
          "base_uri": "https://localhost:8080/",
          "height": 71
        },
        "outputId": "e81c1eee-29f1-4dde-b807-9ef9a4677e7b"
      },
      "source": [
        "# Importing our libraries\n",
        "\n",
        "import pandas as pd\n",
        "import seaborn as sns\n",
        "import numpy as np\n",
        "import matplotlib.pyplot as plt\n",
        "import sklearn.linear_model as LinearRegression\n",
        "import sklearn.preprocessing as PolynomialFeatures\n",
        "import sklearn.model_selection as train_test_split"
      ],
      "execution_count": 3,
      "outputs": [
        {
          "output_type": "stream",
          "text": [
            "/usr/local/lib/python3.6/dist-packages/statsmodels/tools/_testing.py:19: FutureWarning: pandas.util.testing is deprecated. Use the functions in the public API at pandas.testing instead.\n",
            "  import pandas.util.testing as tm\n"
          ],
          "name": "stderr"
        }
      ]
    },
    {
      "cell_type": "code",
      "metadata": {
        "id": "DctN3HQ0otGc",
        "colab_type": "code",
        "colab": {}
      },
      "source": [
        "# Loading our datasets\n",
        "\n",
        "ranks = pd.read_csv('fifa_ranking.csv', sep=',')\n"
      ],
      "execution_count": 0,
      "outputs": []
    },
    {
      "cell_type": "code",
      "metadata": {
        "id": "SkAoSWhXpEJ3",
        "colab_type": "code",
        "colab": {}
      },
      "source": [
        "result = pd.read_csv('results.csv', sep=',')\n"
      ],
      "execution_count": 0,
      "outputs": []
    },
    {
      "cell_type": "markdown",
      "metadata": {
        "id": "l5C044P3tmA8",
        "colab_type": "text"
      },
      "source": [
        "## 3. Checking Data"
      ]
    },
    {
      "cell_type": "code",
      "metadata": {
        "id": "ghYxADZJtp0C",
        "colab_type": "code",
        "outputId": "66dd8928-cc19-4809-aa24-a770670c358a",
        "colab": {
          "base_uri": "https://localhost:8080/",
          "height": 309
        }
      },
      "source": [
        "# Previewing the top of our datasets\n",
        "ranks.head()"
      ],
      "execution_count": 7,
      "outputs": [
        {
          "output_type": "execute_result",
          "data": {
            "text/html": [
              "<div>\n",
              "<style scoped>\n",
              "    .dataframe tbody tr th:only-of-type {\n",
              "        vertical-align: middle;\n",
              "    }\n",
              "\n",
              "    .dataframe tbody tr th {\n",
              "        vertical-align: top;\n",
              "    }\n",
              "\n",
              "    .dataframe thead th {\n",
              "        text-align: right;\n",
              "    }\n",
              "</style>\n",
              "<table border=\"1\" class=\"dataframe\">\n",
              "  <thead>\n",
              "    <tr style=\"text-align: right;\">\n",
              "      <th></th>\n",
              "      <th>rank</th>\n",
              "      <th>country_full</th>\n",
              "      <th>country_abrv</th>\n",
              "      <th>total_points</th>\n",
              "      <th>previous_points</th>\n",
              "      <th>rank_change</th>\n",
              "      <th>cur_year_avg</th>\n",
              "      <th>cur_year_avg_weighted</th>\n",
              "      <th>last_year_avg</th>\n",
              "      <th>last_year_avg_weighted</th>\n",
              "      <th>two_year_ago_avg</th>\n",
              "      <th>two_year_ago_weighted</th>\n",
              "      <th>three_year_ago_avg</th>\n",
              "      <th>three_year_ago_weighted</th>\n",
              "      <th>confederation</th>\n",
              "      <th>rank_date</th>\n",
              "    </tr>\n",
              "  </thead>\n",
              "  <tbody>\n",
              "    <tr>\n",
              "      <th>0</th>\n",
              "      <td>1</td>\n",
              "      <td>Germany</td>\n",
              "      <td>GER</td>\n",
              "      <td>0.0</td>\n",
              "      <td>57</td>\n",
              "      <td>0</td>\n",
              "      <td>0.0</td>\n",
              "      <td>0.0</td>\n",
              "      <td>0.0</td>\n",
              "      <td>0.0</td>\n",
              "      <td>0.0</td>\n",
              "      <td>0.0</td>\n",
              "      <td>0.0</td>\n",
              "      <td>0.0</td>\n",
              "      <td>UEFA</td>\n",
              "      <td>1993-08-08</td>\n",
              "    </tr>\n",
              "    <tr>\n",
              "      <th>1</th>\n",
              "      <td>2</td>\n",
              "      <td>Italy</td>\n",
              "      <td>ITA</td>\n",
              "      <td>0.0</td>\n",
              "      <td>57</td>\n",
              "      <td>0</td>\n",
              "      <td>0.0</td>\n",
              "      <td>0.0</td>\n",
              "      <td>0.0</td>\n",
              "      <td>0.0</td>\n",
              "      <td>0.0</td>\n",
              "      <td>0.0</td>\n",
              "      <td>0.0</td>\n",
              "      <td>0.0</td>\n",
              "      <td>UEFA</td>\n",
              "      <td>1993-08-08</td>\n",
              "    </tr>\n",
              "    <tr>\n",
              "      <th>2</th>\n",
              "      <td>3</td>\n",
              "      <td>Switzerland</td>\n",
              "      <td>SUI</td>\n",
              "      <td>0.0</td>\n",
              "      <td>50</td>\n",
              "      <td>9</td>\n",
              "      <td>0.0</td>\n",
              "      <td>0.0</td>\n",
              "      <td>0.0</td>\n",
              "      <td>0.0</td>\n",
              "      <td>0.0</td>\n",
              "      <td>0.0</td>\n",
              "      <td>0.0</td>\n",
              "      <td>0.0</td>\n",
              "      <td>UEFA</td>\n",
              "      <td>1993-08-08</td>\n",
              "    </tr>\n",
              "    <tr>\n",
              "      <th>3</th>\n",
              "      <td>4</td>\n",
              "      <td>Sweden</td>\n",
              "      <td>SWE</td>\n",
              "      <td>0.0</td>\n",
              "      <td>55</td>\n",
              "      <td>0</td>\n",
              "      <td>0.0</td>\n",
              "      <td>0.0</td>\n",
              "      <td>0.0</td>\n",
              "      <td>0.0</td>\n",
              "      <td>0.0</td>\n",
              "      <td>0.0</td>\n",
              "      <td>0.0</td>\n",
              "      <td>0.0</td>\n",
              "      <td>UEFA</td>\n",
              "      <td>1993-08-08</td>\n",
              "    </tr>\n",
              "    <tr>\n",
              "      <th>4</th>\n",
              "      <td>5</td>\n",
              "      <td>Argentina</td>\n",
              "      <td>ARG</td>\n",
              "      <td>0.0</td>\n",
              "      <td>51</td>\n",
              "      <td>5</td>\n",
              "      <td>0.0</td>\n",
              "      <td>0.0</td>\n",
              "      <td>0.0</td>\n",
              "      <td>0.0</td>\n",
              "      <td>0.0</td>\n",
              "      <td>0.0</td>\n",
              "      <td>0.0</td>\n",
              "      <td>0.0</td>\n",
              "      <td>CONMEBOL</td>\n",
              "      <td>1993-08-08</td>\n",
              "    </tr>\n",
              "  </tbody>\n",
              "</table>\n",
              "</div>"
            ],
            "text/plain": [
              "   rank country_full  ... confederation   rank_date\n",
              "0     1      Germany  ...          UEFA  1993-08-08\n",
              "1     2        Italy  ...          UEFA  1993-08-08\n",
              "2     3  Switzerland  ...          UEFA  1993-08-08\n",
              "3     4       Sweden  ...          UEFA  1993-08-08\n",
              "4     5    Argentina  ...      CONMEBOL  1993-08-08\n",
              "\n",
              "[5 rows x 16 columns]"
            ]
          },
          "metadata": {
            "tags": []
          },
          "execution_count": 7
        }
      ]
    },
    {
      "cell_type": "code",
      "metadata": {
        "id": "J9qBVQTJuKsY",
        "colab_type": "code",
        "outputId": "842bedea-412e-4703-d4d9-24939c5591ee",
        "colab": {
          "base_uri": "https://localhost:8080/",
          "height": 204
        }
      },
      "source": [
        "result.head()"
      ],
      "execution_count": 8,
      "outputs": [
        {
          "output_type": "execute_result",
          "data": {
            "text/html": [
              "<div>\n",
              "<style scoped>\n",
              "    .dataframe tbody tr th:only-of-type {\n",
              "        vertical-align: middle;\n",
              "    }\n",
              "\n",
              "    .dataframe tbody tr th {\n",
              "        vertical-align: top;\n",
              "    }\n",
              "\n",
              "    .dataframe thead th {\n",
              "        text-align: right;\n",
              "    }\n",
              "</style>\n",
              "<table border=\"1\" class=\"dataframe\">\n",
              "  <thead>\n",
              "    <tr style=\"text-align: right;\">\n",
              "      <th></th>\n",
              "      <th>date</th>\n",
              "      <th>home_team</th>\n",
              "      <th>away_team</th>\n",
              "      <th>home_score</th>\n",
              "      <th>away_score</th>\n",
              "      <th>tournament</th>\n",
              "      <th>city</th>\n",
              "      <th>country</th>\n",
              "      <th>neutral</th>\n",
              "    </tr>\n",
              "  </thead>\n",
              "  <tbody>\n",
              "    <tr>\n",
              "      <th>0</th>\n",
              "      <td>1872-11-30</td>\n",
              "      <td>Scotland</td>\n",
              "      <td>England</td>\n",
              "      <td>0</td>\n",
              "      <td>0</td>\n",
              "      <td>Friendly</td>\n",
              "      <td>Glasgow</td>\n",
              "      <td>Scotland</td>\n",
              "      <td>False</td>\n",
              "    </tr>\n",
              "    <tr>\n",
              "      <th>1</th>\n",
              "      <td>1873-03-08</td>\n",
              "      <td>England</td>\n",
              "      <td>Scotland</td>\n",
              "      <td>4</td>\n",
              "      <td>2</td>\n",
              "      <td>Friendly</td>\n",
              "      <td>London</td>\n",
              "      <td>England</td>\n",
              "      <td>False</td>\n",
              "    </tr>\n",
              "    <tr>\n",
              "      <th>2</th>\n",
              "      <td>1874-03-07</td>\n",
              "      <td>Scotland</td>\n",
              "      <td>England</td>\n",
              "      <td>2</td>\n",
              "      <td>1</td>\n",
              "      <td>Friendly</td>\n",
              "      <td>Glasgow</td>\n",
              "      <td>Scotland</td>\n",
              "      <td>False</td>\n",
              "    </tr>\n",
              "    <tr>\n",
              "      <th>3</th>\n",
              "      <td>1875-03-06</td>\n",
              "      <td>England</td>\n",
              "      <td>Scotland</td>\n",
              "      <td>2</td>\n",
              "      <td>2</td>\n",
              "      <td>Friendly</td>\n",
              "      <td>London</td>\n",
              "      <td>England</td>\n",
              "      <td>False</td>\n",
              "    </tr>\n",
              "    <tr>\n",
              "      <th>4</th>\n",
              "      <td>1876-03-04</td>\n",
              "      <td>Scotland</td>\n",
              "      <td>England</td>\n",
              "      <td>3</td>\n",
              "      <td>0</td>\n",
              "      <td>Friendly</td>\n",
              "      <td>Glasgow</td>\n",
              "      <td>Scotland</td>\n",
              "      <td>False</td>\n",
              "    </tr>\n",
              "  </tbody>\n",
              "</table>\n",
              "</div>"
            ],
            "text/plain": [
              "         date home_team away_team  ...     city   country neutral\n",
              "0  1872-11-30  Scotland   England  ...  Glasgow  Scotland   False\n",
              "1  1873-03-08   England  Scotland  ...   London   England   False\n",
              "2  1874-03-07  Scotland   England  ...  Glasgow  Scotland   False\n",
              "3  1875-03-06   England  Scotland  ...   London   England   False\n",
              "4  1876-03-04  Scotland   England  ...  Glasgow  Scotland   False\n",
              "\n",
              "[5 rows x 9 columns]"
            ]
          },
          "metadata": {
            "tags": []
          },
          "execution_count": 8
        }
      ]
    },
    {
      "cell_type": "code",
      "metadata": {
        "id": "6SNQMNH6ujb0",
        "colab_type": "code",
        "outputId": "5569d638-75e6-4514-ce6b-ea35950a376a",
        "colab": {
          "base_uri": "https://localhost:8080/",
          "height": 309
        }
      },
      "source": [
        "# Previewing the bottom of our data\n",
        "\n",
        "ranks.tail()"
      ],
      "execution_count": 9,
      "outputs": [
        {
          "output_type": "execute_result",
          "data": {
            "text/html": [
              "<div>\n",
              "<style scoped>\n",
              "    .dataframe tbody tr th:only-of-type {\n",
              "        vertical-align: middle;\n",
              "    }\n",
              "\n",
              "    .dataframe tbody tr th {\n",
              "        vertical-align: top;\n",
              "    }\n",
              "\n",
              "    .dataframe thead th {\n",
              "        text-align: right;\n",
              "    }\n",
              "</style>\n",
              "<table border=\"1\" class=\"dataframe\">\n",
              "  <thead>\n",
              "    <tr style=\"text-align: right;\">\n",
              "      <th></th>\n",
              "      <th>rank</th>\n",
              "      <th>country_full</th>\n",
              "      <th>country_abrv</th>\n",
              "      <th>total_points</th>\n",
              "      <th>previous_points</th>\n",
              "      <th>rank_change</th>\n",
              "      <th>cur_year_avg</th>\n",
              "      <th>cur_year_avg_weighted</th>\n",
              "      <th>last_year_avg</th>\n",
              "      <th>last_year_avg_weighted</th>\n",
              "      <th>two_year_ago_avg</th>\n",
              "      <th>two_year_ago_weighted</th>\n",
              "      <th>three_year_ago_avg</th>\n",
              "      <th>three_year_ago_weighted</th>\n",
              "      <th>confederation</th>\n",
              "      <th>rank_date</th>\n",
              "    </tr>\n",
              "  </thead>\n",
              "  <tbody>\n",
              "    <tr>\n",
              "      <th>57788</th>\n",
              "      <td>206</td>\n",
              "      <td>Anguilla</td>\n",
              "      <td>AIA</td>\n",
              "      <td>0.0</td>\n",
              "      <td>0</td>\n",
              "      <td>1</td>\n",
              "      <td>0.0</td>\n",
              "      <td>0.0</td>\n",
              "      <td>0.0</td>\n",
              "      <td>0.0</td>\n",
              "      <td>0.0</td>\n",
              "      <td>0.0</td>\n",
              "      <td>0.0</td>\n",
              "      <td>0.0</td>\n",
              "      <td>CONCACAF</td>\n",
              "      <td>2018-06-07</td>\n",
              "    </tr>\n",
              "    <tr>\n",
              "      <th>57789</th>\n",
              "      <td>206</td>\n",
              "      <td>Bahamas</td>\n",
              "      <td>BAH</td>\n",
              "      <td>0.0</td>\n",
              "      <td>0</td>\n",
              "      <td>1</td>\n",
              "      <td>0.0</td>\n",
              "      <td>0.0</td>\n",
              "      <td>0.0</td>\n",
              "      <td>0.0</td>\n",
              "      <td>0.0</td>\n",
              "      <td>0.0</td>\n",
              "      <td>0.0</td>\n",
              "      <td>0.0</td>\n",
              "      <td>CONCACAF</td>\n",
              "      <td>2018-06-07</td>\n",
              "    </tr>\n",
              "    <tr>\n",
              "      <th>57790</th>\n",
              "      <td>206</td>\n",
              "      <td>Eritrea</td>\n",
              "      <td>ERI</td>\n",
              "      <td>0.0</td>\n",
              "      <td>0</td>\n",
              "      <td>1</td>\n",
              "      <td>0.0</td>\n",
              "      <td>0.0</td>\n",
              "      <td>0.0</td>\n",
              "      <td>0.0</td>\n",
              "      <td>0.0</td>\n",
              "      <td>0.0</td>\n",
              "      <td>0.0</td>\n",
              "      <td>0.0</td>\n",
              "      <td>CAF</td>\n",
              "      <td>2018-06-07</td>\n",
              "    </tr>\n",
              "    <tr>\n",
              "      <th>57791</th>\n",
              "      <td>206</td>\n",
              "      <td>Somalia</td>\n",
              "      <td>SOM</td>\n",
              "      <td>0.0</td>\n",
              "      <td>0</td>\n",
              "      <td>1</td>\n",
              "      <td>0.0</td>\n",
              "      <td>0.0</td>\n",
              "      <td>0.0</td>\n",
              "      <td>0.0</td>\n",
              "      <td>0.0</td>\n",
              "      <td>0.0</td>\n",
              "      <td>0.0</td>\n",
              "      <td>0.0</td>\n",
              "      <td>CAF</td>\n",
              "      <td>2018-06-07</td>\n",
              "    </tr>\n",
              "    <tr>\n",
              "      <th>57792</th>\n",
              "      <td>206</td>\n",
              "      <td>Tonga</td>\n",
              "      <td>TGA</td>\n",
              "      <td>0.0</td>\n",
              "      <td>0</td>\n",
              "      <td>1</td>\n",
              "      <td>0.0</td>\n",
              "      <td>0.0</td>\n",
              "      <td>0.0</td>\n",
              "      <td>0.0</td>\n",
              "      <td>0.0</td>\n",
              "      <td>0.0</td>\n",
              "      <td>0.0</td>\n",
              "      <td>0.0</td>\n",
              "      <td>OFC</td>\n",
              "      <td>2018-06-07</td>\n",
              "    </tr>\n",
              "  </tbody>\n",
              "</table>\n",
              "</div>"
            ],
            "text/plain": [
              "       rank country_full  ... confederation   rank_date\n",
              "57788   206     Anguilla  ...      CONCACAF  2018-06-07\n",
              "57789   206      Bahamas  ...      CONCACAF  2018-06-07\n",
              "57790   206      Eritrea  ...           CAF  2018-06-07\n",
              "57791   206      Somalia  ...           CAF  2018-06-07\n",
              "57792   206        Tonga  ...           OFC  2018-06-07\n",
              "\n",
              "[5 rows x 16 columns]"
            ]
          },
          "metadata": {
            "tags": []
          },
          "execution_count": 9
        }
      ]
    },
    {
      "cell_type": "code",
      "metadata": {
        "id": "BMJtINYButI0",
        "colab_type": "code",
        "outputId": "8b48758a-9571-44e6-c98d-7e6e0705bf1a",
        "colab": {
          "base_uri": "https://localhost:8080/",
          "height": 289
        }
      },
      "source": [
        "result.tail()"
      ],
      "execution_count": 10,
      "outputs": [
        {
          "output_type": "execute_result",
          "data": {
            "text/html": [
              "<div>\n",
              "<style scoped>\n",
              "    .dataframe tbody tr th:only-of-type {\n",
              "        vertical-align: middle;\n",
              "    }\n",
              "\n",
              "    .dataframe tbody tr th {\n",
              "        vertical-align: top;\n",
              "    }\n",
              "\n",
              "    .dataframe thead th {\n",
              "        text-align: right;\n",
              "    }\n",
              "</style>\n",
              "<table border=\"1\" class=\"dataframe\">\n",
              "  <thead>\n",
              "    <tr style=\"text-align: right;\">\n",
              "      <th></th>\n",
              "      <th>date</th>\n",
              "      <th>home_team</th>\n",
              "      <th>away_team</th>\n",
              "      <th>home_score</th>\n",
              "      <th>away_score</th>\n",
              "      <th>tournament</th>\n",
              "      <th>city</th>\n",
              "      <th>country</th>\n",
              "      <th>neutral</th>\n",
              "    </tr>\n",
              "  </thead>\n",
              "  <tbody>\n",
              "    <tr>\n",
              "      <th>40834</th>\n",
              "      <td>2019-07-18</td>\n",
              "      <td>American Samoa</td>\n",
              "      <td>Tahiti</td>\n",
              "      <td>8</td>\n",
              "      <td>1</td>\n",
              "      <td>Pacific Games</td>\n",
              "      <td>Apia</td>\n",
              "      <td>Samoa</td>\n",
              "      <td>True</td>\n",
              "    </tr>\n",
              "    <tr>\n",
              "      <th>40835</th>\n",
              "      <td>2019-07-18</td>\n",
              "      <td>Fiji</td>\n",
              "      <td>Solomon Islands</td>\n",
              "      <td>4</td>\n",
              "      <td>4</td>\n",
              "      <td>Pacific Games</td>\n",
              "      <td>Apia</td>\n",
              "      <td>Samoa</td>\n",
              "      <td>True</td>\n",
              "    </tr>\n",
              "    <tr>\n",
              "      <th>40836</th>\n",
              "      <td>2019-07-19</td>\n",
              "      <td>Senegal</td>\n",
              "      <td>Algeria</td>\n",
              "      <td>0</td>\n",
              "      <td>1</td>\n",
              "      <td>African Cup of Nations</td>\n",
              "      <td>Cairo</td>\n",
              "      <td>Egypt</td>\n",
              "      <td>True</td>\n",
              "    </tr>\n",
              "    <tr>\n",
              "      <th>40837</th>\n",
              "      <td>2019-07-19</td>\n",
              "      <td>Tajikistan</td>\n",
              "      <td>North Korea</td>\n",
              "      <td>0</td>\n",
              "      <td>1</td>\n",
              "      <td>Intercontinental Cup</td>\n",
              "      <td>Ahmedabad</td>\n",
              "      <td>India</td>\n",
              "      <td>True</td>\n",
              "    </tr>\n",
              "    <tr>\n",
              "      <th>40838</th>\n",
              "      <td>2019-07-20</td>\n",
              "      <td>Papua New Guinea</td>\n",
              "      <td>Fiji</td>\n",
              "      <td>1</td>\n",
              "      <td>1</td>\n",
              "      <td>Pacific Games</td>\n",
              "      <td>Apia</td>\n",
              "      <td>Samoa</td>\n",
              "      <td>True</td>\n",
              "    </tr>\n",
              "  </tbody>\n",
              "</table>\n",
              "</div>"
            ],
            "text/plain": [
              "             date         home_team  ... country  neutral\n",
              "40834  2019-07-18    American Samoa  ...   Samoa     True\n",
              "40835  2019-07-18              Fiji  ...   Samoa     True\n",
              "40836  2019-07-19           Senegal  ...   Egypt     True\n",
              "40837  2019-07-19        Tajikistan  ...   India     True\n",
              "40838  2019-07-20  Papua New Guinea  ...   Samoa     True\n",
              "\n",
              "[5 rows x 9 columns]"
            ]
          },
          "metadata": {
            "tags": []
          },
          "execution_count": 10
        }
      ]
    },
    {
      "cell_type": "code",
      "metadata": {
        "id": "nW0P6lE3uSIq",
        "colab_type": "code",
        "outputId": "73c23613-dc76-4ad9-eaa3-791e68601bda",
        "colab": {
          "base_uri": "https://localhost:8080/",
          "height": 34
        }
      },
      "source": [
        "# Determining the number of records in our data\n",
        "ranks.shape"
      ],
      "execution_count": 0,
      "outputs": [
        {
          "output_type": "execute_result",
          "data": {
            "text/plain": [
              "(57793, 16)"
            ]
          },
          "metadata": {
            "tags": []
          },
          "execution_count": 11
        }
      ]
    },
    {
      "cell_type": "code",
      "metadata": {
        "id": "aSuKR35BubH5",
        "colab_type": "code",
        "outputId": "ab733565-7281-486c-b78c-c1ce673ddcd0",
        "colab": {
          "base_uri": "https://localhost:8080/",
          "height": 34
        }
      },
      "source": [
        "result.shape"
      ],
      "execution_count": 0,
      "outputs": [
        {
          "output_type": "execute_result",
          "data": {
            "text/plain": [
              "(40839, 9)"
            ]
          },
          "metadata": {
            "tags": []
          },
          "execution_count": 12
        }
      ]
    },
    {
      "cell_type": "code",
      "metadata": {
        "id": "nYOjFWL0ufTt",
        "colab_type": "code",
        "outputId": "3b772af3-92fa-46f1-cf59-843c4f293930",
        "colab": {
          "base_uri": "https://localhost:8080/",
          "height": 306
        }
      },
      "source": [
        "# Determining the data types in our data. This is important as it determines the independent variables to be considered for our model\n",
        "\n",
        "ranks.dtypes"
      ],
      "execution_count": 0,
      "outputs": [
        {
          "output_type": "execute_result",
          "data": {
            "text/plain": [
              "rank                         int64\n",
              "country_full                object\n",
              "country_abrv                object\n",
              "total_points               float64\n",
              "previous_points              int64\n",
              "rank_change                  int64\n",
              "cur_year_avg               float64\n",
              "cur_year_avg_weighted      float64\n",
              "last_year_avg              float64\n",
              "last_year_avg_weighted     float64\n",
              "two_year_ago_avg           float64\n",
              "two_year_ago_weighted      float64\n",
              "three_year_ago_avg         float64\n",
              "three_year_ago_weighted    float64\n",
              "confederation               object\n",
              "rank_date                   object\n",
              "dtype: object"
            ]
          },
          "metadata": {
            "tags": []
          },
          "execution_count": 13
        }
      ]
    },
    {
      "cell_type": "code",
      "metadata": {
        "id": "m-bJ5IJLvLD2",
        "colab_type": "code",
        "outputId": "4c0ae1fd-a7fc-4025-d436-39da8cd4456f",
        "colab": {
          "base_uri": "https://localhost:8080/",
          "height": 187
        }
      },
      "source": [
        "result.dtypes"
      ],
      "execution_count": 0,
      "outputs": [
        {
          "output_type": "execute_result",
          "data": {
            "text/plain": [
              "date          object\n",
              "home_team     object\n",
              "away_team     object\n",
              "home_score     int64\n",
              "away_score     int64\n",
              "tournament    object\n",
              "city          object\n",
              "country       object\n",
              "neutral         bool\n",
              "dtype: object"
            ]
          },
          "metadata": {
            "tags": []
          },
          "execution_count": 14
        }
      ]
    },
    {
      "cell_type": "markdown",
      "metadata": {
        "id": "xoqUNUrSvUyI",
        "colab_type": "text"
      },
      "source": [
        "## 4. External Data validation"
      ]
    },
    {
      "cell_type": "markdown",
      "metadata": {
        "id": "6tKJQrLiveFE",
        "colab_type": "text"
      },
      "source": [
        "Making sure our data matches something outside of the dataset is very important. It allows us to ensure that the measurements are roughly in line with what they should be and it serves as a check on what other things might be wrong in our dataset.\n",
        "\n",
        "We made sure to confirm the validity of the data being used to build the prediction model.This helps to maintain the credibility of our work by using reliable data. The validation of our data can be obtained from [here](https://www.fifa.com/fifa-world-ranking/ranking-table/men/)."
      ]
    },
    {
      "cell_type": "markdown",
      "metadata": {
        "id": "EiRUWEBOxYBI",
        "colab_type": "text"
      },
      "source": [
        "## 5. Tidying the dataset"
      ]
    },
    {
      "cell_type": "code",
      "metadata": {
        "id": "HLHDp6gx2ifp",
        "colab_type": "code",
        "outputId": "70567eaa-20e0-405e-f294-3ab87146af40",
        "colab": {
          "base_uri": "https://localhost:8080/",
          "height": 862
        }
      },
      "source": [
        "# We will check for anomalies in our data\n",
        "\n",
        "def percentile_based_outlier(ranks, threshold=95):\n",
        "  diff = (100 - threshold)/2\n",
        "  minval, maxval = np.percentile(ranks, [diff, 100 - diff])\n",
        "  return (ranks < minval) | (ranks > maxval)\n",
        "\n",
        "col_names = ['rank', 'previous_points', 'rank_change', 'total_points']  \n",
        "\n",
        "fig, ax = plt.subplots(len(col_names), figsize=(8, 12))\n",
        "\n",
        "for i, col_val in enumerate(col_names):\n",
        "  x = ranks[col_val][:1000]\n",
        "  sns.distplot(x, ax=ax[i], rug=True, hist=True)\n",
        "  outliers = x[percentile_based_outlier(x)]\n",
        "  ax[i].plot(outliers, np.zeros_like(outliers), 'ro', clip_on=False)\n",
        "\n",
        "  ax[i].set_title(\"Outlier detection - {}\".format(col_val), fontsize=10)\n",
        "  ax[i].set_xlabel(col_val, fontsize=8)\n",
        "\n",
        "plt.show()  \n",
        "  "
      ],
      "execution_count": 0,
      "outputs": [
        {
          "output_type": "stream",
          "text": [
            "/usr/local/lib/python3.6/dist-packages/seaborn/distributions.py:283: UserWarning: Data must have variance to compute a kernel density estimate.\n",
            "  warnings.warn(msg, UserWarning)\n"
          ],
          "name": "stderr"
        },
        {
          "output_type": "display_data",
          "data": {
            "image/png": "[encoded data removed]",
            "text/plain": [
              "<Figure size 576x864 with 4 Axes>"
            ]
          },
          "metadata": {
            "tags": [],
            "needs_background": "light"
          }
        }
      ]
    },
    {
      "cell_type": "code",
      "metadata": {
        "id": "ue_ThVIP5ekr",
        "colab_type": "code",
        "outputId": "ee319256-473d-48a6-da22-0134eeb520d2",
        "colab": {
          "base_uri": "https://localhost:8080/",
          "height": 727
        }
      },
      "source": [
        "def percentile_based_outlier(result, threshold=95):\n",
        "  diff = (100 - threshold)/2\n",
        "  minval, maxval = np.percentile(result, [diff, 100 - diff])\n",
        "  return (result < minval) | (result > maxval)\n",
        "\n",
        "col_names = ['home_score', 'away_score']  \n",
        "\n",
        "fig, ax = plt.subplots(len(col_names), figsize=(8, 12))\n",
        "\n",
        "for i, col_val in enumerate(col_names):\n",
        "  x = result[col_val][:1000]\n",
        "  sns.distplot(x, ax=ax[i], rug=True, hist=True)\n",
        "  outliers = x[percentile_based_outlier(x)]\n",
        "  ax[i].plot(outliers, np.zeros_like(outliers), 'ro', clip_on=False)\n",
        "\n",
        "  ax[i].set_title(\"Outlier detection - {}\".format(col_val), fontsize=10)\n",
        "  ax[i].set_xlabel(col_val, fontsize=8)\n",
        "\n",
        "plt.show() \n",
        "\n"
      ],
      "execution_count": 0,
      "outputs": [
        {
          "output_type": "display_data",
          "data": {
            "image/png": "[encoded data removed]",
            "text/plain": [
              "<Figure size 576x864 with 2 Axes>"
            ]
          },
          "metadata": {
            "tags": [],
            "needs_background": "light"
          }
        }
      ]
    },
    {
      "cell_type": "code",
      "metadata": {
        "id": "fWopt0TR8RD1",
        "colab_type": "code",
        "outputId": "9343638c-3601-4173-a37f-dff517d5d69e",
        "colab": {
          "base_uri": "https://localhost:8080/",
          "height": 306
        }
      },
      "source": [
        "# Identifying the missing values\n",
        "\n",
        "ranks.isnull().any()"
      ],
      "execution_count": 0,
      "outputs": [
        {
          "output_type": "execute_result",
          "data": {
            "text/plain": [
              "rank                       False\n",
              "country_full               False\n",
              "country_abrv               False\n",
              "total_points               False\n",
              "previous_points            False\n",
              "rank_change                False\n",
              "cur_year_avg               False\n",
              "cur_year_avg_weighted      False\n",
              "last_year_avg              False\n",
              "last_year_avg_weighted     False\n",
              "two_year_ago_avg           False\n",
              "two_year_ago_weighted      False\n",
              "three_year_ago_avg         False\n",
              "three_year_ago_weighted    False\n",
              "confederation              False\n",
              "rank_date                  False\n",
              "dtype: bool"
            ]
          },
          "metadata": {
            "tags": []
          },
          "execution_count": 18
        }
      ]
    },
    {
      "cell_type": "code",
      "metadata": {
        "id": "DaS2wB7a8e5f",
        "colab_type": "code",
        "outputId": "b8c291e4-2b44-427f-9520-9b174843e98a",
        "colab": {
          "base_uri": "https://localhost:8080/",
          "height": 187
        }
      },
      "source": [
        "result.isnull().any()"
      ],
      "execution_count": 0,
      "outputs": [
        {
          "output_type": "execute_result",
          "data": {
            "text/plain": [
              "date          False\n",
              "home_team     False\n",
              "away_team     False\n",
              "home_score    False\n",
              "away_score    False\n",
              "tournament    False\n",
              "city          False\n",
              "country       False\n",
              "neutral       False\n",
              "dtype: bool"
            ]
          },
          "metadata": {
            "tags": []
          },
          "execution_count": 19
        }
      ]
    },
    {
      "cell_type": "code",
      "metadata": {
        "id": "rNtQaClt8kqd",
        "colab_type": "code",
        "colab": {}
      },
      "source": [
        "# Dealing with missing data\n"
      ],
      "execution_count": 0,
      "outputs": []
    },
    {
      "cell_type": "code",
      "metadata": {
        "id": "8KHEa1H88riF",
        "colab_type": "code",
        "outputId": "402e0658-a1cb-4734-a381-af8b7be0d309",
        "colab": {
          "base_uri": "https://localhost:8080/",
          "height": 419
        }
      },
      "source": [
        "# More data cleaning procedures.\n",
        "\n",
        "# We start cleaning our data by dropping unnecessary columns in our ranks dataset\n",
        "ranks.drop(['cur_year_avg',\t'cur_year_avg_weighted',\t'last_year_avg',\t'last_year_avg_weighted',\t'two_year_ago_avg',\t'two_year_ago_weighted',\t'three_year_ago_avg',\t'three_year_ago_weighted'], inplace=True, axis=1)\n",
        "ranks"
      ],
      "execution_count": 11,
      "outputs": [
        {
          "output_type": "execute_result",
          "data": {
            "text/html": [
              "<div>\n",
              "<style scoped>\n",
              "    .dataframe tbody tr th:only-of-type {\n",
              "        vertical-align: middle;\n",
              "    }\n",
              "\n",
              "    .dataframe tbody tr th {\n",
              "        vertical-align: top;\n",
              "    }\n",
              "\n",
              "    .dataframe thead th {\n",
              "        text-align: right;\n",
              "    }\n",
              "</style>\n",
              "<table border=\"1\" class=\"dataframe\">\n",
              "  <thead>\n",
              "    <tr style=\"text-align: right;\">\n",
              "      <th></th>\n",
              "      <th>rank</th>\n",
              "      <th>country_full</th>\n",
              "      <th>country_abrv</th>\n",
              "      <th>total_points</th>\n",
              "      <th>previous_points</th>\n",
              "      <th>rank_change</th>\n",
              "      <th>confederation</th>\n",
              "      <th>rank_date</th>\n",
              "    </tr>\n",
              "  </thead>\n",
              "  <tbody>\n",
              "    <tr>\n",
              "      <th>0</th>\n",
              "      <td>1</td>\n",
              "      <td>Germany</td>\n",
              "      <td>GER</td>\n",
              "      <td>0.0</td>\n",
              "      <td>57</td>\n",
              "      <td>0</td>\n",
              "      <td>UEFA</td>\n",
              "      <td>1993-08-08</td>\n",
              "    </tr>\n",
              "    <tr>\n",
              "      <th>1</th>\n",
              "      <td>2</td>\n",
              "      <td>Italy</td>\n",
              "      <td>ITA</td>\n",
              "      <td>0.0</td>\n",
              "      <td>57</td>\n",
              "      <td>0</td>\n",
              "      <td>UEFA</td>\n",
              "      <td>1993-08-08</td>\n",
              "    </tr>\n",
              "    <tr>\n",
              "      <th>2</th>\n",
              "      <td>3</td>\n",
              "      <td>Switzerland</td>\n",
              "      <td>SUI</td>\n",
              "      <td>0.0</td>\n",
              "      <td>50</td>\n",
              "      <td>9</td>\n",
              "      <td>UEFA</td>\n",
              "      <td>1993-08-08</td>\n",
              "    </tr>\n",
              "    <tr>\n",
              "      <th>3</th>\n",
              "      <td>4</td>\n",
              "      <td>Sweden</td>\n",
              "      <td>SWE</td>\n",
              "      <td>0.0</td>\n",
              "      <td>55</td>\n",
              "      <td>0</td>\n",
              "      <td>UEFA</td>\n",
              "      <td>1993-08-08</td>\n",
              "    </tr>\n",
              "    <tr>\n",
              "      <th>4</th>\n",
              "      <td>5</td>\n",
              "      <td>Argentina</td>\n",
              "      <td>ARG</td>\n",
              "      <td>0.0</td>\n",
              "      <td>51</td>\n",
              "      <td>5</td>\n",
              "      <td>CONMEBOL</td>\n",
              "      <td>1993-08-08</td>\n",
              "    </tr>\n",
              "    <tr>\n",
              "      <th>...</th>\n",
              "      <td>...</td>\n",
              "      <td>...</td>\n",
              "      <td>...</td>\n",
              "      <td>...</td>\n",
              "      <td>...</td>\n",
              "      <td>...</td>\n",
              "      <td>...</td>\n",
              "      <td>...</td>\n",
              "    </tr>\n",
              "    <tr>\n",
              "      <th>57788</th>\n",
              "      <td>206</td>\n",
              "      <td>Anguilla</td>\n",
              "      <td>AIA</td>\n",
              "      <td>0.0</td>\n",
              "      <td>0</td>\n",
              "      <td>1</td>\n",
              "      <td>CONCACAF</td>\n",
              "      <td>2018-06-07</td>\n",
              "    </tr>\n",
              "    <tr>\n",
              "      <th>57789</th>\n",
              "      <td>206</td>\n",
              "      <td>Bahamas</td>\n",
              "      <td>BAH</td>\n",
              "      <td>0.0</td>\n",
              "      <td>0</td>\n",
              "      <td>1</td>\n",
              "      <td>CONCACAF</td>\n",
              "      <td>2018-06-07</td>\n",
              "    </tr>\n",
              "    <tr>\n",
              "      <th>57790</th>\n",
              "      <td>206</td>\n",
              "      <td>Eritrea</td>\n",
              "      <td>ERI</td>\n",
              "      <td>0.0</td>\n",
              "      <td>0</td>\n",
              "      <td>1</td>\n",
              "      <td>CAF</td>\n",
              "      <td>2018-06-07</td>\n",
              "    </tr>\n",
              "    <tr>\n",
              "      <th>57791</th>\n",
              "      <td>206</td>\n",
              "      <td>Somalia</td>\n",
              "      <td>SOM</td>\n",
              "      <td>0.0</td>\n",
              "      <td>0</td>\n",
              "      <td>1</td>\n",
              "      <td>CAF</td>\n",
              "      <td>2018-06-07</td>\n",
              "    </tr>\n",
              "    <tr>\n",
              "      <th>57792</th>\n",
              "      <td>206</td>\n",
              "      <td>Tonga</td>\n",
              "      <td>TGA</td>\n",
              "      <td>0.0</td>\n",
              "      <td>0</td>\n",
              "      <td>1</td>\n",
              "      <td>OFC</td>\n",
              "      <td>2018-06-07</td>\n",
              "    </tr>\n",
              "  </tbody>\n",
              "</table>\n",
              "<p>57793 rows × 8 columns</p>\n",
              "</div>"
            ],
            "text/plain": [
              "       rank country_full country_abrv  ...  rank_change  confederation   rank_date\n",
              "0         1      Germany          GER  ...            0           UEFA  1993-08-08\n",
              "1         2        Italy          ITA  ...            0           UEFA  1993-08-08\n",
              "2         3  Switzerland          SUI  ...            9           UEFA  1993-08-08\n",
              "3         4       Sweden          SWE  ...            0           UEFA  1993-08-08\n",
              "4         5    Argentina          ARG  ...            5       CONMEBOL  1993-08-08\n",
              "...     ...          ...          ...  ...          ...            ...         ...\n",
              "57788   206     Anguilla          AIA  ...            1       CONCACAF  2018-06-07\n",
              "57789   206      Bahamas          BAH  ...            1       CONCACAF  2018-06-07\n",
              "57790   206      Eritrea          ERI  ...            1            CAF  2018-06-07\n",
              "57791   206      Somalia          SOM  ...            1            CAF  2018-06-07\n",
              "57792   206        Tonga          TGA  ...            1            OFC  2018-06-07\n",
              "\n",
              "[57793 rows x 8 columns]"
            ]
          },
          "metadata": {
            "tags": []
          },
          "execution_count": 11
        }
      ]
    },
    {
      "cell_type": "code",
      "metadata": {
        "id": "JHnMo8e-9tjB",
        "colab_type": "code",
        "outputId": "806f4be1-fe3b-4327-b4e3-1e76076a80b0",
        "colab": {
          "base_uri": "https://localhost:8080/",
          "height": 68
        }
      },
      "source": [
        "# We will replace our column names in our ranks dataset\n",
        "\n",
        "ranks.columns = ['Rank', 'Country', 'Abbrev', 'TotalPoints', 'PreviousPoints', 'Rankchange', 'Confederation', 'Date']\n",
        "ranks.columns"
      ],
      "execution_count": 12,
      "outputs": [
        {
          "output_type": "execute_result",
          "data": {
            "text/plain": [
              "Index(['Rank', 'Country', 'Abbrev', 'TotalPoints', 'PreviousPoints',\n",
              "       'Rankchange', 'Confederation', 'Date'],\n",
              "      dtype='object')"
            ]
          },
          "metadata": {
            "tags": []
          },
          "execution_count": 12
        }
      ]
    },
    {
      "cell_type": "code",
      "metadata": {
        "id": "0O2dhlBREtkS",
        "colab_type": "code",
        "outputId": "03f33012-17a9-4722-b9cc-f374c8153b49",
        "colab": {
          "base_uri": "https://localhost:8080/",
          "height": 204
        }
      },
      "source": [
        "result.head()"
      ],
      "execution_count": 13,
      "outputs": [
        {
          "output_type": "execute_result",
          "data": {
            "text/html": [
              "<div>\n",
              "<style scoped>\n",
              "    .dataframe tbody tr th:only-of-type {\n",
              "        vertical-align: middle;\n",
              "    }\n",
              "\n",
              "    .dataframe tbody tr th {\n",
              "        vertical-align: top;\n",
              "    }\n",
              "\n",
              "    .dataframe thead th {\n",
              "        text-align: right;\n",
              "    }\n",
              "</style>\n",
              "<table border=\"1\" class=\"dataframe\">\n",
              "  <thead>\n",
              "    <tr style=\"text-align: right;\">\n",
              "      <th></th>\n",
              "      <th>date</th>\n",
              "      <th>home_team</th>\n",
              "      <th>away_team</th>\n",
              "      <th>home_score</th>\n",
              "      <th>away_score</th>\n",
              "      <th>tournament</th>\n",
              "      <th>city</th>\n",
              "      <th>country</th>\n",
              "      <th>neutral</th>\n",
              "    </tr>\n",
              "  </thead>\n",
              "  <tbody>\n",
              "    <tr>\n",
              "      <th>0</th>\n",
              "      <td>1872-11-30</td>\n",
              "      <td>Scotland</td>\n",
              "      <td>England</td>\n",
              "      <td>0</td>\n",
              "      <td>0</td>\n",
              "      <td>Friendly</td>\n",
              "      <td>Glasgow</td>\n",
              "      <td>Scotland</td>\n",
              "      <td>False</td>\n",
              "    </tr>\n",
              "    <tr>\n",
              "      <th>1</th>\n",
              "      <td>1873-03-08</td>\n",
              "      <td>England</td>\n",
              "      <td>Scotland</td>\n",
              "      <td>4</td>\n",
              "      <td>2</td>\n",
              "      <td>Friendly</td>\n",
              "      <td>London</td>\n",
              "      <td>England</td>\n",
              "      <td>False</td>\n",
              "    </tr>\n",
              "    <tr>\n",
              "      <th>2</th>\n",
              "      <td>1874-03-07</td>\n",
              "      <td>Scotland</td>\n",
              "      <td>England</td>\n",
              "      <td>2</td>\n",
              "      <td>1</td>\n",
              "      <td>Friendly</td>\n",
              "      <td>Glasgow</td>\n",
              "      <td>Scotland</td>\n",
              "      <td>False</td>\n",
              "    </tr>\n",
              "    <tr>\n",
              "      <th>3</th>\n",
              "      <td>1875-03-06</td>\n",
              "      <td>England</td>\n",
              "      <td>Scotland</td>\n",
              "      <td>2</td>\n",
              "      <td>2</td>\n",
              "      <td>Friendly</td>\n",
              "      <td>London</td>\n",
              "      <td>England</td>\n",
              "      <td>False</td>\n",
              "    </tr>\n",
              "    <tr>\n",
              "      <th>4</th>\n",
              "      <td>1876-03-04</td>\n",
              "      <td>Scotland</td>\n",
              "      <td>England</td>\n",
              "      <td>3</td>\n",
              "      <td>0</td>\n",
              "      <td>Friendly</td>\n",
              "      <td>Glasgow</td>\n",
              "      <td>Scotland</td>\n",
              "      <td>False</td>\n",
              "    </tr>\n",
              "  </tbody>\n",
              "</table>\n",
              "</div>"
            ],
            "text/plain": [
              "         date home_team away_team  ...     city   country neutral\n",
              "0  1872-11-30  Scotland   England  ...  Glasgow  Scotland   False\n",
              "1  1873-03-08   England  Scotland  ...   London   England   False\n",
              "2  1874-03-07  Scotland   England  ...  Glasgow  Scotland   False\n",
              "3  1875-03-06   England  Scotland  ...   London   England   False\n",
              "4  1876-03-04  Scotland   England  ...  Glasgow  Scotland   False\n",
              "\n",
              "[5 rows x 9 columns]"
            ]
          },
          "metadata": {
            "tags": []
          },
          "execution_count": 13
        }
      ]
    },
    {
      "cell_type": "code",
      "metadata": {
        "id": "3PeRMPMZGiT7",
        "colab_type": "code",
        "outputId": "1a269493-0c6c-4931-fb2d-b2c10ca0d368",
        "colab": {
          "base_uri": "https://localhost:8080/",
          "height": 68
        }
      },
      "source": [
        "# Replacing our column names in result data.\n",
        "\n",
        "result.columns = ['Date', 'HomeTeam', 'AwayTeam', 'HomeScore', 'AwayScore', 'Tournament', 'City', 'Venue', 'Neutral']\n",
        "result.columns\n"
      ],
      "execution_count": 14,
      "outputs": [
        {
          "output_type": "execute_result",
          "data": {
            "text/plain": [
              "Index(['Date', 'HomeTeam', 'AwayTeam', 'HomeScore', 'AwayScore', 'Tournament',\n",
              "       'City', 'Venue', 'Neutral'],\n",
              "      dtype='object')"
            ]
          },
          "metadata": {
            "tags": []
          },
          "execution_count": 14
        }
      ]
    },
    {
      "cell_type": "code",
      "metadata": {
        "id": "618W4oiI2iCR",
        "colab_type": "code",
        "outputId": "e297d3a9-b9ee-47dd-c3d7-2c1678a56af0",
        "colab": {
          "base_uri": "https://localhost:8080/",
          "height": 830
        }
      },
      "source": [
        "# We will merge our datasets using the join function\n",
        "\n",
        "fifa = ranks.merge(result, how='inner', on='Date')\n",
        "fifa"
      ],
      "execution_count": 15,
      "outputs": [
        {
          "output_type": "execute_result",
          "data": {
            "text/html": [
              "<div>\n",
              "<style scoped>\n",
              "    .dataframe tbody tr th:only-of-type {\n",
              "        vertical-align: middle;\n",
              "    }\n",
              "\n",
              "    .dataframe tbody tr th {\n",
              "        vertical-align: top;\n",
              "    }\n",
              "\n",
              "    .dataframe thead th {\n",
              "        text-align: right;\n",
              "    }\n",
              "</style>\n",
              "<table border=\"1\" class=\"dataframe\">\n",
              "  <thead>\n",
              "    <tr style=\"text-align: right;\">\n",
              "      <th></th>\n",
              "      <th>Rank</th>\n",
              "      <th>Country</th>\n",
              "      <th>Abbrev</th>\n",
              "      <th>TotalPoints</th>\n",
              "      <th>PreviousPoints</th>\n",
              "      <th>Rankchange</th>\n",
              "      <th>Confederation</th>\n",
              "      <th>Date</th>\n",
              "      <th>HomeTeam</th>\n",
              "      <th>AwayTeam</th>\n",
              "      <th>HomeScore</th>\n",
              "      <th>AwayScore</th>\n",
              "      <th>Tournament</th>\n",
              "      <th>City</th>\n",
              "      <th>Venue</th>\n",
              "      <th>Neutral</th>\n",
              "    </tr>\n",
              "  </thead>\n",
              "  <tbody>\n",
              "    <tr>\n",
              "      <th>0</th>\n",
              "      <td>1</td>\n",
              "      <td>Germany</td>\n",
              "      <td>GER</td>\n",
              "      <td>0.0</td>\n",
              "      <td>57</td>\n",
              "      <td>0</td>\n",
              "      <td>UEFA</td>\n",
              "      <td>1993-08-08</td>\n",
              "      <td>Bolivia</td>\n",
              "      <td>Uruguay</td>\n",
              "      <td>3</td>\n",
              "      <td>1</td>\n",
              "      <td>FIFA World Cup qualification</td>\n",
              "      <td>La Paz</td>\n",
              "      <td>Bolivia</td>\n",
              "      <td>False</td>\n",
              "    </tr>\n",
              "    <tr>\n",
              "      <th>1</th>\n",
              "      <td>1</td>\n",
              "      <td>Germany</td>\n",
              "      <td>GER</td>\n",
              "      <td>0.0</td>\n",
              "      <td>57</td>\n",
              "      <td>0</td>\n",
              "      <td>UEFA</td>\n",
              "      <td>1993-08-08</td>\n",
              "      <td>Brazil</td>\n",
              "      <td>Mexico</td>\n",
              "      <td>1</td>\n",
              "      <td>1</td>\n",
              "      <td>Friendly</td>\n",
              "      <td>Maceió</td>\n",
              "      <td>Brazil</td>\n",
              "      <td>False</td>\n",
              "    </tr>\n",
              "    <tr>\n",
              "      <th>2</th>\n",
              "      <td>1</td>\n",
              "      <td>Germany</td>\n",
              "      <td>GER</td>\n",
              "      <td>0.0</td>\n",
              "      <td>57</td>\n",
              "      <td>0</td>\n",
              "      <td>UEFA</td>\n",
              "      <td>1993-08-08</td>\n",
              "      <td>Ecuador</td>\n",
              "      <td>Venezuela</td>\n",
              "      <td>5</td>\n",
              "      <td>0</td>\n",
              "      <td>FIFA World Cup qualification</td>\n",
              "      <td>Quito</td>\n",
              "      <td>Ecuador</td>\n",
              "      <td>False</td>\n",
              "    </tr>\n",
              "    <tr>\n",
              "      <th>3</th>\n",
              "      <td>1</td>\n",
              "      <td>Germany</td>\n",
              "      <td>GER</td>\n",
              "      <td>0.0</td>\n",
              "      <td>57</td>\n",
              "      <td>0</td>\n",
              "      <td>UEFA</td>\n",
              "      <td>1993-08-08</td>\n",
              "      <td>Guinea</td>\n",
              "      <td>Sierra Leone</td>\n",
              "      <td>1</td>\n",
              "      <td>0</td>\n",
              "      <td>Friendly</td>\n",
              "      <td>Conakry</td>\n",
              "      <td>Guinea</td>\n",
              "      <td>False</td>\n",
              "    </tr>\n",
              "    <tr>\n",
              "      <th>4</th>\n",
              "      <td>1</td>\n",
              "      <td>Germany</td>\n",
              "      <td>GER</td>\n",
              "      <td>0.0</td>\n",
              "      <td>57</td>\n",
              "      <td>0</td>\n",
              "      <td>UEFA</td>\n",
              "      <td>1993-08-08</td>\n",
              "      <td>Paraguay</td>\n",
              "      <td>Argentina</td>\n",
              "      <td>1</td>\n",
              "      <td>3</td>\n",
              "      <td>FIFA World Cup qualification</td>\n",
              "      <td>Asunción</td>\n",
              "      <td>Paraguay</td>\n",
              "      <td>False</td>\n",
              "    </tr>\n",
              "    <tr>\n",
              "      <th>...</th>\n",
              "      <td>...</td>\n",
              "      <td>...</td>\n",
              "      <td>...</td>\n",
              "      <td>...</td>\n",
              "      <td>...</td>\n",
              "      <td>...</td>\n",
              "      <td>...</td>\n",
              "      <td>...</td>\n",
              "      <td>...</td>\n",
              "      <td>...</td>\n",
              "      <td>...</td>\n",
              "      <td>...</td>\n",
              "      <td>...</td>\n",
              "      <td>...</td>\n",
              "      <td>...</td>\n",
              "      <td>...</td>\n",
              "    </tr>\n",
              "    <tr>\n",
              "      <th>212826</th>\n",
              "      <td>206</td>\n",
              "      <td>Tonga</td>\n",
              "      <td>TGA</td>\n",
              "      <td>0.0</td>\n",
              "      <td>0</td>\n",
              "      <td>1</td>\n",
              "      <td>OFC</td>\n",
              "      <td>2018-06-07</td>\n",
              "      <td>Abkhazia</td>\n",
              "      <td>United Koreans in Japan</td>\n",
              "      <td>2</td>\n",
              "      <td>0</td>\n",
              "      <td>CONIFA World Football Cup</td>\n",
              "      <td>Bromley</td>\n",
              "      <td>England</td>\n",
              "      <td>True</td>\n",
              "    </tr>\n",
              "    <tr>\n",
              "      <th>212827</th>\n",
              "      <td>206</td>\n",
              "      <td>Tonga</td>\n",
              "      <td>TGA</td>\n",
              "      <td>0.0</td>\n",
              "      <td>0</td>\n",
              "      <td>1</td>\n",
              "      <td>OFC</td>\n",
              "      <td>2018-06-07</td>\n",
              "      <td>Barawa</td>\n",
              "      <td>Panjab</td>\n",
              "      <td>0</td>\n",
              "      <td>5</td>\n",
              "      <td>CONIFA World Football Cup</td>\n",
              "      <td>Sutton</td>\n",
              "      <td>England</td>\n",
              "      <td>False</td>\n",
              "    </tr>\n",
              "    <tr>\n",
              "      <th>212828</th>\n",
              "      <td>206</td>\n",
              "      <td>Tonga</td>\n",
              "      <td>TGA</td>\n",
              "      <td>0.0</td>\n",
              "      <td>0</td>\n",
              "      <td>1</td>\n",
              "      <td>OFC</td>\n",
              "      <td>2018-06-07</td>\n",
              "      <td>Cascadia</td>\n",
              "      <td>Western Armenia</td>\n",
              "      <td>4</td>\n",
              "      <td>0</td>\n",
              "      <td>CONIFA World Football Cup</td>\n",
              "      <td>Bromley</td>\n",
              "      <td>England</td>\n",
              "      <td>True</td>\n",
              "    </tr>\n",
              "    <tr>\n",
              "      <th>212829</th>\n",
              "      <td>206</td>\n",
              "      <td>Tonga</td>\n",
              "      <td>TGA</td>\n",
              "      <td>0.0</td>\n",
              "      <td>0</td>\n",
              "      <td>1</td>\n",
              "      <td>OFC</td>\n",
              "      <td>2018-06-07</td>\n",
              "      <td>Northern Cyprus</td>\n",
              "      <td>Padania</td>\n",
              "      <td>3</td>\n",
              "      <td>2</td>\n",
              "      <td>CONIFA World Football Cup</td>\n",
              "      <td>Carshalton</td>\n",
              "      <td>England</td>\n",
              "      <td>True</td>\n",
              "    </tr>\n",
              "    <tr>\n",
              "      <th>212830</th>\n",
              "      <td>206</td>\n",
              "      <td>Tonga</td>\n",
              "      <td>TGA</td>\n",
              "      <td>0.0</td>\n",
              "      <td>0</td>\n",
              "      <td>1</td>\n",
              "      <td>OFC</td>\n",
              "      <td>2018-06-07</td>\n",
              "      <td>Kárpátalja</td>\n",
              "      <td>Székely Land</td>\n",
              "      <td>4</td>\n",
              "      <td>2</td>\n",
              "      <td>CONIFA World Football Cup</td>\n",
              "      <td>Carshalton</td>\n",
              "      <td>England</td>\n",
              "      <td>True</td>\n",
              "    </tr>\n",
              "  </tbody>\n",
              "</table>\n",
              "<p>212831 rows × 16 columns</p>\n",
              "</div>"
            ],
            "text/plain": [
              "        Rank  Country Abbrev  ...        City     Venue  Neutral\n",
              "0          1  Germany    GER  ...      La Paz   Bolivia    False\n",
              "1          1  Germany    GER  ...      Maceió    Brazil    False\n",
              "2          1  Germany    GER  ...       Quito   Ecuador    False\n",
              "3          1  Germany    GER  ...     Conakry    Guinea    False\n",
              "4          1  Germany    GER  ...    Asunción  Paraguay    False\n",
              "...      ...      ...    ...  ...         ...       ...      ...\n",
              "212826   206    Tonga    TGA  ...     Bromley   England     True\n",
              "212827   206    Tonga    TGA  ...      Sutton   England    False\n",
              "212828   206    Tonga    TGA  ...     Bromley   England     True\n",
              "212829   206    Tonga    TGA  ...  Carshalton   England     True\n",
              "212830   206    Tonga    TGA  ...  Carshalton   England     True\n",
              "\n",
              "[212831 rows x 16 columns]"
            ]
          },
          "metadata": {
            "tags": []
          },
          "execution_count": 15
        }
      ]
    },
    {
      "cell_type": "code",
      "metadata": {
        "id": "RFo9o-yeKW9G",
        "colab_type": "code",
        "outputId": "c6adeafa-3519-4163-856e-f999360ae930",
        "colab": {
          "base_uri": "https://localhost:8080/",
          "height": 306
        }
      },
      "source": [
        "# Checking again for any missing values after merging our data\n",
        "\n",
        "fifa.isnull().any()\n",
        "\n",
        "# We have confirmed that our data has no missing values"
      ],
      "execution_count": 16,
      "outputs": [
        {
          "output_type": "execute_result",
          "data": {
            "text/plain": [
              "Rank              False\n",
              "Country           False\n",
              "Abbrev            False\n",
              "TotalPoints       False\n",
              "PreviousPoints    False\n",
              "Rankchange        False\n",
              "Confederation     False\n",
              "Date              False\n",
              "HomeTeam          False\n",
              "AwayTeam          False\n",
              "HomeScore         False\n",
              "AwayScore         False\n",
              "Tournament        False\n",
              "City              False\n",
              "Venue             False\n",
              "Neutral           False\n",
              "dtype: bool"
            ]
          },
          "metadata": {
            "tags": []
          },
          "execution_count": 16
        }
      ]
    },
    {
      "cell_type": "code",
      "metadata": {
        "id": "3sTIxeTFKxXQ",
        "colab_type": "code",
        "outputId": "17f6e127-c1a6-4ca1-85c1-e3bce6e2920b",
        "colab": {
          "base_uri": "https://localhost:8080/",
          "height": 830
        }
      },
      "source": [
        "# Dropping all duplicates from our data\n",
        "\n",
        "fifa.drop_duplicates(inplace=True)\n",
        "fifa"
      ],
      "execution_count": 0,
      "outputs": [
        {
          "output_type": "execute_result",
          "data": {
            "text/html": [
              "<div>\n",
              "<style scoped>\n",
              "    .dataframe tbody tr th:only-of-type {\n",
              "        vertical-align: middle;\n",
              "    }\n",
              "\n",
              "    .dataframe tbody tr th {\n",
              "        vertical-align: top;\n",
              "    }\n",
              "\n",
              "    .dataframe thead th {\n",
              "        text-align: right;\n",
              "    }\n",
              "</style>\n",
              "<table border=\"1\" class=\"dataframe\">\n",
              "  <thead>\n",
              "    <tr style=\"text-align: right;\">\n",
              "      <th></th>\n",
              "      <th>Rank</th>\n",
              "      <th>Country</th>\n",
              "      <th>Abbrev</th>\n",
              "      <th>TotalPoints</th>\n",
              "      <th>PreviousPoints</th>\n",
              "      <th>Rankchange</th>\n",
              "      <th>Confederation</th>\n",
              "      <th>Date</th>\n",
              "      <th>HomeTeam</th>\n",
              "      <th>AwayTeam</th>\n",
              "      <th>HomeScore</th>\n",
              "      <th>AwayScore</th>\n",
              "      <th>Tournament</th>\n",
              "      <th>City</th>\n",
              "      <th>Venue</th>\n",
              "      <th>Neutral</th>\n",
              "    </tr>\n",
              "  </thead>\n",
              "  <tbody>\n",
              "    <tr>\n",
              "      <th>0</th>\n",
              "      <td>1</td>\n",
              "      <td>Germany</td>\n",
              "      <td>GER</td>\n",
              "      <td>0.0</td>\n",
              "      <td>57</td>\n",
              "      <td>0</td>\n",
              "      <td>UEFA</td>\n",
              "      <td>1993-08-08</td>\n",
              "      <td>Bolivia</td>\n",
              "      <td>Uruguay</td>\n",
              "      <td>3</td>\n",
              "      <td>1</td>\n",
              "      <td>FIFA World Cup qualification</td>\n",
              "      <td>La Paz</td>\n",
              "      <td>Bolivia</td>\n",
              "      <td>False</td>\n",
              "    </tr>\n",
              "    <tr>\n",
              "      <th>1</th>\n",
              "      <td>1</td>\n",
              "      <td>Germany</td>\n",
              "      <td>GER</td>\n",
              "      <td>0.0</td>\n",
              "      <td>57</td>\n",
              "      <td>0</td>\n",
              "      <td>UEFA</td>\n",
              "      <td>1993-08-08</td>\n",
              "      <td>Brazil</td>\n",
              "      <td>Mexico</td>\n",
              "      <td>1</td>\n",
              "      <td>1</td>\n",
              "      <td>Friendly</td>\n",
              "      <td>Maceió</td>\n",
              "      <td>Brazil</td>\n",
              "      <td>False</td>\n",
              "    </tr>\n",
              "    <tr>\n",
              "      <th>2</th>\n",
              "      <td>1</td>\n",
              "      <td>Germany</td>\n",
              "      <td>GER</td>\n",
              "      <td>0.0</td>\n",
              "      <td>57</td>\n",
              "      <td>0</td>\n",
              "      <td>UEFA</td>\n",
              "      <td>1993-08-08</td>\n",
              "      <td>Ecuador</td>\n",
              "      <td>Venezuela</td>\n",
              "      <td>5</td>\n",
              "      <td>0</td>\n",
              "      <td>FIFA World Cup qualification</td>\n",
              "      <td>Quito</td>\n",
              "      <td>Ecuador</td>\n",
              "      <td>False</td>\n",
              "    </tr>\n",
              "    <tr>\n",
              "      <th>3</th>\n",
              "      <td>1</td>\n",
              "      <td>Germany</td>\n",
              "      <td>GER</td>\n",
              "      <td>0.0</td>\n",
              "      <td>57</td>\n",
              "      <td>0</td>\n",
              "      <td>UEFA</td>\n",
              "      <td>1993-08-08</td>\n",
              "      <td>Guinea</td>\n",
              "      <td>Sierra Leone</td>\n",
              "      <td>1</td>\n",
              "      <td>0</td>\n",
              "      <td>Friendly</td>\n",
              "      <td>Conakry</td>\n",
              "      <td>Guinea</td>\n",
              "      <td>False</td>\n",
              "    </tr>\n",
              "    <tr>\n",
              "      <th>4</th>\n",
              "      <td>1</td>\n",
              "      <td>Germany</td>\n",
              "      <td>GER</td>\n",
              "      <td>0.0</td>\n",
              "      <td>57</td>\n",
              "      <td>0</td>\n",
              "      <td>UEFA</td>\n",
              "      <td>1993-08-08</td>\n",
              "      <td>Paraguay</td>\n",
              "      <td>Argentina</td>\n",
              "      <td>1</td>\n",
              "      <td>3</td>\n",
              "      <td>FIFA World Cup qualification</td>\n",
              "      <td>Asunción</td>\n",
              "      <td>Paraguay</td>\n",
              "      <td>False</td>\n",
              "    </tr>\n",
              "    <tr>\n",
              "      <th>...</th>\n",
              "      <td>...</td>\n",
              "      <td>...</td>\n",
              "      <td>...</td>\n",
              "      <td>...</td>\n",
              "      <td>...</td>\n",
              "      <td>...</td>\n",
              "      <td>...</td>\n",
              "      <td>...</td>\n",
              "      <td>...</td>\n",
              "      <td>...</td>\n",
              "      <td>...</td>\n",
              "      <td>...</td>\n",
              "      <td>...</td>\n",
              "      <td>...</td>\n",
              "      <td>...</td>\n",
              "      <td>...</td>\n",
              "    </tr>\n",
              "    <tr>\n",
              "      <th>212826</th>\n",
              "      <td>206</td>\n",
              "      <td>Tonga</td>\n",
              "      <td>TGA</td>\n",
              "      <td>0.0</td>\n",
              "      <td>0</td>\n",
              "      <td>1</td>\n",
              "      <td>OFC</td>\n",
              "      <td>2018-06-07</td>\n",
              "      <td>Abkhazia</td>\n",
              "      <td>United Koreans in Japan</td>\n",
              "      <td>2</td>\n",
              "      <td>0</td>\n",
              "      <td>CONIFA World Football Cup</td>\n",
              "      <td>Bromley</td>\n",
              "      <td>England</td>\n",
              "      <td>True</td>\n",
              "    </tr>\n",
              "    <tr>\n",
              "      <th>212827</th>\n",
              "      <td>206</td>\n",
              "      <td>Tonga</td>\n",
              "      <td>TGA</td>\n",
              "      <td>0.0</td>\n",
              "      <td>0</td>\n",
              "      <td>1</td>\n",
              "      <td>OFC</td>\n",
              "      <td>2018-06-07</td>\n",
              "      <td>Barawa</td>\n",
              "      <td>Panjab</td>\n",
              "      <td>0</td>\n",
              "      <td>5</td>\n",
              "      <td>CONIFA World Football Cup</td>\n",
              "      <td>Sutton</td>\n",
              "      <td>England</td>\n",
              "      <td>False</td>\n",
              "    </tr>\n",
              "    <tr>\n",
              "      <th>212828</th>\n",
              "      <td>206</td>\n",
              "      <td>Tonga</td>\n",
              "      <td>TGA</td>\n",
              "      <td>0.0</td>\n",
              "      <td>0</td>\n",
              "      <td>1</td>\n",
              "      <td>OFC</td>\n",
              "      <td>2018-06-07</td>\n",
              "      <td>Cascadia</td>\n",
              "      <td>Western Armenia</td>\n",
              "      <td>4</td>\n",
              "      <td>0</td>\n",
              "      <td>CONIFA World Football Cup</td>\n",
              "      <td>Bromley</td>\n",
              "      <td>England</td>\n",
              "      <td>True</td>\n",
              "    </tr>\n",
              "    <tr>\n",
              "      <th>212829</th>\n",
              "      <td>206</td>\n",
              "      <td>Tonga</td>\n",
              "      <td>TGA</td>\n",
              "      <td>0.0</td>\n",
              "      <td>0</td>\n",
              "      <td>1</td>\n",
              "      <td>OFC</td>\n",
              "      <td>2018-06-07</td>\n",
              "      <td>Northern Cyprus</td>\n",
              "      <td>Padania</td>\n",
              "      <td>3</td>\n",
              "      <td>2</td>\n",
              "      <td>CONIFA World Football Cup</td>\n",
              "      <td>Carshalton</td>\n",
              "      <td>England</td>\n",
              "      <td>True</td>\n",
              "    </tr>\n",
              "    <tr>\n",
              "      <th>212830</th>\n",
              "      <td>206</td>\n",
              "      <td>Tonga</td>\n",
              "      <td>TGA</td>\n",
              "      <td>0.0</td>\n",
              "      <td>0</td>\n",
              "      <td>1</td>\n",
              "      <td>OFC</td>\n",
              "      <td>2018-06-07</td>\n",
              "      <td>Kárpátalja</td>\n",
              "      <td>Székely Land</td>\n",
              "      <td>4</td>\n",
              "      <td>2</td>\n",
              "      <td>CONIFA World Football Cup</td>\n",
              "      <td>Carshalton</td>\n",
              "      <td>England</td>\n",
              "      <td>True</td>\n",
              "    </tr>\n",
              "  </tbody>\n",
              "</table>\n",
              "<p>212798 rows × 16 columns</p>\n",
              "</div>"
            ],
            "text/plain": [
              "        Rank  Country Abbrev  ...        City     Venue  Neutral\n",
              "0          1  Germany    GER  ...      La Paz   Bolivia    False\n",
              "1          1  Germany    GER  ...      Maceió    Brazil    False\n",
              "2          1  Germany    GER  ...       Quito   Ecuador    False\n",
              "3          1  Germany    GER  ...     Conakry    Guinea    False\n",
              "4          1  Germany    GER  ...    Asunción  Paraguay    False\n",
              "...      ...      ...    ...  ...         ...       ...      ...\n",
              "212826   206    Tonga    TGA  ...     Bromley   England     True\n",
              "212827   206    Tonga    TGA  ...      Sutton   England    False\n",
              "212828   206    Tonga    TGA  ...     Bromley   England     True\n",
              "212829   206    Tonga    TGA  ...  Carshalton   England     True\n",
              "212830   206    Tonga    TGA  ...  Carshalton   England     True\n",
              "\n",
              "[212798 rows x 16 columns]"
            ]
          },
          "metadata": {
            "tags": []
          },
          "execution_count": 10
        }
      ]
    },
    {
      "cell_type": "code",
      "metadata": {
        "id": "H4yVIw8lpvC0",
        "colab_type": "code",
        "colab": {
          "base_uri": "https://localhost:8080/",
          "height": 1000
        },
        "outputId": "dc6ec5db-a5f7-4621-c925-db2c2165382d"
      },
      "source": [
        "# Checking for outliers \n",
        "\n",
        "col_names = ['Rank',\t'TotalPoints', 'PreviousPoints', 'Rankchange', 'HomeScore',\t'AwayScore']\n",
        "\n",
        "fig, ax = plt.subplots(len(col_names), figsize=(8,40))\n",
        "\n",
        "for i, col_val in enumerate(col_names):\n",
        "\n",
        "    sns.boxplot(y=fifa[col_val], notch=True, ax=ax[i])\n",
        "    ax[i].set_title('Box plot - {}'.format(col_val), fontsize=10)\n",
        "    ax[i].set_xlabel(col_val, fontsize=8)\n",
        "\n",
        "plt.show()"
      ],
      "execution_count": 17,
      "outputs": [
        {
          "output_type": "display_data",
          "data": {
            "image/png": "[encoded data removed]",
            "text/plain": [
              "<Figure size 576x2880 with 6 Axes>"
            ]
          },
          "metadata": {
            "tags": [],
            "needs_background": "light"
          }
        }
      ]
    },
    {
      "cell_type": "code",
      "metadata": {
        "id": "JAPhzPap99dm",
        "colab_type": "code",
        "colab": {}
      },
      "source": [
        "# We will then remove outliers in our merged data using the z score\n",
        "\n",
        "numeric = fifa[['Rank',\t'TotalPoints', 'PreviousPoints', 'Rankchange', 'HomeScore',\t'AwayScore']]\n",
        "\n",
        "def detect_outlier(fifa):\n",
        "  outliers=[]\n",
        "  threshold=3\n",
        "  mean_1 = np.mean(fifa)\n",
        "  std_1 = np.std(fifa)\n",
        "\n",
        "  for y in fifa:\n",
        "    z_score = (y - mean_1)/std_1\n",
        "    if np.abs(z_score) > threshold:\n",
        "      outliers.append(y)\n",
        "  return outliers"
      ],
      "execution_count": 0,
      "outputs": []
    },
    {
      "cell_type": "code",
      "metadata": {
        "id": "6vMdV8uF9_iO",
        "colab_type": "code",
        "outputId": "d75d1753-d139-4b29-b0cf-ed2ed1168dc2",
        "colab": {
          "base_uri": "https://localhost:8080/",
          "height": 136
        }
      },
      "source": [
        "from scipy import stats\n",
        "\n",
        "z = np.abs(stats.zscore(numeric))\n",
        "print(z)"
      ],
      "execution_count": 19,
      "outputs": [
        {
          "output_type": "stream",
          "text": [
            "[[1.71993775 0.25987631 0.96321448 0.00203465 0.66897049 0.03739112]\n",
            " [1.71993775 0.25987631 0.96321448 0.00203465 0.34624341 0.03739112]\n",
            " [1.71993775 0.25987631 0.96321448 0.00203465 1.68418439 0.83239512]\n",
            " ...\n",
            " [1.77567766 0.25987631 1.15638182 0.22240938 1.17657744 0.83239512]\n",
            " [1.77567766 0.25987631 1.15638182 0.22240938 0.66897049 0.75761288]\n",
            " [1.77567766 0.25987631 1.15638182 0.22240938 1.17657744 0.75761288]]\n"
          ],
          "name": "stdout"
        }
      ]
    },
    {
      "cell_type": "code",
      "metadata": {
        "id": "KXXBZB1E9-_C",
        "colab_type": "code",
        "outputId": "05038a97-2695-4721-b6bd-20826248a1f6",
        "colab": {
          "base_uri": "https://localhost:8080/",
          "height": 51
        }
      },
      "source": [
        "data_o = numeric[(z < 3).all(axis=1)]\n",
        "\n",
        "print(f\"Previous dataframe size : {numeric.shape[0]}\")\n",
        "print(f\"New dataframe size : {data_o.shape[0]}\")"
      ],
      "execution_count": 20,
      "outputs": [
        {
          "output_type": "stream",
          "text": [
            "Previous dataframe size : 212831\n",
            "New dataframe size : 193659\n"
          ],
          "name": "stdout"
        }
      ]
    },
    {
      "cell_type": "code",
      "metadata": {
        "id": "5vT9dTsASYv_",
        "colab_type": "code",
        "colab": {}
      },
      "source": [
        "# Combining our data to obtain the cleaned dataset\n",
        "\n",
        "columns = fifa[['Country', 'Abbrev', 'Confederation',\t'Date',\t'HomeTeam',\t'AwayTeam',\t'Tournament',\t'City',\t'Venue',\t'Neutral']]\n",
        "\n",
        "data_o = pd.concat([columns, data_o], axis=1)\n",
        "\n"
      ],
      "execution_count": 0,
      "outputs": []
    },
    {
      "cell_type": "code",
      "metadata": {
        "id": "K_eN79qEUIM4",
        "colab_type": "code",
        "colab": {}
      },
      "source": [
        "data_o.to_csv('fifa_data.csv')"
      ],
      "execution_count": 0,
      "outputs": []
    },
    {
      "cell_type": "code",
      "metadata": {
        "id": "4DpxlYTYSqE6",
        "colab_type": "code",
        "outputId": "fc7e1563-0e89-4377-913a-c1151d8c579e",
        "colab": {
          "base_uri": "https://localhost:8080/",
          "height": 377
        }
      },
      "source": [
        "data = pd.read_csv('fifa_data.csv')\n",
        "data.head()"
      ],
      "execution_count": 23,
      "outputs": [
        {
          "output_type": "execute_result",
          "data": {
            "text/html": [
              "<div>\n",
              "<style scoped>\n",
              "    .dataframe tbody tr th:only-of-type {\n",
              "        vertical-align: middle;\n",
              "    }\n",
              "\n",
              "    .dataframe tbody tr th {\n",
              "        vertical-align: top;\n",
              "    }\n",
              "\n",
              "    .dataframe thead th {\n",
              "        text-align: right;\n",
              "    }\n",
              "</style>\n",
              "<table border=\"1\" class=\"dataframe\">\n",
              "  <thead>\n",
              "    <tr style=\"text-align: right;\">\n",
              "      <th></th>\n",
              "      <th>Unnamed: 0</th>\n",
              "      <th>Country</th>\n",
              "      <th>Abbrev</th>\n",
              "      <th>Confederation</th>\n",
              "      <th>Date</th>\n",
              "      <th>HomeTeam</th>\n",
              "      <th>AwayTeam</th>\n",
              "      <th>Tournament</th>\n",
              "      <th>City</th>\n",
              "      <th>Venue</th>\n",
              "      <th>Neutral</th>\n",
              "      <th>Rank</th>\n",
              "      <th>TotalPoints</th>\n",
              "      <th>PreviousPoints</th>\n",
              "      <th>Rankchange</th>\n",
              "      <th>HomeScore</th>\n",
              "      <th>AwayScore</th>\n",
              "    </tr>\n",
              "  </thead>\n",
              "  <tbody>\n",
              "    <tr>\n",
              "      <th>0</th>\n",
              "      <td>0</td>\n",
              "      <td>Germany</td>\n",
              "      <td>GER</td>\n",
              "      <td>UEFA</td>\n",
              "      <td>1993-08-08</td>\n",
              "      <td>Bolivia</td>\n",
              "      <td>Uruguay</td>\n",
              "      <td>FIFA World Cup qualification</td>\n",
              "      <td>La Paz</td>\n",
              "      <td>Bolivia</td>\n",
              "      <td>False</td>\n",
              "      <td>1.0</td>\n",
              "      <td>0.0</td>\n",
              "      <td>57.0</td>\n",
              "      <td>0.0</td>\n",
              "      <td>3.0</td>\n",
              "      <td>1.0</td>\n",
              "    </tr>\n",
              "    <tr>\n",
              "      <th>1</th>\n",
              "      <td>1</td>\n",
              "      <td>Germany</td>\n",
              "      <td>GER</td>\n",
              "      <td>UEFA</td>\n",
              "      <td>1993-08-08</td>\n",
              "      <td>Brazil</td>\n",
              "      <td>Mexico</td>\n",
              "      <td>Friendly</td>\n",
              "      <td>Maceió</td>\n",
              "      <td>Brazil</td>\n",
              "      <td>False</td>\n",
              "      <td>1.0</td>\n",
              "      <td>0.0</td>\n",
              "      <td>57.0</td>\n",
              "      <td>0.0</td>\n",
              "      <td>1.0</td>\n",
              "      <td>1.0</td>\n",
              "    </tr>\n",
              "    <tr>\n",
              "      <th>2</th>\n",
              "      <td>2</td>\n",
              "      <td>Germany</td>\n",
              "      <td>GER</td>\n",
              "      <td>UEFA</td>\n",
              "      <td>1993-08-08</td>\n",
              "      <td>Ecuador</td>\n",
              "      <td>Venezuela</td>\n",
              "      <td>FIFA World Cup qualification</td>\n",
              "      <td>Quito</td>\n",
              "      <td>Ecuador</td>\n",
              "      <td>False</td>\n",
              "      <td>1.0</td>\n",
              "      <td>0.0</td>\n",
              "      <td>57.0</td>\n",
              "      <td>0.0</td>\n",
              "      <td>5.0</td>\n",
              "      <td>0.0</td>\n",
              "    </tr>\n",
              "    <tr>\n",
              "      <th>3</th>\n",
              "      <td>3</td>\n",
              "      <td>Germany</td>\n",
              "      <td>GER</td>\n",
              "      <td>UEFA</td>\n",
              "      <td>1993-08-08</td>\n",
              "      <td>Guinea</td>\n",
              "      <td>Sierra Leone</td>\n",
              "      <td>Friendly</td>\n",
              "      <td>Conakry</td>\n",
              "      <td>Guinea</td>\n",
              "      <td>False</td>\n",
              "      <td>1.0</td>\n",
              "      <td>0.0</td>\n",
              "      <td>57.0</td>\n",
              "      <td>0.0</td>\n",
              "      <td>1.0</td>\n",
              "      <td>0.0</td>\n",
              "    </tr>\n",
              "    <tr>\n",
              "      <th>4</th>\n",
              "      <td>4</td>\n",
              "      <td>Germany</td>\n",
              "      <td>GER</td>\n",
              "      <td>UEFA</td>\n",
              "      <td>1993-08-08</td>\n",
              "      <td>Paraguay</td>\n",
              "      <td>Argentina</td>\n",
              "      <td>FIFA World Cup qualification</td>\n",
              "      <td>Asunción</td>\n",
              "      <td>Paraguay</td>\n",
              "      <td>False</td>\n",
              "      <td>1.0</td>\n",
              "      <td>0.0</td>\n",
              "      <td>57.0</td>\n",
              "      <td>0.0</td>\n",
              "      <td>1.0</td>\n",
              "      <td>3.0</td>\n",
              "    </tr>\n",
              "  </tbody>\n",
              "</table>\n",
              "</div>"
            ],
            "text/plain": [
              "   Unnamed: 0  Country Abbrev  ... Rankchange HomeScore AwayScore\n",
              "0           0  Germany    GER  ...        0.0       3.0       1.0\n",
              "1           1  Germany    GER  ...        0.0       1.0       1.0\n",
              "2           2  Germany    GER  ...        0.0       5.0       0.0\n",
              "3           3  Germany    GER  ...        0.0       1.0       0.0\n",
              "4           4  Germany    GER  ...        0.0       1.0       3.0\n",
              "\n",
              "[5 rows x 17 columns]"
            ]
          },
          "metadata": {
            "tags": []
          },
          "execution_count": 23
        }
      ]
    },
    {
      "cell_type": "code",
      "metadata": {
        "id": "uTsBM1bcVZS9",
        "colab_type": "code",
        "outputId": "0e4221e4-7c7c-41ef-c305-86c25c64f6d9",
        "colab": {
          "base_uri": "https://localhost:8080/",
          "height": 102
        }
      },
      "source": [
        "# Viewing our columns of records in our dataset\n",
        "\n",
        "data.columns"
      ],
      "execution_count": 0,
      "outputs": [
        {
          "output_type": "execute_result",
          "data": {
            "text/plain": [
              "Index(['Unnamed: 0', 'Country', 'Abbrev', 'Confederation', 'Date', 'HomeTeam',\n",
              "       'AwayTeam', 'Tournament', 'City', 'Venue', 'Neutral', 'Rank',\n",
              "       'TotalPoints', 'PreviousPoints', 'Rankchange', 'HomeScore',\n",
              "       'AwayScore'],\n",
              "      dtype='object')"
            ]
          },
          "metadata": {
            "tags": []
          },
          "execution_count": 26
        }
      ]
    },
    {
      "cell_type": "code",
      "metadata": {
        "id": "kEZB1VNkWVv_",
        "colab_type": "code",
        "outputId": "8d5319ae-ee35-4d3b-db3e-69b5b6a9e675",
        "colab": {
          "base_uri": "https://localhost:8080/",
          "height": 323
        }
      },
      "source": [
        "# Checking for null values in our data \n",
        "\n",
        "data.isnull().sum()\n",
        "\n",
        "# There are some null values in our data after we dropped outliers in our numerical data"
      ],
      "execution_count": 0,
      "outputs": [
        {
          "output_type": "execute_result",
          "data": {
            "text/plain": [
              "Unnamed: 0            0\n",
              "Country               0\n",
              "Abbrev                0\n",
              "Confederation         0\n",
              "Date                  0\n",
              "HomeTeam              0\n",
              "AwayTeam              0\n",
              "Tournament            0\n",
              "City                  0\n",
              "Venue                 0\n",
              "Neutral               0\n",
              "Rank              19169\n",
              "TotalPoints       19169\n",
              "PreviousPoints    19169\n",
              "Rankchange        19169\n",
              "HomeScore         19169\n",
              "AwayScore         19169\n",
              "dtype: int64"
            ]
          },
          "metadata": {
            "tags": []
          },
          "execution_count": 32
        }
      ]
    },
    {
      "cell_type": "code",
      "metadata": {
        "id": "e2q4dg0iXFc-",
        "colab_type": "code",
        "colab": {}
      },
      "source": [
        "# We will drop all our rows with null values.\n",
        "\n",
        "data.dropna(axis=0, inplace=True)"
      ],
      "execution_count": 0,
      "outputs": []
    },
    {
      "cell_type": "code",
      "metadata": {
        "id": "GepKBCheXNq5",
        "colab_type": "code",
        "outputId": "e9964f3e-573f-4aa8-f504-d5d422244967",
        "colab": {
          "base_uri": "https://localhost:8080/",
          "height": 323
        }
      },
      "source": [
        "# Checking for any remaining null values\n",
        "\n",
        "data.isnull().sum()"
      ],
      "execution_count": 25,
      "outputs": [
        {
          "output_type": "execute_result",
          "data": {
            "text/plain": [
              "Unnamed: 0        0\n",
              "Country           0\n",
              "Abbrev            0\n",
              "Confederation     0\n",
              "Date              0\n",
              "HomeTeam          0\n",
              "AwayTeam          0\n",
              "Tournament        0\n",
              "City              0\n",
              "Venue             0\n",
              "Neutral           0\n",
              "Rank              0\n",
              "TotalPoints       0\n",
              "PreviousPoints    0\n",
              "Rankchange        0\n",
              "HomeScore         0\n",
              "AwayScore         0\n",
              "dtype: int64"
            ]
          },
          "metadata": {
            "tags": []
          },
          "execution_count": 25
        }
      ]
    },
    {
      "cell_type": "code",
      "metadata": {
        "id": "OCxq3ywhXTIj",
        "colab_type": "code",
        "outputId": "8c922e3d-b4ee-41e1-dfad-150e09e71254",
        "colab": {
          "base_uri": "https://localhost:8080/",
          "height": 34
        }
      },
      "source": [
        "# Determining the number of records in our dataset\n",
        "\n",
        "data.shape"
      ],
      "execution_count": 0,
      "outputs": [
        {
          "output_type": "execute_result",
          "data": {
            "text/plain": [
              "(193629, 17)"
            ]
          },
          "metadata": {
            "tags": []
          },
          "execution_count": 36
        }
      ]
    },
    {
      "cell_type": "code",
      "metadata": {
        "id": "6xHnDek_MWCh",
        "colab_type": "code",
        "outputId": "68a68b53-1334-4e15-e854-7d4bac84df05",
        "colab": {
          "base_uri": "https://localhost:8080/",
          "height": 425
        }
      },
      "source": [
        "data.info()"
      ],
      "execution_count": 0,
      "outputs": [
        {
          "output_type": "stream",
          "text": [
            "<class 'pandas.core.frame.DataFrame'>\n",
            "Int64Index: 193629 entries, 0 to 212797\n",
            "Data columns (total 17 columns):\n",
            " #   Column          Non-Null Count   Dtype  \n",
            "---  ------          --------------   -----  \n",
            " 0   Unnamed: 0      193629 non-null  int64  \n",
            " 1   Country         193629 non-null  object \n",
            " 2   Abbrev          193629 non-null  object \n",
            " 3   Confederation   193629 non-null  object \n",
            " 4   Date            193629 non-null  object \n",
            " 5   HomeTeam        193629 non-null  object \n",
            " 6   AwayTeam        193629 non-null  object \n",
            " 7   Tournament      193629 non-null  object \n",
            " 8   City            193629 non-null  object \n",
            " 9   Venue           193629 non-null  object \n",
            " 10  Neutral         193629 non-null  bool   \n",
            " 11  Rank            193629 non-null  float64\n",
            " 12  TotalPoints     193629 non-null  float64\n",
            " 13  PreviousPoints  193629 non-null  float64\n",
            " 14  Rankchange      193629 non-null  float64\n",
            " 15  HomeScore       193629 non-null  float64\n",
            " 16  AwayScore       193629 non-null  float64\n",
            "dtypes: bool(1), float64(6), int64(1), object(9)\n",
            "memory usage: 25.3+ MB\n"
          ],
          "name": "stdout"
        }
      ]
    },
    {
      "cell_type": "markdown",
      "metadata": {
        "id": "Hq4x27gOMjIX",
        "colab_type": "text"
      },
      "source": [
        "Now that we have cleaned our data, we can then proceed to creating our prediction models"
      ]
    },
    {
      "cell_type": "markdown",
      "metadata": {
        "id": "RKXpB8GuM0kP",
        "colab_type": "text"
      },
      "source": [
        "## 6. Exploratory Data Analysis"
      ]
    },
    {
      "cell_type": "markdown",
      "metadata": {
        "id": "eYb0JesUbbCT",
        "colab_type": "text"
      },
      "source": [
        "## Univariate analysis"
      ]
    },
    {
      "cell_type": "code",
      "metadata": {
        "id": "qwTwUIVZbotj",
        "colab_type": "code",
        "outputId": "0ba9b388-bece-4d54-a93a-a0daaa79b1aa",
        "colab": {
          "base_uri": "https://localhost:8080/",
          "height": 1000
        }
      },
      "source": [
        "# Creating a frequency table for our categorical data\n",
        "# Country\tAbbrev\tTotalPoints\tPreviousPoints\tRankchange\tDate\tHomeTeam\tAwayTeam\tHomeScore\tAwayScore\tTournament\tCity\tVenue\tNeutral\n",
        "\n",
        "print('COUNTRY')\n",
        "print(data.Country.value_counts())\n",
        "print(\"\\n\")\n",
        "\n",
        "print('DATE')\n",
        "print(data.Date.value_counts())\n",
        "print(\"\\n\")\n",
        "\n",
        "print('HOMETEAM')\n",
        "print(data.HomeTeam.value_counts())\n",
        "print(\"\\n\")\n",
        "\n",
        "print('TOURNAMENT')\n",
        "print(data.Tournament.value_counts())\n",
        "print(\"\\n\")\n",
        "\n",
        "print('AWAYTEAM')\n",
        "print(data.AwayTeam.value_counts())\n",
        "print(\"\\n\")\n",
        "\n",
        "print('CITY')\n",
        "print(data.City.value_counts())\n",
        "print(\"\\n\")\n",
        "\n",
        "print('VENUE')\n",
        "print(data.Venue.value_counts())\n",
        "print(\"\\n\")\n",
        "\n",
        "print('CONFEDERATION')\n",
        "print(data.Confederation.value_counts())\n",
        "print(\"\\n\")"
      ],
      "execution_count": 0,
      "outputs": [
        {
          "output_type": "stream",
          "text": [
            "COUNTRY\n",
            "Brunei Darussalam    1017\n",
            "Mauritius            1017\n",
            "Chinese Taipei       1017\n",
            "Angola               1017\n",
            "San Marino           1017\n",
            "                     ... \n",
            "Curaçao               108\n",
            "South Sudan            81\n",
            "Gibraltar              22\n",
            "Kosovo                 22\n",
            "RCS                    10\n",
            "Name: Country, Length: 216, dtype: int64\n",
            "\n",
            "\n",
            "DATE\n",
            "2010-08-11    10251\n",
            "2010-03-03     9494\n",
            "2007-08-22     9045\n",
            "2005-08-17     9020\n",
            "2009-02-11     8685\n",
            "              ...  \n",
            "2011-12-21      141\n",
            "2016-02-04      141\n",
            "2013-02-14      138\n",
            "2012-11-07      126\n",
            "2015-11-05      126\n",
            "Name: Date, Length: 171, dtype: int64\n",
            "\n",
            "\n",
            "HOMETEAM\n",
            "Mexico             4812\n",
            "Estonia            3340\n",
            "Saudi Arabia       3253\n",
            "Greece             2739\n",
            "Portugal           2694\n",
            "                   ... \n",
            "Western Armenia     131\n",
            "Rwanda              131\n",
            "Chagos Islands      131\n",
            "Székely Land        131\n",
            "Guinea              126\n",
            "Name: HomeTeam, Length: 191, dtype: int64\n",
            "\n",
            "\n",
            "TOURNAMENT\n",
            "Friendly                                      124795\n",
            "FIFA World Cup qualification                   30951\n",
            "UEFA Euro qualification                         7210\n",
            "AFC Asian Cup qualification                     7163\n",
            "CONIFA World Football Cup                       1665\n",
            "Cyprus International Tournament                 1588\n",
            "Gulf Cup                                        1389\n",
            "AFF Championship                                1302\n",
            "Gold Cup qualification                          1208\n",
            "Copa América                                    1170\n",
            "AFC Asian Cup                                   1146\n",
            "CFU Caribbean Cup qualification                 1136\n",
            "CFU Caribbean Cup                                942\n",
            "CECAFA Cup                                       930\n",
            "African Cup of Nations qualification             923\n",
            "Gold Cup                                         808\n",
            "SAFF Cup                                         790\n",
            "African Nations Championship                     717\n",
            "African Cup of Nations                           708\n",
            "Windward Islands Tournament                      632\n",
            "Malta International Tournament                   599\n",
            "United Arab Emirates Friendship Tournament       569\n",
            "Viva World Cup                                   426\n",
            "Confederations Cup                               410\n",
            "UNCAF Cup                                        404\n",
            "Korea Cup                                        402\n",
            "EAFF Championship                                400\n",
            "Prime Minister's Cup                             396\n",
            "AFC Challenge Cup qualification                  396\n",
            "Merdeka Tournament                               371\n",
            "King's Cup                                       351\n",
            "Oceania Nations Cup                              284\n",
            "Millennium Cup                                   203\n",
            "UAFA Cup                                         201\n",
            "Nehru Cup                                        201\n",
            "USA Cup                                          200\n",
            "COSAFA Cup                                       183\n",
            "South Pacific Games                              174\n",
            "Intercontinental Cup                             146\n",
            "Copa del Pacífico                                140\n",
            "Name: Tournament, dtype: int64\n",
            "\n",
            "\n",
            "AWAYTEAM\n",
            "Argentina       2915\n",
            "Uruguay         2870\n",
            "Israel          2761\n",
            "Bulgaria        2736\n",
            "Kuwait          2541\n",
            "                ... \n",
            "Abkhazia         137\n",
            "Panjab           131\n",
            "Somaliland       131\n",
            "Raetia           131\n",
            "Sierra Leone     126\n",
            "Name: AwayTeam, Length: 195, dtype: int64\n",
            "\n",
            "\n",
            "CITY\n",
            "Doha           2754\n",
            "Teheran        2635\n",
            "Muscat         2615\n",
            "Attard         2521\n",
            "London         2444\n",
            "               ... \n",
            "Johor Bahru     131\n",
            "Vientiane       131\n",
            "Conakry         126\n",
            "Maceió          126\n",
            "Nonthaburi      126\n",
            "Name: City, Length: 442, dtype: int64\n",
            "\n",
            "\n",
            "VENUE\n",
            "United States    7865\n",
            "France           4664\n",
            "England          3711\n",
            "Cyprus           3521\n",
            "Portugal         3486\n",
            "                 ... \n",
            "East Timor        141\n",
            "Rwanda            141\n",
            "Laos              131\n",
            "Seychelles        131\n",
            "Guinea            126\n",
            "Name: Venue, Length: 172, dtype: int64\n",
            "\n",
            "\n",
            "CONFEDERATION\n",
            "CAF         50356\n",
            "UEFA        48397\n",
            "AFC         43476\n",
            "CONCACAF    32779\n",
            "OFC          9987\n",
            "CONMEBOL     8634\n",
            "Name: Confederation, dtype: int64\n",
            "\n",
            "\n"
          ],
          "name": "stdout"
        }
      ]
    },
    {
      "cell_type": "code",
      "metadata": {
        "id": "1s3RwMnuhWze",
        "colab_type": "code",
        "outputId": "565d6ac8-a13d-4d71-cc32-b12ba2972a65",
        "colab": {
          "base_uri": "https://localhost:8080/",
          "height": 417
        }
      },
      "source": [
        "# Creating countplots to visualize our numeric data\n",
        "\n",
        "fig, (ax4,ax5,ax6) = plt.subplots(1,3,figsize = (11,6))\n",
        "plt.suptitle('BAR GRAPHS')\n",
        "plt.xticks(rotation=0)\n",
        "sns.countplot(data['Rankchange'], ax=ax4)\n",
        "sns.countplot(data['HomeScore'], ax=ax5)\n",
        "sns.countplot(data['AwayScore'], ax=ax6)"
      ],
      "execution_count": 0,
      "outputs": [
        {
          "output_type": "execute_result",
          "data": {
            "text/plain": [
              "<matplotlib.axes._subplots.AxesSubplot at 0x7fd027681320>"
            ]
          },
          "metadata": {
            "tags": []
          },
          "execution_count": 47
        },
        {
          "output_type": "display_data",
          "data": {
            "image/png": "[encoded data removed]",
            "text/plain": [
              "<Figure size 792x432 with 3 Axes>"
            ]
          },
          "metadata": {
            "tags": [],
            "needs_background": "light"
          }
        }
      ]
    },
    {
      "cell_type": "markdown",
      "metadata": {
        "id": "kamB644Vp66i",
        "colab_type": "text"
      },
      "source": [
        "This tell us that the most scored number of goals scored by teams playing at home is 1.\n",
        "\n",
        "The most scored number of goals by teams playing away during their matches is 0"
      ]
    },
    {
      "cell_type": "code",
      "metadata": {
        "id": "2DM9zNPgbD_i",
        "colab_type": "code",
        "outputId": "71e38eec-81b2-4be5-f202-8daf566fba54",
        "colab": {
          "base_uri": "https://localhost:8080/",
          "height": 296
        }
      },
      "source": [
        "sns.distplot(data.PreviousPoints)"
      ],
      "execution_count": 0,
      "outputs": [
        {
          "output_type": "execute_result",
          "data": {
            "text/plain": [
              "<matplotlib.axes._subplots.AxesSubplot at 0x7fd0277a8b70>"
            ]
          },
          "metadata": {
            "tags": []
          },
          "execution_count": 50
        },
        {
          "output_type": "display_data",
          "data": {
            "image/png": "[encoded data removed]",
            "text/plain": [
              "<Figure size 432x288 with 1 Axes>"
            ]
          },
          "metadata": {
            "tags": [],
            "needs_background": "light"
          }
        }
      ]
    },
    {
      "cell_type": "code",
      "metadata": {
        "id": "pxpUmL1PsEjt",
        "colab_type": "code",
        "outputId": "34ab21cd-5a0d-4d76-f182-41423742784d",
        "colab": {
          "base_uri": "https://localhost:8080/",
          "height": 296
        }
      },
      "source": [
        "sns.distplot(data.TotalPoints)"
      ],
      "execution_count": 0,
      "outputs": [
        {
          "output_type": "execute_result",
          "data": {
            "text/plain": [
              "<matplotlib.axes._subplots.AxesSubplot at 0x7fd021c58828>"
            ]
          },
          "metadata": {
            "tags": []
          },
          "execution_count": 51
        },
        {
          "output_type": "display_data",
          "data": {
            "image/png": "[encoded data removed]",
            "text/plain": [
              "<Figure size 432x288 with 1 Axes>"
            ]
          },
          "metadata": {
            "tags": [],
            "needs_background": "light"
          }
        }
      ]
    },
    {
      "cell_type": "markdown",
      "metadata": {
        "id": "geSqT_Tdu9vl",
        "colab_type": "text"
      },
      "source": [
        "## Bivariate Analysis"
      ]
    },
    {
      "cell_type": "code",
      "metadata": {
        "id": "VHs-x4z1vwYu",
        "colab_type": "code",
        "outputId": "2add7db5-b1a8-454d-85df-14c8cbf64822",
        "colab": {
          "base_uri": "https://localhost:8080/",
          "height": 295
        }
      },
      "source": [
        "plt.scatter(data['HomeScore'], data['AwayScore'])\n",
        "plt.title('Home vs Away')\n",
        "plt.xlabel('Home')\n",
        "plt.ylabel('Away')\n",
        "plt.show()"
      ],
      "execution_count": 26,
      "outputs": [
        {
          "output_type": "display_data",
          "data": {
            "image/png": "[encoded data removed]",
            "text/plain": [
              "<Figure size 432x288 with 1 Axes>"
            ]
          },
          "metadata": {
            "tags": [],
            "needs_background": "light"
          }
        }
      ]
    },
    {
      "cell_type": "code",
      "metadata": {
        "id": "IH3VhLDswTBC",
        "colab_type": "code",
        "outputId": "400196e7-0bb4-49e3-ba31-66178cbb345c",
        "colab": {
          "base_uri": "https://localhost:8080/",
          "height": 279
        }
      },
      "source": [
        "plt.scatter(data['HomeScore'], data['Rank'])\n",
        "plt.xlabel('Homescore')\n",
        "plt.ylabel('Rank')\n",
        "plt.show()\n"
      ],
      "execution_count": 27,
      "outputs": [
        {
          "output_type": "display_data",
          "data": {
            "image/png": "[encoded data removed]",
            "text/plain": [
              "<Figure size 432x288 with 1 Axes>"
            ]
          },
          "metadata": {
            "tags": [],
            "needs_background": "light"
          }
        }
      ]
    },
    {
      "cell_type": "code",
      "metadata": {
        "id": "eqzjp6TQxNST",
        "colab_type": "code",
        "outputId": "61c4d5b9-5eac-44de-a378-9071c8fd2e7c",
        "colab": {
          "base_uri": "https://localhost:8080/",
          "height": 332
        }
      },
      "source": [
        "# We will create a correlation matrix for our values\n",
        "\n",
        "sns.heatmap(data.corr(), annot=True)\n",
        "plt.show()"
      ],
      "execution_count": 28,
      "outputs": [
        {
          "output_type": "display_data",
          "data": {
            "image/png": "[encoded data removed]",
            "text/plain": [
              "<Figure size 432x288 with 2 Axes>"
            ]
          },
          "metadata": {
            "tags": [],
            "needs_background": "light"
          }
        }
      ]
    },
    {
      "cell_type": "markdown",
      "metadata": {
        "id": "2B7AN38Zzg72",
        "colab_type": "text"
      },
      "source": [
        "We can see that our scores for games played while away and whether our venues were neutral or biased are highly correlated. This shows that home advantage still influences the outcomes of most games played.\n",
        "\n",
        "The neutrality of our venues and our total points are also highly correlated, showing that the venues do affect a team's total points after a game."
      ]
    },
    {
      "cell_type": "markdown",
      "metadata": {
        "id": "e_jzHb0NiA7-",
        "colab_type": "text"
      },
      "source": [
        "## 7. Implementing the solution"
      ]
    },
    {
      "cell_type": "markdown",
      "metadata": {
        "id": "SsdLISqo1-l4",
        "colab_type": "text"
      },
      "source": [
        "### Detecting Multicollinearity "
      ]
    },
    {
      "cell_type": "markdown",
      "metadata": {
        "id": "mKWe7Gs926bX",
        "colab_type": "text"
      },
      "source": [
        "We will test for multicollinearity between our independent variables "
      ]
    },
    {
      "cell_type": "code",
      "metadata": {
        "id": "UCqqlNdU9xou",
        "colab_type": "code",
        "colab": {}
      },
      "source": [
        "# Using label encoder to change the datatype for tournament\n",
        "\n",
        "\n",
        "from sklearn.preprocessing import LabelEncoder\n",
        "encoder = LabelEncoder()\n",
        "data['Tournament'] = encoder.fit_transform(data['Tournament'])\n",
        "data['HomeTeam'] = encoder.fit_transform(data['HomeTeam'])\n",
        "data['AwayTeam'] = encoder.fit_transform(data['AwayTeam'])"
      ],
      "execution_count": 0,
      "outputs": []
    },
    {
      "cell_type": "code",
      "metadata": {
        "id": "trHk6VmO-lln",
        "colab_type": "code",
        "colab": {
          "base_uri": "https://localhost:8080/",
          "height": 323
        },
        "outputId": "5f3d871f-4cc7-40e6-881b-cf2f4faf33ca"
      },
      "source": [
        "# Confirming the data types in our columns\n",
        "\n",
        "data.dtypes"
      ],
      "execution_count": 30,
      "outputs": [
        {
          "output_type": "execute_result",
          "data": {
            "text/plain": [
              "Unnamed: 0          int64\n",
              "Country            object\n",
              "Abbrev             object\n",
              "Confederation      object\n",
              "Date               object\n",
              "HomeTeam            int64\n",
              "AwayTeam            int64\n",
              "Tournament          int64\n",
              "City               object\n",
              "Venue              object\n",
              "Neutral              bool\n",
              "Rank              float64\n",
              "TotalPoints       float64\n",
              "PreviousPoints    float64\n",
              "Rankchange        float64\n",
              "HomeScore         float64\n",
              "AwayScore         float64\n",
              "dtype: object"
            ]
          },
          "metadata": {
            "tags": []
          },
          "execution_count": 30
        }
      ]
    },
    {
      "cell_type": "code",
      "metadata": {
        "id": "sw9nU3XCH8JO",
        "colab_type": "code",
        "colab": {
          "base_uri": "https://localhost:8080/",
          "height": 326
        },
        "outputId": "7f16d98a-4519-4dae-c245-b2e5393022fc"
      },
      "source": [
        "data.head()"
      ],
      "execution_count": 50,
      "outputs": [
        {
          "output_type": "execute_result",
          "data": {
            "text/html": [
              "<div>\n",
              "<style scoped>\n",
              "    .dataframe tbody tr th:only-of-type {\n",
              "        vertical-align: middle;\n",
              "    }\n",
              "\n",
              "    .dataframe tbody tr th {\n",
              "        vertical-align: top;\n",
              "    }\n",
              "\n",
              "    .dataframe thead th {\n",
              "        text-align: right;\n",
              "    }\n",
              "</style>\n",
              "<table border=\"1\" class=\"dataframe\">\n",
              "  <thead>\n",
              "    <tr style=\"text-align: right;\">\n",
              "      <th></th>\n",
              "      <th>Unnamed: 0</th>\n",
              "      <th>Country</th>\n",
              "      <th>Abbrev</th>\n",
              "      <th>Confederation</th>\n",
              "      <th>Date</th>\n",
              "      <th>HomeTeam</th>\n",
              "      <th>AwayTeam</th>\n",
              "      <th>Tournament</th>\n",
              "      <th>City</th>\n",
              "      <th>Venue</th>\n",
              "      <th>Neutral</th>\n",
              "      <th>Rank</th>\n",
              "      <th>TotalPoints</th>\n",
              "      <th>PreviousPoints</th>\n",
              "      <th>Rankchange</th>\n",
              "      <th>HomeScore</th>\n",
              "      <th>AwayScore</th>\n",
              "    </tr>\n",
              "  </thead>\n",
              "  <tbody>\n",
              "    <tr>\n",
              "      <th>0</th>\n",
              "      <td>0</td>\n",
              "      <td>Germany</td>\n",
              "      <td>GER</td>\n",
              "      <td>UEFA</td>\n",
              "      <td>1993-08-08</td>\n",
              "      <td>22</td>\n",
              "      <td>184</td>\n",
              "      <td>17</td>\n",
              "      <td>La Paz</td>\n",
              "      <td>Bolivia</td>\n",
              "      <td>False</td>\n",
              "      <td>1.0</td>\n",
              "      <td>0.0</td>\n",
              "      <td>57.0</td>\n",
              "      <td>0.0</td>\n",
              "      <td>3.0</td>\n",
              "      <td>1.0</td>\n",
              "    </tr>\n",
              "    <tr>\n",
              "      <th>1</th>\n",
              "      <td>1</td>\n",
              "      <td>Germany</td>\n",
              "      <td>GER</td>\n",
              "      <td>UEFA</td>\n",
              "      <td>1993-08-08</td>\n",
              "      <td>25</td>\n",
              "      <td>104</td>\n",
              "      <td>18</td>\n",
              "      <td>Maceió</td>\n",
              "      <td>Brazil</td>\n",
              "      <td>False</td>\n",
              "      <td>1.0</td>\n",
              "      <td>0.0</td>\n",
              "      <td>57.0</td>\n",
              "      <td>0.0</td>\n",
              "      <td>1.0</td>\n",
              "      <td>1.0</td>\n",
              "    </tr>\n",
              "    <tr>\n",
              "      <th>2</th>\n",
              "      <td>2</td>\n",
              "      <td>Germany</td>\n",
              "      <td>GER</td>\n",
              "      <td>UEFA</td>\n",
              "      <td>1993-08-08</td>\n",
              "      <td>49</td>\n",
              "      <td>187</td>\n",
              "      <td>17</td>\n",
              "      <td>Quito</td>\n",
              "      <td>Ecuador</td>\n",
              "      <td>False</td>\n",
              "      <td>1.0</td>\n",
              "      <td>0.0</td>\n",
              "      <td>57.0</td>\n",
              "      <td>0.0</td>\n",
              "      <td>5.0</td>\n",
              "      <td>0.0</td>\n",
              "    </tr>\n",
              "    <tr>\n",
              "      <th>3</th>\n",
              "      <td>3</td>\n",
              "      <td>Germany</td>\n",
              "      <td>GER</td>\n",
              "      <td>UEFA</td>\n",
              "      <td>1993-08-08</td>\n",
              "      <td>70</td>\n",
              "      <td>152</td>\n",
              "      <td>18</td>\n",
              "      <td>Conakry</td>\n",
              "      <td>Guinea</td>\n",
              "      <td>False</td>\n",
              "      <td>1.0</td>\n",
              "      <td>0.0</td>\n",
              "      <td>57.0</td>\n",
              "      <td>0.0</td>\n",
              "      <td>1.0</td>\n",
              "      <td>0.0</td>\n",
              "    </tr>\n",
              "    <tr>\n",
              "      <th>4</th>\n",
              "      <td>4</td>\n",
              "      <td>Germany</td>\n",
              "      <td>GER</td>\n",
              "      <td>UEFA</td>\n",
              "      <td>1993-08-08</td>\n",
              "      <td>133</td>\n",
              "      <td>7</td>\n",
              "      <td>17</td>\n",
              "      <td>Asunción</td>\n",
              "      <td>Paraguay</td>\n",
              "      <td>False</td>\n",
              "      <td>1.0</td>\n",
              "      <td>0.0</td>\n",
              "      <td>57.0</td>\n",
              "      <td>0.0</td>\n",
              "      <td>1.0</td>\n",
              "      <td>3.0</td>\n",
              "    </tr>\n",
              "  </tbody>\n",
              "</table>\n",
              "</div>"
            ],
            "text/plain": [
              "   Unnamed: 0  Country Abbrev  ... Rankchange HomeScore  AwayScore\n",
              "0           0  Germany    GER  ...        0.0       3.0        1.0\n",
              "1           1  Germany    GER  ...        0.0       1.0        1.0\n",
              "2           2  Germany    GER  ...        0.0       5.0        0.0\n",
              "3           3  Germany    GER  ...        0.0       1.0        0.0\n",
              "4           4  Germany    GER  ...        0.0       1.0        3.0\n",
              "\n",
              "[5 rows x 17 columns]"
            ]
          },
          "metadata": {
            "tags": []
          },
          "execution_count": 50
        }
      ]
    },
    {
      "cell_type": "code",
      "metadata": {
        "id": "m3kcrc3h3Msz",
        "colab_type": "code",
        "colab": {}
      },
      "source": [
        "# We will then drop our dependent variables to remain with our independent ones only\n",
        "\n",
        "indep_only = data.drop(columns=['AwayScore', 'HomeScore', 'Unnamed: 0', 'Country', 'Abbrev', 'Confederation', 'Date', 'City', 'Venue', 'Neutral', 'TotalPoints', 'PreviousPoints', 'Rankchange'])\n"
      ],
      "execution_count": 0,
      "outputs": []
    },
    {
      "cell_type": "code",
      "metadata": {
        "id": "voHld1iF-X2q",
        "colab_type": "code",
        "colab": {
          "base_uri": "https://localhost:8080/",
          "height": 173
        },
        "outputId": "32036ffe-0371-476a-c83d-6af0b9dae811"
      },
      "source": [
        "# Displaying the correlation between the variables\n",
        "\n",
        "correlations = indep_only.corr()\n",
        "\n",
        "correlations"
      ],
      "execution_count": 52,
      "outputs": [
        {
          "output_type": "execute_result",
          "data": {
            "text/html": [
              "<div>\n",
              "<style scoped>\n",
              "    .dataframe tbody tr th:only-of-type {\n",
              "        vertical-align: middle;\n",
              "    }\n",
              "\n",
              "    .dataframe tbody tr th {\n",
              "        vertical-align: top;\n",
              "    }\n",
              "\n",
              "    .dataframe thead th {\n",
              "        text-align: right;\n",
              "    }\n",
              "</style>\n",
              "<table border=\"1\" class=\"dataframe\">\n",
              "  <thead>\n",
              "    <tr style=\"text-align: right;\">\n",
              "      <th></th>\n",
              "      <th>HomeTeam</th>\n",
              "      <th>AwayTeam</th>\n",
              "      <th>Tournament</th>\n",
              "      <th>Rank</th>\n",
              "    </tr>\n",
              "  </thead>\n",
              "  <tbody>\n",
              "    <tr>\n",
              "      <th>HomeTeam</th>\n",
              "      <td>1.000000</td>\n",
              "      <td>0.051887</td>\n",
              "      <td>-0.040286</td>\n",
              "      <td>0.001953</td>\n",
              "    </tr>\n",
              "    <tr>\n",
              "      <th>AwayTeam</th>\n",
              "      <td>0.051887</td>\n",
              "      <td>1.000000</td>\n",
              "      <td>-0.059253</td>\n",
              "      <td>0.003020</td>\n",
              "    </tr>\n",
              "    <tr>\n",
              "      <th>Tournament</th>\n",
              "      <td>-0.040286</td>\n",
              "      <td>-0.059253</td>\n",
              "      <td>1.000000</td>\n",
              "      <td>-0.004033</td>\n",
              "    </tr>\n",
              "    <tr>\n",
              "      <th>Rank</th>\n",
              "      <td>0.001953</td>\n",
              "      <td>0.003020</td>\n",
              "      <td>-0.004033</td>\n",
              "      <td>1.000000</td>\n",
              "    </tr>\n",
              "  </tbody>\n",
              "</table>\n",
              "</div>"
            ],
            "text/plain": [
              "            HomeTeam  AwayTeam  Tournament      Rank\n",
              "HomeTeam    1.000000  0.051887   -0.040286  0.001953\n",
              "AwayTeam    0.051887  1.000000   -0.059253  0.003020\n",
              "Tournament -0.040286 -0.059253    1.000000 -0.004033\n",
              "Rank        0.001953  0.003020   -0.004033  1.000000"
            ]
          },
          "metadata": {
            "tags": []
          },
          "execution_count": 52
        }
      ]
    },
    {
      "cell_type": "code",
      "metadata": {
        "id": "wzyBxs_S4dag",
        "colab_type": "code",
        "outputId": "ebb5cfbc-4749-4cf4-d495-3bd0d77219fc",
        "colab": {
          "base_uri": "https://localhost:8080/",
          "height": 173
        }
      },
      "source": [
        "# Computing VIF score for each variable\n",
        "\n",
        "pd.DataFrame(np.linalg.inv(correlations.values), index = correlations.index, columns=correlations.columns)\n"
      ],
      "execution_count": 45,
      "outputs": [
        {
          "output_type": "execute_result",
          "data": {
            "text/html": [
              "<div>\n",
              "<style scoped>\n",
              "    .dataframe tbody tr th:only-of-type {\n",
              "        vertical-align: middle;\n",
              "    }\n",
              "\n",
              "    .dataframe tbody tr th {\n",
              "        vertical-align: top;\n",
              "    }\n",
              "\n",
              "    .dataframe thead th {\n",
              "        text-align: right;\n",
              "    }\n",
              "</style>\n",
              "<table border=\"1\" class=\"dataframe\">\n",
              "  <thead>\n",
              "    <tr style=\"text-align: right;\">\n",
              "      <th></th>\n",
              "      <th>HomeTeam</th>\n",
              "      <th>AwayTeam</th>\n",
              "      <th>Tournament</th>\n",
              "      <th>Rank</th>\n",
              "    </tr>\n",
              "  </thead>\n",
              "  <tbody>\n",
              "    <tr>\n",
              "      <th>HomeTeam</th>\n",
              "      <td>1.004101</td>\n",
              "      <td>-0.049873</td>\n",
              "      <td>0.037490</td>\n",
              "      <td>-0.001660</td>\n",
              "    </tr>\n",
              "    <tr>\n",
              "      <th>AwayTeam</th>\n",
              "      <td>-0.049873</td>\n",
              "      <td>1.006008</td>\n",
              "      <td>0.057589</td>\n",
              "      <td>-0.002708</td>\n",
              "    </tr>\n",
              "    <tr>\n",
              "      <th>Tournament</th>\n",
              "      <td>0.037490</td>\n",
              "      <td>0.057589</td>\n",
              "      <td>1.004938</td>\n",
              "      <td>0.003806</td>\n",
              "    </tr>\n",
              "    <tr>\n",
              "      <th>Rank</th>\n",
              "      <td>-0.001660</td>\n",
              "      <td>-0.002708</td>\n",
              "      <td>0.003806</td>\n",
              "      <td>1.000027</td>\n",
              "    </tr>\n",
              "  </tbody>\n",
              "</table>\n",
              "</div>"
            ],
            "text/plain": [
              "            HomeTeam  AwayTeam  Tournament      Rank\n",
              "HomeTeam    1.004101 -0.049873    0.037490 -0.001660\n",
              "AwayTeam   -0.049873  1.006008    0.057589 -0.002708\n",
              "Tournament  0.037490  0.057589    1.004938  0.003806\n",
              "Rank       -0.001660 -0.002708    0.003806  1.000027"
            ]
          },
          "metadata": {
            "tags": []
          },
          "execution_count": 45
        }
      ]
    },
    {
      "cell_type": "markdown",
      "metadata": {
        "id": "ixyr5tkj5eVM",
        "colab_type": "text"
      },
      "source": [
        "The VIF scores for each of our variables is not a reason for concern. They are all less than 5 and closer to one, which is a good indication that they are not really dependent on each other."
      ]
    },
    {
      "cell_type": "markdown",
      "metadata": {
        "id": "e0NXrUCyIZk4",
        "colab_type": "text"
      },
      "source": [
        "We will use residual plots and heteroscedacity tests to evaluate our variables using the revised set above"
      ]
    },
    {
      "cell_type": "code",
      "metadata": {
        "id": "deYuhZDLCZ8Q",
        "colab_type": "code",
        "colab": {
          "base_uri": "https://localhost:8080/",
          "height": 204
        },
        "outputId": "fd4864e8-a1b3-477b-d660-3670494f3d94"
      },
      "source": [
        "#  Previewing the data to be used in our test\n",
        "\n",
        "indep_only.head()"
      ],
      "execution_count": 53,
      "outputs": [
        {
          "output_type": "execute_result",
          "data": {
            "text/html": [
              "<div>\n",
              "<style scoped>\n",
              "    .dataframe tbody tr th:only-of-type {\n",
              "        vertical-align: middle;\n",
              "    }\n",
              "\n",
              "    .dataframe tbody tr th {\n",
              "        vertical-align: top;\n",
              "    }\n",
              "\n",
              "    .dataframe thead th {\n",
              "        text-align: right;\n",
              "    }\n",
              "</style>\n",
              "<table border=\"1\" class=\"dataframe\">\n",
              "  <thead>\n",
              "    <tr style=\"text-align: right;\">\n",
              "      <th></th>\n",
              "      <th>HomeTeam</th>\n",
              "      <th>AwayTeam</th>\n",
              "      <th>Tournament</th>\n",
              "      <th>Rank</th>\n",
              "    </tr>\n",
              "  </thead>\n",
              "  <tbody>\n",
              "    <tr>\n",
              "      <th>0</th>\n",
              "      <td>22</td>\n",
              "      <td>184</td>\n",
              "      <td>17</td>\n",
              "      <td>1.0</td>\n",
              "    </tr>\n",
              "    <tr>\n",
              "      <th>1</th>\n",
              "      <td>25</td>\n",
              "      <td>104</td>\n",
              "      <td>18</td>\n",
              "      <td>1.0</td>\n",
              "    </tr>\n",
              "    <tr>\n",
              "      <th>2</th>\n",
              "      <td>49</td>\n",
              "      <td>187</td>\n",
              "      <td>17</td>\n",
              "      <td>1.0</td>\n",
              "    </tr>\n",
              "    <tr>\n",
              "      <th>3</th>\n",
              "      <td>70</td>\n",
              "      <td>152</td>\n",
              "      <td>18</td>\n",
              "      <td>1.0</td>\n",
              "    </tr>\n",
              "    <tr>\n",
              "      <th>4</th>\n",
              "      <td>133</td>\n",
              "      <td>7</td>\n",
              "      <td>17</td>\n",
              "      <td>1.0</td>\n",
              "    </tr>\n",
              "  </tbody>\n",
              "</table>\n",
              "</div>"
            ],
            "text/plain": [
              "   HomeTeam  AwayTeam  Tournament  Rank\n",
              "0        22       184          17   1.0\n",
              "1        25       104          18   1.0\n",
              "2        49       187          17   1.0\n",
              "3        70       152          18   1.0\n",
              "4       133         7          17   1.0"
            ]
          },
          "metadata": {
            "tags": []
          },
          "execution_count": 53
        }
      ]
    },
    {
      "cell_type": "code",
      "metadata": {
        "id": "pieE0UCJkH7Q",
        "colab_type": "code",
        "colab": {
          "base_uri": "https://localhost:8080/",
          "height": 34
        },
        "outputId": "7c2a5059-d92e-4197-eeab-99ae11bbb74d"
      },
      "source": [
        "# Creating a model using away score as our label\n",
        "\n",
        "from sklearn.linear_model import LinearRegression\n",
        "\n",
        "X = indep_only.values\n",
        "y = data['AwayScore'].values\n",
        "\n",
        "X_train, X_test, y_train, y_test = train_test_split(X,y, test_size=0.2, random_state=0)\n",
        "\n",
        "regressor = LinearRegression()\n",
        "regressor.fit(X_train, y_train)\n",
        "# Creating our prediction for the admission based on the model\n",
        "\n",
        "y_pred = regressor.predict(X_test)\n",
        "\n",
        "# Creating a residual by subtracting the test value from the predicted value for each row in our data\n",
        "\n",
        "residual = np.subtract(y_pred, y_test)\n",
        "\n",
        "# Describing the residual\n",
        "\n",
        "pd.DataFrame(residual).describe()\n",
        "\n",
        "residual.mean()\n"
      ],
      "execution_count": 260,
      "outputs": [
        {
          "output_type": "execute_result",
          "data": {
            "text/plain": [
              "-0.002739946145989899"
            ]
          },
          "metadata": {
            "tags": []
          },
          "execution_count": 260
        }
      ]
    },
    {
      "cell_type": "markdown",
      "metadata": {
        "id": "TOHVoW90JZMa",
        "colab_type": "text"
      },
      "source": [
        "Since we are trying to estimate the percentage chance of away teams winning the game, values should range between 0 and 1. \n",
        "\n",
        "As shown above, our mean is close to 0, meaning that we tend to be fairly correct and slightly overestimating by 0.274%"
      ]
    },
    {
      "cell_type": "code",
      "metadata": {
        "id": "UKRUGl2eK-WV",
        "colab_type": "code",
        "colab": {
          "base_uri": "https://localhost:8080/",
          "height": 279
        },
        "outputId": "b61edeea-3f83-4e36-b4e5-efd8b313af14"
      },
      "source": [
        "# Showing the residual plot for our data.\n",
        "\n",
        "plt.scatter(y_pred, residual, color='black')\n",
        "plt.ylabel('residual')\n",
        "plt.xlabel('fitted values')\n",
        "plt.axhline(y= residual.mean(), color='red', linewidth=1)\n",
        "plt.show()"
      ],
      "execution_count": 263,
      "outputs": [
        {
          "output_type": "display_data",
          "data": {
            "image/png": "[encoded data removed]",
            "text/plain": [
              "<Figure size 432x288 with 1 Axes>"
            ]
          },
          "metadata": {
            "tags": [],
            "needs_background": "light"
          }
        }
      ]
    },
    {
      "cell_type": "markdown",
      "metadata": {
        "id": "lsKKp1j1L7xm",
        "colab_type": "text"
      },
      "source": [
        "We can see that the residual is centered around the mean. However, we will use a Barlett's test to conduct a heteroskedacity test for the model.\n",
        "\n"
      ]
    },
    {
      "cell_type": "code",
      "metadata": {
        "id": "4zbkpRZnLp3_",
        "colab_type": "code",
        "colab": {
          "base_uri": "https://localhost:8080/",
          "height": 51
        },
        "outputId": "137689ac-5e72-4f26-8645-b30c9a0db9c3"
      },
      "source": [
        "import scipy as sp\n",
        "\n",
        "test_result, p_value = sp.stats.bartlett(y_pred, residual)\n",
        "\n",
        "# To interpret the results we must also compute a critical value of the chi squared distribution\n",
        "degree_of_freedom = len(y_pred)-1\n",
        "probability = 1 - p_value\n",
        "\n",
        "critical_value = sp.stats.chi2.ppf(probability, degree_of_freedom)\n",
        "print(critical_value)\n",
        "\n",
        "# Creating a null hypothesis that the variance is equal for all our datapoints\n",
        "\n",
        "# The new hypothesis claims that the variance is different\n",
        "\n",
        "# If the test_result is greater than the critical value, then we reject our null hypothesis. \n",
        "# This would mean that there are patterns to the variance of the data\n",
        "\n",
        "# Otherwise, we can identify no patterns, and we accept the null hypothesis that the variance is homogeneous across our data\n",
        "\n",
        "if (test_result > critical_value):\n",
        "  print('the variances are unequal, and the model should be reassessed!')\n",
        "else:\n",
        "  print('the variances are homogeneous.')"
      ],
      "execution_count": 265,
      "outputs": [
        {
          "output_type": "stream",
          "text": [
            "inf\n",
            "the variances are homogeneous.\n"
          ],
          "name": "stdout"
        }
      ]
    },
    {
      "cell_type": "markdown",
      "metadata": {
        "id": "t88XhoaiJ8zH",
        "colab_type": "text"
      },
      "source": [
        "### Polynomial Regression"
      ]
    },
    {
      "cell_type": "markdown",
      "metadata": {
        "id": "FKOP5LkiT9NG",
        "colab_type": "text"
      },
      "source": [
        "For our polynomial regression, we will create two models using our results dataset for our predictions.\n",
        "\n",
        "Model 1: Predict how many goals the home team scores.\n",
        "\n",
        "Model 2: Predict how many goals the away team scores."
      ]
    },
    {
      "cell_type": "code",
      "metadata": {
        "id": "oIK50v-MrmaW",
        "colab_type": "code",
        "outputId": "9ce81dcb-6def-410c-d126-24585c79faa7",
        "colab": {
          "base_uri": "https://localhost:8080/",
          "height": 204
        }
      },
      "source": [
        "# We will start by creating a model to predict the number of goals the home team scores.\n",
        "# Previewing the top of our results data\n",
        "\n",
        "data.head()"
      ],
      "execution_count": 266,
      "outputs": [
        {
          "output_type": "execute_result",
          "data": {
            "text/html": [
              "<div>\n",
              "<style scoped>\n",
              "    .dataframe tbody tr th:only-of-type {\n",
              "        vertical-align: middle;\n",
              "    }\n",
              "\n",
              "    .dataframe tbody tr th {\n",
              "        vertical-align: top;\n",
              "    }\n",
              "\n",
              "    .dataframe thead th {\n",
              "        text-align: right;\n",
              "    }\n",
              "</style>\n",
              "<table border=\"1\" class=\"dataframe\">\n",
              "  <thead>\n",
              "    <tr style=\"text-align: right;\">\n",
              "      <th></th>\n",
              "      <th>HomeTeam</th>\n",
              "      <th>AwayTeam</th>\n",
              "      <th>Tournament</th>\n",
              "      <th>Rank</th>\n",
              "      <th>HomeScore</th>\n",
              "      <th>AwayScore</th>\n",
              "    </tr>\n",
              "  </thead>\n",
              "  <tbody>\n",
              "    <tr>\n",
              "      <th>0</th>\n",
              "      <td>22</td>\n",
              "      <td>184</td>\n",
              "      <td>17</td>\n",
              "      <td>1.0</td>\n",
              "      <td>3.0</td>\n",
              "      <td>1.0</td>\n",
              "    </tr>\n",
              "    <tr>\n",
              "      <th>1</th>\n",
              "      <td>25</td>\n",
              "      <td>104</td>\n",
              "      <td>18</td>\n",
              "      <td>1.0</td>\n",
              "      <td>1.0</td>\n",
              "      <td>1.0</td>\n",
              "    </tr>\n",
              "    <tr>\n",
              "      <th>2</th>\n",
              "      <td>49</td>\n",
              "      <td>187</td>\n",
              "      <td>17</td>\n",
              "      <td>1.0</td>\n",
              "      <td>5.0</td>\n",
              "      <td>0.0</td>\n",
              "    </tr>\n",
              "    <tr>\n",
              "      <th>3</th>\n",
              "      <td>70</td>\n",
              "      <td>152</td>\n",
              "      <td>18</td>\n",
              "      <td>1.0</td>\n",
              "      <td>1.0</td>\n",
              "      <td>0.0</td>\n",
              "    </tr>\n",
              "    <tr>\n",
              "      <th>4</th>\n",
              "      <td>133</td>\n",
              "      <td>7</td>\n",
              "      <td>17</td>\n",
              "      <td>1.0</td>\n",
              "      <td>1.0</td>\n",
              "      <td>3.0</td>\n",
              "    </tr>\n",
              "  </tbody>\n",
              "</table>\n",
              "</div>"
            ],
            "text/plain": [
              "   HomeTeam  AwayTeam  Tournament  Rank  HomeScore  AwayScore\n",
              "0        22       184          17   1.0        3.0        1.0\n",
              "1        25       104          18   1.0        1.0        1.0\n",
              "2        49       187          17   1.0        5.0        0.0\n",
              "3        70       152          18   1.0        1.0        0.0\n",
              "4       133         7          17   1.0        1.0        3.0"
            ]
          },
          "metadata": {
            "tags": []
          },
          "execution_count": 266
        }
      ]
    },
    {
      "cell_type": "code",
      "metadata": {
        "id": "ex5YvptTP2SQ",
        "colab_type": "code",
        "outputId": "b1912bd4-79ba-477a-dc60-7b6dc097cb2e",
        "colab": {
          "base_uri": "https://localhost:8080/",
          "height": 136
        }
      },
      "source": [
        "data.count()"
      ],
      "execution_count": 267,
      "outputs": [
        {
          "output_type": "execute_result",
          "data": {
            "text/plain": [
              "HomeTeam      193629\n",
              "AwayTeam      193629\n",
              "Tournament    193629\n",
              "Rank          193629\n",
              "HomeScore     193629\n",
              "AwayScore     193629\n",
              "dtype: int64"
            ]
          },
          "metadata": {
            "tags": []
          },
          "execution_count": 267
        }
      ]
    },
    {
      "cell_type": "code",
      "metadata": {
        "id": "OsdOPrLrNoT9",
        "colab_type": "code",
        "outputId": "ed3b6f0d-8234-43a7-f25e-16e162fd2c6d",
        "colab": {
          "base_uri": "https://localhost:8080/",
          "height": 425
        }
      },
      "source": [
        "# Determining the ranks of our teams\n",
        "\n",
        "home = data.groupby(['Rank'])['HomeTeam']\n",
        "away = data.groupby(['Rank'])['AwayTeam']\n",
        "\n",
        "print(home.head())\n",
        "print(away.head())"
      ],
      "execution_count": 291,
      "outputs": [
        {
          "output_type": "stream",
          "text": [
            "0          22\n",
            "1          25\n",
            "2          49\n",
            "3          70\n",
            "4         133\n",
            "         ... \n",
            "198742     30\n",
            "198743     48\n",
            "198744     77\n",
            "198745    159\n",
            "198746    188\n",
            "Name: HomeTeam, Length: 1045, dtype: int64\n",
            "0         184\n",
            "1         104\n",
            "2         187\n",
            "3         152\n",
            "4           7\n",
            "         ... \n",
            "198742     97\n",
            "198743    106\n",
            "198744    111\n",
            "198745     18\n",
            "198746    127\n",
            "Name: AwayTeam, Length: 1045, dtype: int64\n"
          ],
          "name": "stdout"
        }
      ]
    },
    {
      "cell_type": "code",
      "metadata": {
        "id": "jUIBe9oSOwyD",
        "colab_type": "code",
        "outputId": "565c2b85-9a08-4da5-c688-25f8c8eb2802",
        "colab": {
          "base_uri": "https://localhost:8080/",
          "height": 153
        }
      },
      "source": [
        "# We will split our data to obtain our training and testing sets\n",
        "\n",
        "X = data.iloc[:, 2:3].values\n",
        "y = data.iloc[:, 4].values\n",
        "\n",
        "print(X)\n",
        "print(y)"
      ],
      "execution_count": 303,
      "outputs": [
        {
          "output_type": "stream",
          "text": [
            "[[17]\n",
            " [18]\n",
            " [17]\n",
            " ...\n",
            " [10]\n",
            " [10]\n",
            " [10]]\n",
            "[3. 1. 5. ... 4. 3. 4.]\n"
          ],
          "name": "stdout"
        }
      ]
    },
    {
      "cell_type": "markdown",
      "metadata": {
        "id": "GJS9544tQfko",
        "colab_type": "text"
      },
      "source": [
        "**Analysis of our data**"
      ]
    },
    {
      "cell_type": "code",
      "metadata": {
        "id": "a4zJMIkQQbBq",
        "colab_type": "code",
        "outputId": "32674989-2eb7-45bb-c8f4-0d2b40197a23",
        "colab": {
          "base_uri": "https://localhost:8080/",
          "height": 279
        }
      },
      "source": [
        "# As we have already cleaned our data, let us visualise our variables.\n",
        "\n",
        "plt.scatter(X, y, color='blue')\n",
        "plt.xlabel('Tournament')\n",
        "plt.ylabel('Home Score')\n",
        "plt.show()"
      ],
      "execution_count": 310,
      "outputs": [
        {
          "output_type": "display_data",
          "data": {
            "image/png": "[encoded data removed]",
            "text/plain": [
              "<Figure size 432x288 with 1 Axes>"
            ]
          },
          "metadata": {
            "tags": [],
            "needs_background": "light"
          }
        }
      ]
    },
    {
      "cell_type": "markdown",
      "metadata": {
        "id": "7B0vArqKVzm9",
        "colab_type": "text"
      },
      "source": [
        "From the scatter plot, the data does not appear to be linear. So if were to fit a simple linear straight line, it would not cover most of the points. Which is why applying linear regression on this dataset would not give us the correct value.\n",
        "\n",
        "The other alternative we are left with is applying polynomial regression."
      ]
    },
    {
      "cell_type": "code",
      "metadata": {
        "id": "oEZTjSLnst9P",
        "colab_type": "code",
        "outputId": "04efccdc-8bce-4882-edfd-a64f25df58e6",
        "colab": {
          "base_uri": "https://localhost:8080/",
          "height": 295
        }
      },
      "source": [
        "from sklearn.preprocessing import PolynomialFeatures\n",
        "\n",
        "# Splitting our dataset into train  and test sets\n",
        "\n",
        "X_train, y_train, X_test, y_test = train_test_split(X, y, test_size=0.2, random_state=0)\n",
        "\n",
        "# Fit polynomial Regression to the dataset\n",
        "poly_reg = PolynomialFeatures(degree = 2) \n",
        "X_poly = poly_reg.fit_transform(X)\n",
        "\n",
        "\n",
        "pol_reg = LinearRegression()\n",
        "pol_reg.fit(X_poly, y)\n",
        "\n",
        "#Visualize the Polynomial Regression results\n",
        "plt.scatter(X, y, color='blue')\n",
        "plt.plot(X, pol_reg.predict(X_poly), color='red')\n",
        "plt.title('Prediction for home teams')\n",
        "plt.xlabel('Tournament')\n",
        "plt.ylabel('Home Score')\n",
        "plt.show()"
      ],
      "execution_count": 317,
      "outputs": [
        {
          "output_type": "display_data",
          "data": {
            "image/png": "[encoded data removed]",
            "text/plain": [
              "<Figure size 432x288 with 1 Axes>"
            ]
          },
          "metadata": {
            "tags": [],
            "needs_background": "light"
          }
        }
      ]
    },
    {
      "cell_type": "code",
      "metadata": {
        "id": "GmnpyejTT7LJ",
        "colab_type": "code",
        "colab": {
          "base_uri": "https://localhost:8080/",
          "height": 153
        },
        "outputId": "06e1a87e-593d-4c54-e32f-1bfff430a21e"
      },
      "source": [
        "# We will use the same model to predict away scores \n",
        "\n",
        "X = data.iloc[:, 2:3].values\n",
        "y = data.iloc[:, 5].values\n",
        "\n",
        "print(X)\n",
        "print(y)"
      ],
      "execution_count": 311,
      "outputs": [
        {
          "output_type": "stream",
          "text": [
            "[[17]\n",
            " [18]\n",
            " [17]\n",
            " ...\n",
            " [10]\n",
            " [10]\n",
            " [10]]\n",
            "[1. 1. 0. ... 0. 2. 2.]\n"
          ],
          "name": "stdout"
        }
      ]
    },
    {
      "cell_type": "code",
      "metadata": {
        "id": "V9ZdrRM-fdJ_",
        "colab_type": "code",
        "colab": {
          "base_uri": "https://localhost:8080/",
          "height": 279
        },
        "outputId": "7adcf249-97bb-42f2-f99e-b5b624bc5c04"
      },
      "source": [
        "# Visualising our data\n",
        "\n",
        "plt.scatter(X, y, color='blue')\n",
        "plt.xlabel('Tournament')\n",
        "plt.ylabel('Away Score')\n",
        "plt.show()"
      ],
      "execution_count": 313,
      "outputs": [
        {
          "output_type": "display_data",
          "data": {
            "image/png": "[encoded data removed]",
            "text/plain": [
              "<Figure size 432x288 with 1 Axes>"
            ]
          },
          "metadata": {
            "tags": [],
            "needs_background": "light"
          }
        }
      ]
    },
    {
      "cell_type": "code",
      "metadata": {
        "id": "x77oS0cbf1yH",
        "colab_type": "code",
        "colab": {
          "base_uri": "https://localhost:8080/",
          "height": 295
        },
        "outputId": "81ea3ec6-03a6-4fb3-da5b-9492c2c09798"
      },
      "source": [
        "# Splitting our dataset into train  and test sets\n",
        "\n",
        "X_train, y_train, X_test, y_test = train_test_split(X, y, test_size=0.2, random_state=0)\n",
        "\n",
        "# Fit polynomial Regression to the dataset\n",
        "poly_reg = PolynomialFeatures(degree = 3) \n",
        "X_poly = poly_reg.fit_transform(X)\n",
        "\n",
        "\n",
        "pol_reg = LinearRegression()\n",
        "pol_reg.fit(X_poly, y)\n",
        "\n",
        "#Visualize the Polynomial Regression results\n",
        "plt.scatter(X, y, color='blue')\n",
        "plt.plot(X, pol_reg.predict(X_poly), color='red')\n",
        "plt.title('Prediction for away teams')\n",
        "plt.xlabel('Tournament')\n",
        "plt.ylabel('Away Score')\n",
        "plt.show()"
      ],
      "execution_count": 320,
      "outputs": [
        {
          "output_type": "display_data",
          "data": {
            "image/png": "[encoded data removed]",
            "text/plain": [
              "<Figure size 432x288 with 1 Axes>"
            ]
          },
          "metadata": {
            "tags": [],
            "needs_background": "light"
          }
        }
      ]
    },
    {
      "cell_type": "markdown",
      "metadata": {
        "id": "i-jZ6A6pgjq6",
        "colab_type": "text"
      },
      "source": [
        "From our algorithm, we can see that it is difficult to predict the number of scores for both home and away teams by using the above algorithm"
      ]
    },
    {
      "cell_type": "markdown",
      "metadata": {
        "id": "U2kRSD9P-RV7",
        "colab_type": "text"
      },
      "source": [
        "### Logistic Regression"
      ]
    },
    {
      "cell_type": "markdown",
      "metadata": {
        "id": "fz2wiX5TBopG",
        "colab_type": "text"
      },
      "source": [
        "Logistic Regression is a machine learnig algorithim used to create models that can classify tasks, like in our case.\n",
        "\n",
        "We will use this method of regression to create a model that predicts if a game will be a win, draw or a loss based on the home team's perspective."
      ]
    },
    {
      "cell_type": "code",
      "metadata": {
        "id": "jt0QCRqM-Yjj",
        "colab_type": "code",
        "outputId": "1862b2d2-164d-4d27-8a0a-6f663faf5f45",
        "colab": {
          "base_uri": "https://localhost:8080/",
          "height": 326
        }
      },
      "source": [
        "# Previewing our data\n",
        "\n",
        "data.head()"
      ],
      "execution_count": 54,
      "outputs": [
        {
          "output_type": "execute_result",
          "data": {
            "text/html": [
              "<div>\n",
              "<style scoped>\n",
              "    .dataframe tbody tr th:only-of-type {\n",
              "        vertical-align: middle;\n",
              "    }\n",
              "\n",
              "    .dataframe tbody tr th {\n",
              "        vertical-align: top;\n",
              "    }\n",
              "\n",
              "    .dataframe thead th {\n",
              "        text-align: right;\n",
              "    }\n",
              "</style>\n",
              "<table border=\"1\" class=\"dataframe\">\n",
              "  <thead>\n",
              "    <tr style=\"text-align: right;\">\n",
              "      <th></th>\n",
              "      <th>Unnamed: 0</th>\n",
              "      <th>Country</th>\n",
              "      <th>Abbrev</th>\n",
              "      <th>Confederation</th>\n",
              "      <th>Date</th>\n",
              "      <th>HomeTeam</th>\n",
              "      <th>AwayTeam</th>\n",
              "      <th>Tournament</th>\n",
              "      <th>City</th>\n",
              "      <th>Venue</th>\n",
              "      <th>Neutral</th>\n",
              "      <th>Rank</th>\n",
              "      <th>TotalPoints</th>\n",
              "      <th>PreviousPoints</th>\n",
              "      <th>Rankchange</th>\n",
              "      <th>HomeScore</th>\n",
              "      <th>AwayScore</th>\n",
              "    </tr>\n",
              "  </thead>\n",
              "  <tbody>\n",
              "    <tr>\n",
              "      <th>0</th>\n",
              "      <td>0</td>\n",
              "      <td>Germany</td>\n",
              "      <td>GER</td>\n",
              "      <td>UEFA</td>\n",
              "      <td>1993-08-08</td>\n",
              "      <td>22</td>\n",
              "      <td>184</td>\n",
              "      <td>17</td>\n",
              "      <td>La Paz</td>\n",
              "      <td>Bolivia</td>\n",
              "      <td>False</td>\n",
              "      <td>1.0</td>\n",
              "      <td>0.0</td>\n",
              "      <td>57.0</td>\n",
              "      <td>0.0</td>\n",
              "      <td>3.0</td>\n",
              "      <td>1.0</td>\n",
              "    </tr>\n",
              "    <tr>\n",
              "      <th>1</th>\n",
              "      <td>1</td>\n",
              "      <td>Germany</td>\n",
              "      <td>GER</td>\n",
              "      <td>UEFA</td>\n",
              "      <td>1993-08-08</td>\n",
              "      <td>25</td>\n",
              "      <td>104</td>\n",
              "      <td>18</td>\n",
              "      <td>Maceió</td>\n",
              "      <td>Brazil</td>\n",
              "      <td>False</td>\n",
              "      <td>1.0</td>\n",
              "      <td>0.0</td>\n",
              "      <td>57.0</td>\n",
              "      <td>0.0</td>\n",
              "      <td>1.0</td>\n",
              "      <td>1.0</td>\n",
              "    </tr>\n",
              "    <tr>\n",
              "      <th>2</th>\n",
              "      <td>2</td>\n",
              "      <td>Germany</td>\n",
              "      <td>GER</td>\n",
              "      <td>UEFA</td>\n",
              "      <td>1993-08-08</td>\n",
              "      <td>49</td>\n",
              "      <td>187</td>\n",
              "      <td>17</td>\n",
              "      <td>Quito</td>\n",
              "      <td>Ecuador</td>\n",
              "      <td>False</td>\n",
              "      <td>1.0</td>\n",
              "      <td>0.0</td>\n",
              "      <td>57.0</td>\n",
              "      <td>0.0</td>\n",
              "      <td>5.0</td>\n",
              "      <td>0.0</td>\n",
              "    </tr>\n",
              "    <tr>\n",
              "      <th>3</th>\n",
              "      <td>3</td>\n",
              "      <td>Germany</td>\n",
              "      <td>GER</td>\n",
              "      <td>UEFA</td>\n",
              "      <td>1993-08-08</td>\n",
              "      <td>70</td>\n",
              "      <td>152</td>\n",
              "      <td>18</td>\n",
              "      <td>Conakry</td>\n",
              "      <td>Guinea</td>\n",
              "      <td>False</td>\n",
              "      <td>1.0</td>\n",
              "      <td>0.0</td>\n",
              "      <td>57.0</td>\n",
              "      <td>0.0</td>\n",
              "      <td>1.0</td>\n",
              "      <td>0.0</td>\n",
              "    </tr>\n",
              "    <tr>\n",
              "      <th>4</th>\n",
              "      <td>4</td>\n",
              "      <td>Germany</td>\n",
              "      <td>GER</td>\n",
              "      <td>UEFA</td>\n",
              "      <td>1993-08-08</td>\n",
              "      <td>133</td>\n",
              "      <td>7</td>\n",
              "      <td>17</td>\n",
              "      <td>Asunción</td>\n",
              "      <td>Paraguay</td>\n",
              "      <td>False</td>\n",
              "      <td>1.0</td>\n",
              "      <td>0.0</td>\n",
              "      <td>57.0</td>\n",
              "      <td>0.0</td>\n",
              "      <td>1.0</td>\n",
              "      <td>3.0</td>\n",
              "    </tr>\n",
              "  </tbody>\n",
              "</table>\n",
              "</div>"
            ],
            "text/plain": [
              "   Unnamed: 0  Country Abbrev  ... Rankchange HomeScore  AwayScore\n",
              "0           0  Germany    GER  ...        0.0       3.0        1.0\n",
              "1           1  Germany    GER  ...        0.0       1.0        1.0\n",
              "2           2  Germany    GER  ...        0.0       5.0        0.0\n",
              "3           3  Germany    GER  ...        0.0       1.0        0.0\n",
              "4           4  Germany    GER  ...        0.0       1.0        3.0\n",
              "\n",
              "[5 rows x 17 columns]"
            ]
          },
          "metadata": {
            "tags": []
          },
          "execution_count": 54
        }
      ]
    },
    {
      "cell_type": "code",
      "metadata": {
        "id": "MCIeXDJvFFCq",
        "colab_type": "code",
        "outputId": "f72485e9-b31c-49cb-95bd-e1b640cb4136",
        "colab": {
          "base_uri": "https://localhost:8080/",
          "height": 204
        }
      },
      "source": [
        "# We will convert our categorical variables to dummy indicators\n",
        "# ------\n",
        "\n",
        "# The next thing we need to do is reformat our variables so that they work with the model. \n",
        "# Specifically, we need to reformat the neutral variable into numeric variables.\n",
        "\n",
        "neutral = pd.get_dummies(data['Neutral'], drop_first=True)\n",
        "neutral.head()"
      ],
      "execution_count": 0,
      "outputs": [
        {
          "output_type": "execute_result",
          "data": {
            "text/html": [
              "<div>\n",
              "<style scoped>\n",
              "    .dataframe tbody tr th:only-of-type {\n",
              "        vertical-align: middle;\n",
              "    }\n",
              "\n",
              "    .dataframe tbody tr th {\n",
              "        vertical-align: top;\n",
              "    }\n",
              "\n",
              "    .dataframe thead th {\n",
              "        text-align: right;\n",
              "    }\n",
              "</style>\n",
              "<table border=\"1\" class=\"dataframe\">\n",
              "  <thead>\n",
              "    <tr style=\"text-align: right;\">\n",
              "      <th></th>\n",
              "      <th>True</th>\n",
              "    </tr>\n",
              "  </thead>\n",
              "  <tbody>\n",
              "    <tr>\n",
              "      <th>0</th>\n",
              "      <td>0</td>\n",
              "    </tr>\n",
              "    <tr>\n",
              "      <th>1</th>\n",
              "      <td>0</td>\n",
              "    </tr>\n",
              "    <tr>\n",
              "      <th>2</th>\n",
              "      <td>0</td>\n",
              "    </tr>\n",
              "    <tr>\n",
              "      <th>3</th>\n",
              "      <td>0</td>\n",
              "    </tr>\n",
              "    <tr>\n",
              "      <th>4</th>\n",
              "      <td>0</td>\n",
              "    </tr>\n",
              "  </tbody>\n",
              "</table>\n",
              "</div>"
            ],
            "text/plain": [
              "   True\n",
              "0     0\n",
              "1     0\n",
              "2     0\n",
              "3     0\n",
              "4     0"
            ]
          },
          "metadata": {
            "tags": []
          },
          "execution_count": 55
        }
      ]
    },
    {
      "cell_type": "code",
      "metadata": {
        "id": "54J4IrovOjXO",
        "colab_type": "code",
        "outputId": "373dffdb-23dd-44bb-ecfc-746452240666",
        "colab": {
          "base_uri": "https://localhost:8080/",
          "height": 377
        }
      },
      "source": [
        "data.head()"
      ],
      "execution_count": 0,
      "outputs": [
        {
          "output_type": "execute_result",
          "data": {
            "text/html": [
              "<div>\n",
              "<style scoped>\n",
              "    .dataframe tbody tr th:only-of-type {\n",
              "        vertical-align: middle;\n",
              "    }\n",
              "\n",
              "    .dataframe tbody tr th {\n",
              "        vertical-align: top;\n",
              "    }\n",
              "\n",
              "    .dataframe thead th {\n",
              "        text-align: right;\n",
              "    }\n",
              "</style>\n",
              "<table border=\"1\" class=\"dataframe\">\n",
              "  <thead>\n",
              "    <tr style=\"text-align: right;\">\n",
              "      <th></th>\n",
              "      <th>Unnamed: 0</th>\n",
              "      <th>Country</th>\n",
              "      <th>Abbrev</th>\n",
              "      <th>Confederation</th>\n",
              "      <th>Date</th>\n",
              "      <th>HomeTeam</th>\n",
              "      <th>AwayTeam</th>\n",
              "      <th>Tournament</th>\n",
              "      <th>City</th>\n",
              "      <th>Venue</th>\n",
              "      <th>Neutral</th>\n",
              "      <th>Rank</th>\n",
              "      <th>TotalPoints</th>\n",
              "      <th>PreviousPoints</th>\n",
              "      <th>Rankchange</th>\n",
              "      <th>HomeScore</th>\n",
              "      <th>AwayScore</th>\n",
              "    </tr>\n",
              "  </thead>\n",
              "  <tbody>\n",
              "    <tr>\n",
              "      <th>0</th>\n",
              "      <td>0</td>\n",
              "      <td>Germany</td>\n",
              "      <td>GER</td>\n",
              "      <td>UEFA</td>\n",
              "      <td>1993-08-08</td>\n",
              "      <td>Bolivia</td>\n",
              "      <td>Uruguay</td>\n",
              "      <td>FIFA World Cup qualification</td>\n",
              "      <td>La Paz</td>\n",
              "      <td>Bolivia</td>\n",
              "      <td>False</td>\n",
              "      <td>1.0</td>\n",
              "      <td>0.0</td>\n",
              "      <td>57.0</td>\n",
              "      <td>0.0</td>\n",
              "      <td>3.0</td>\n",
              "      <td>1.0</td>\n",
              "    </tr>\n",
              "    <tr>\n",
              "      <th>1</th>\n",
              "      <td>1</td>\n",
              "      <td>Germany</td>\n",
              "      <td>GER</td>\n",
              "      <td>UEFA</td>\n",
              "      <td>1993-08-08</td>\n",
              "      <td>Brazil</td>\n",
              "      <td>Mexico</td>\n",
              "      <td>Friendly</td>\n",
              "      <td>Maceió</td>\n",
              "      <td>Brazil</td>\n",
              "      <td>False</td>\n",
              "      <td>1.0</td>\n",
              "      <td>0.0</td>\n",
              "      <td>57.0</td>\n",
              "      <td>0.0</td>\n",
              "      <td>1.0</td>\n",
              "      <td>1.0</td>\n",
              "    </tr>\n",
              "    <tr>\n",
              "      <th>2</th>\n",
              "      <td>2</td>\n",
              "      <td>Germany</td>\n",
              "      <td>GER</td>\n",
              "      <td>UEFA</td>\n",
              "      <td>1993-08-08</td>\n",
              "      <td>Ecuador</td>\n",
              "      <td>Venezuela</td>\n",
              "      <td>FIFA World Cup qualification</td>\n",
              "      <td>Quito</td>\n",
              "      <td>Ecuador</td>\n",
              "      <td>False</td>\n",
              "      <td>1.0</td>\n",
              "      <td>0.0</td>\n",
              "      <td>57.0</td>\n",
              "      <td>0.0</td>\n",
              "      <td>5.0</td>\n",
              "      <td>0.0</td>\n",
              "    </tr>\n",
              "    <tr>\n",
              "      <th>3</th>\n",
              "      <td>3</td>\n",
              "      <td>Germany</td>\n",
              "      <td>GER</td>\n",
              "      <td>UEFA</td>\n",
              "      <td>1993-08-08</td>\n",
              "      <td>Guinea</td>\n",
              "      <td>Sierra Leone</td>\n",
              "      <td>Friendly</td>\n",
              "      <td>Conakry</td>\n",
              "      <td>Guinea</td>\n",
              "      <td>False</td>\n",
              "      <td>1.0</td>\n",
              "      <td>0.0</td>\n",
              "      <td>57.0</td>\n",
              "      <td>0.0</td>\n",
              "      <td>1.0</td>\n",
              "      <td>0.0</td>\n",
              "    </tr>\n",
              "    <tr>\n",
              "      <th>4</th>\n",
              "      <td>4</td>\n",
              "      <td>Germany</td>\n",
              "      <td>GER</td>\n",
              "      <td>UEFA</td>\n",
              "      <td>1993-08-08</td>\n",
              "      <td>Paraguay</td>\n",
              "      <td>Argentina</td>\n",
              "      <td>FIFA World Cup qualification</td>\n",
              "      <td>Asunción</td>\n",
              "      <td>Paraguay</td>\n",
              "      <td>False</td>\n",
              "      <td>1.0</td>\n",
              "      <td>0.0</td>\n",
              "      <td>57.0</td>\n",
              "      <td>0.0</td>\n",
              "      <td>1.0</td>\n",
              "      <td>3.0</td>\n",
              "    </tr>\n",
              "  </tbody>\n",
              "</table>\n",
              "</div>"
            ],
            "text/plain": [
              "   Unnamed: 0  Country Abbrev  ... Rankchange HomeScore AwayScore\n",
              "0           0  Germany    GER  ...        0.0       3.0       1.0\n",
              "1           1  Germany    GER  ...        0.0       1.0       1.0\n",
              "2           2  Germany    GER  ...        0.0       5.0       0.0\n",
              "3           3  Germany    GER  ...        0.0       1.0       0.0\n",
              "4           4  Germany    GER  ...        0.0       1.0       3.0\n",
              "\n",
              "[5 rows x 17 columns]"
            ]
          },
          "metadata": {
            "tags": []
          },
          "execution_count": 56
        }
      ]
    },
    {
      "cell_type": "code",
      "metadata": {
        "id": "xeifJo6XO52k",
        "colab_type": "code",
        "outputId": "cfc54db8-88dc-42af-83f6-b12275936260",
        "colab": {
          "base_uri": "https://localhost:8080/",
          "height": 360
        }
      },
      "source": [
        "data.drop(['Abbrev', 'TotalPoints',\t'PreviousPoints',\t'Rankchange', 'Date',\t'City', 'Country', 'Venue', 'Neutral'], axis=1, inplace=True)\n",
        "data.head()"
      ],
      "execution_count": 0,
      "outputs": [
        {
          "output_type": "execute_result",
          "data": {
            "text/html": [
              "<div>\n",
              "<style scoped>\n",
              "    .dataframe tbody tr th:only-of-type {\n",
              "        vertical-align: middle;\n",
              "    }\n",
              "\n",
              "    .dataframe tbody tr th {\n",
              "        vertical-align: top;\n",
              "    }\n",
              "\n",
              "    .dataframe thead th {\n",
              "        text-align: right;\n",
              "    }\n",
              "</style>\n",
              "<table border=\"1\" class=\"dataframe\">\n",
              "  <thead>\n",
              "    <tr style=\"text-align: right;\">\n",
              "      <th></th>\n",
              "      <th>Unnamed: 0</th>\n",
              "      <th>Confederation</th>\n",
              "      <th>HomeTeam</th>\n",
              "      <th>AwayTeam</th>\n",
              "      <th>Tournament</th>\n",
              "      <th>Rank</th>\n",
              "      <th>HomeScore</th>\n",
              "      <th>AwayScore</th>\n",
              "    </tr>\n",
              "  </thead>\n",
              "  <tbody>\n",
              "    <tr>\n",
              "      <th>0</th>\n",
              "      <td>0</td>\n",
              "      <td>UEFA</td>\n",
              "      <td>Bolivia</td>\n",
              "      <td>Uruguay</td>\n",
              "      <td>FIFA World Cup qualification</td>\n",
              "      <td>1.0</td>\n",
              "      <td>3.0</td>\n",
              "      <td>1.0</td>\n",
              "    </tr>\n",
              "    <tr>\n",
              "      <th>1</th>\n",
              "      <td>1</td>\n",
              "      <td>UEFA</td>\n",
              "      <td>Brazil</td>\n",
              "      <td>Mexico</td>\n",
              "      <td>Friendly</td>\n",
              "      <td>1.0</td>\n",
              "      <td>1.0</td>\n",
              "      <td>1.0</td>\n",
              "    </tr>\n",
              "    <tr>\n",
              "      <th>2</th>\n",
              "      <td>2</td>\n",
              "      <td>UEFA</td>\n",
              "      <td>Ecuador</td>\n",
              "      <td>Venezuela</td>\n",
              "      <td>FIFA World Cup qualification</td>\n",
              "      <td>1.0</td>\n",
              "      <td>5.0</td>\n",
              "      <td>0.0</td>\n",
              "    </tr>\n",
              "    <tr>\n",
              "      <th>3</th>\n",
              "      <td>3</td>\n",
              "      <td>UEFA</td>\n",
              "      <td>Guinea</td>\n",
              "      <td>Sierra Leone</td>\n",
              "      <td>Friendly</td>\n",
              "      <td>1.0</td>\n",
              "      <td>1.0</td>\n",
              "      <td>0.0</td>\n",
              "    </tr>\n",
              "    <tr>\n",
              "      <th>4</th>\n",
              "      <td>4</td>\n",
              "      <td>UEFA</td>\n",
              "      <td>Paraguay</td>\n",
              "      <td>Argentina</td>\n",
              "      <td>FIFA World Cup qualification</td>\n",
              "      <td>1.0</td>\n",
              "      <td>1.0</td>\n",
              "      <td>3.0</td>\n",
              "    </tr>\n",
              "  </tbody>\n",
              "</table>\n",
              "</div>"
            ],
            "text/plain": [
              "   Unnamed: 0 Confederation  HomeTeam  ... Rank HomeScore  AwayScore\n",
              "0           0          UEFA   Bolivia  ...  1.0       3.0        1.0\n",
              "1           1          UEFA    Brazil  ...  1.0       1.0        1.0\n",
              "2           2          UEFA   Ecuador  ...  1.0       5.0        0.0\n",
              "3           3          UEFA    Guinea  ...  1.0       1.0        0.0\n",
              "4           4          UEFA  Paraguay  ...  1.0       1.0        3.0\n",
              "\n",
              "[5 rows x 8 columns]"
            ]
          },
          "metadata": {
            "tags": []
          },
          "execution_count": 60
        }
      ]
    },
    {
      "cell_type": "code",
      "metadata": {
        "id": "w9eN8WCsNfZo",
        "colab_type": "code",
        "outputId": "c6532718-724c-4c40-aa52-b1065885162d",
        "colab": {
          "base_uri": "https://localhost:8080/",
          "height": 360
        }
      },
      "source": [
        "data_1 = pd.concat([data,neutral], axis=1)\n",
        "data_1.head()"
      ],
      "execution_count": 0,
      "outputs": [
        {
          "output_type": "execute_result",
          "data": {
            "text/html": [
              "<div>\n",
              "<style scoped>\n",
              "    .dataframe tbody tr th:only-of-type {\n",
              "        vertical-align: middle;\n",
              "    }\n",
              "\n",
              "    .dataframe tbody tr th {\n",
              "        vertical-align: top;\n",
              "    }\n",
              "\n",
              "    .dataframe thead th {\n",
              "        text-align: right;\n",
              "    }\n",
              "</style>\n",
              "<table border=\"1\" class=\"dataframe\">\n",
              "  <thead>\n",
              "    <tr style=\"text-align: right;\">\n",
              "      <th></th>\n",
              "      <th>Unnamed: 0</th>\n",
              "      <th>Confederation</th>\n",
              "      <th>HomeTeam</th>\n",
              "      <th>AwayTeam</th>\n",
              "      <th>Tournament</th>\n",
              "      <th>Rank</th>\n",
              "      <th>HomeScore</th>\n",
              "      <th>AwayScore</th>\n",
              "      <th>True</th>\n",
              "    </tr>\n",
              "  </thead>\n",
              "  <tbody>\n",
              "    <tr>\n",
              "      <th>0</th>\n",
              "      <td>0</td>\n",
              "      <td>UEFA</td>\n",
              "      <td>Bolivia</td>\n",
              "      <td>Uruguay</td>\n",
              "      <td>FIFA World Cup qualification</td>\n",
              "      <td>1.0</td>\n",
              "      <td>3.0</td>\n",
              "      <td>1.0</td>\n",
              "      <td>0</td>\n",
              "    </tr>\n",
              "    <tr>\n",
              "      <th>1</th>\n",
              "      <td>1</td>\n",
              "      <td>UEFA</td>\n",
              "      <td>Brazil</td>\n",
              "      <td>Mexico</td>\n",
              "      <td>Friendly</td>\n",
              "      <td>1.0</td>\n",
              "      <td>1.0</td>\n",
              "      <td>1.0</td>\n",
              "      <td>0</td>\n",
              "    </tr>\n",
              "    <tr>\n",
              "      <th>2</th>\n",
              "      <td>2</td>\n",
              "      <td>UEFA</td>\n",
              "      <td>Ecuador</td>\n",
              "      <td>Venezuela</td>\n",
              "      <td>FIFA World Cup qualification</td>\n",
              "      <td>1.0</td>\n",
              "      <td>5.0</td>\n",
              "      <td>0.0</td>\n",
              "      <td>0</td>\n",
              "    </tr>\n",
              "    <tr>\n",
              "      <th>3</th>\n",
              "      <td>3</td>\n",
              "      <td>UEFA</td>\n",
              "      <td>Guinea</td>\n",
              "      <td>Sierra Leone</td>\n",
              "      <td>Friendly</td>\n",
              "      <td>1.0</td>\n",
              "      <td>1.0</td>\n",
              "      <td>0.0</td>\n",
              "      <td>0</td>\n",
              "    </tr>\n",
              "    <tr>\n",
              "      <th>4</th>\n",
              "      <td>4</td>\n",
              "      <td>UEFA</td>\n",
              "      <td>Paraguay</td>\n",
              "      <td>Argentina</td>\n",
              "      <td>FIFA World Cup qualification</td>\n",
              "      <td>1.0</td>\n",
              "      <td>1.0</td>\n",
              "      <td>3.0</td>\n",
              "      <td>0</td>\n",
              "    </tr>\n",
              "  </tbody>\n",
              "</table>\n",
              "</div>"
            ],
            "text/plain": [
              "   Unnamed: 0 Confederation  HomeTeam  ... HomeScore AwayScore  True\n",
              "0           0          UEFA   Bolivia  ...       3.0       1.0     0\n",
              "1           1          UEFA    Brazil  ...       1.0       1.0     0\n",
              "2           2          UEFA   Ecuador  ...       5.0       0.0     0\n",
              "3           3          UEFA    Guinea  ...       1.0       0.0     0\n",
              "4           4          UEFA  Paraguay  ...       1.0       3.0     0\n",
              "\n",
              "[5 rows x 9 columns]"
            ]
          },
          "metadata": {
            "tags": []
          },
          "execution_count": 62
        }
      ]
    },
    {
      "cell_type": "code",
      "metadata": {
        "id": "SNT8NMLmT0Q1",
        "colab_type": "code",
        "outputId": "3e21ff00-ee9a-4c0c-de3f-997bda5e6475",
        "colab": {
          "base_uri": "https://localhost:8080/",
          "height": 830
        }
      },
      "source": [
        "# We will then create another column known as status to represent the outcomes we want to predict\n",
        "# We will use the numbers 0, 1, 2 to show loss draw and win respectively\n",
        "\n",
        "data_1.loc[data_1['HomeScore'] < data_1['AwayScore'], 'Status'] = '0'\n",
        "\n",
        "data_1.loc[data_1['HomeScore'] == data_1['AwayScore'], 'Status'] ='1'\n",
        "\n",
        "data_1.loc[data_1['HomeScore'] > data_1['AwayScore'], 'Status'] = '2'  \n",
        "\n",
        "data_1"
      ],
      "execution_count": 0,
      "outputs": [
        {
          "output_type": "execute_result",
          "data": {
            "text/html": [
              "<div>\n",
              "<style scoped>\n",
              "    .dataframe tbody tr th:only-of-type {\n",
              "        vertical-align: middle;\n",
              "    }\n",
              "\n",
              "    .dataframe tbody tr th {\n",
              "        vertical-align: top;\n",
              "    }\n",
              "\n",
              "    .dataframe thead th {\n",
              "        text-align: right;\n",
              "    }\n",
              "</style>\n",
              "<table border=\"1\" class=\"dataframe\">\n",
              "  <thead>\n",
              "    <tr style=\"text-align: right;\">\n",
              "      <th></th>\n",
              "      <th>Unnamed: 0</th>\n",
              "      <th>Confederation</th>\n",
              "      <th>HomeTeam</th>\n",
              "      <th>AwayTeam</th>\n",
              "      <th>Tournament</th>\n",
              "      <th>Rank</th>\n",
              "      <th>HomeScore</th>\n",
              "      <th>AwayScore</th>\n",
              "      <th>True</th>\n",
              "      <th>Status</th>\n",
              "    </tr>\n",
              "  </thead>\n",
              "  <tbody>\n",
              "    <tr>\n",
              "      <th>0</th>\n",
              "      <td>0</td>\n",
              "      <td>UEFA</td>\n",
              "      <td>Bolivia</td>\n",
              "      <td>Uruguay</td>\n",
              "      <td>FIFA World Cup qualification</td>\n",
              "      <td>1.0</td>\n",
              "      <td>3.0</td>\n",
              "      <td>1.0</td>\n",
              "      <td>0</td>\n",
              "      <td>2</td>\n",
              "    </tr>\n",
              "    <tr>\n",
              "      <th>1</th>\n",
              "      <td>1</td>\n",
              "      <td>UEFA</td>\n",
              "      <td>Brazil</td>\n",
              "      <td>Mexico</td>\n",
              "      <td>Friendly</td>\n",
              "      <td>1.0</td>\n",
              "      <td>1.0</td>\n",
              "      <td>1.0</td>\n",
              "      <td>0</td>\n",
              "      <td>1</td>\n",
              "    </tr>\n",
              "    <tr>\n",
              "      <th>2</th>\n",
              "      <td>2</td>\n",
              "      <td>UEFA</td>\n",
              "      <td>Ecuador</td>\n",
              "      <td>Venezuela</td>\n",
              "      <td>FIFA World Cup qualification</td>\n",
              "      <td>1.0</td>\n",
              "      <td>5.0</td>\n",
              "      <td>0.0</td>\n",
              "      <td>0</td>\n",
              "      <td>2</td>\n",
              "    </tr>\n",
              "    <tr>\n",
              "      <th>3</th>\n",
              "      <td>3</td>\n",
              "      <td>UEFA</td>\n",
              "      <td>Guinea</td>\n",
              "      <td>Sierra Leone</td>\n",
              "      <td>Friendly</td>\n",
              "      <td>1.0</td>\n",
              "      <td>1.0</td>\n",
              "      <td>0.0</td>\n",
              "      <td>0</td>\n",
              "      <td>2</td>\n",
              "    </tr>\n",
              "    <tr>\n",
              "      <th>4</th>\n",
              "      <td>4</td>\n",
              "      <td>UEFA</td>\n",
              "      <td>Paraguay</td>\n",
              "      <td>Argentina</td>\n",
              "      <td>FIFA World Cup qualification</td>\n",
              "      <td>1.0</td>\n",
              "      <td>1.0</td>\n",
              "      <td>3.0</td>\n",
              "      <td>0</td>\n",
              "      <td>0</td>\n",
              "    </tr>\n",
              "    <tr>\n",
              "      <th>...</th>\n",
              "      <td>...</td>\n",
              "      <td>...</td>\n",
              "      <td>...</td>\n",
              "      <td>...</td>\n",
              "      <td>...</td>\n",
              "      <td>...</td>\n",
              "      <td>...</td>\n",
              "      <td>...</td>\n",
              "      <td>...</td>\n",
              "      <td>...</td>\n",
              "    </tr>\n",
              "    <tr>\n",
              "      <th>212791</th>\n",
              "      <td>212824</td>\n",
              "      <td>OFC</td>\n",
              "      <td>Tamil Eelam</td>\n",
              "      <td>Tuvalu</td>\n",
              "      <td>CONIFA World Football Cup</td>\n",
              "      <td>206.0</td>\n",
              "      <td>4.0</td>\n",
              "      <td>3.0</td>\n",
              "      <td>1</td>\n",
              "      <td>2</td>\n",
              "    </tr>\n",
              "    <tr>\n",
              "      <th>212793</th>\n",
              "      <td>212826</td>\n",
              "      <td>OFC</td>\n",
              "      <td>Abkhazia</td>\n",
              "      <td>United Koreans in Japan</td>\n",
              "      <td>CONIFA World Football Cup</td>\n",
              "      <td>206.0</td>\n",
              "      <td>2.0</td>\n",
              "      <td>0.0</td>\n",
              "      <td>1</td>\n",
              "      <td>2</td>\n",
              "    </tr>\n",
              "    <tr>\n",
              "      <th>212795</th>\n",
              "      <td>212828</td>\n",
              "      <td>OFC</td>\n",
              "      <td>Cascadia</td>\n",
              "      <td>Western Armenia</td>\n",
              "      <td>CONIFA World Football Cup</td>\n",
              "      <td>206.0</td>\n",
              "      <td>4.0</td>\n",
              "      <td>0.0</td>\n",
              "      <td>1</td>\n",
              "      <td>2</td>\n",
              "    </tr>\n",
              "    <tr>\n",
              "      <th>212796</th>\n",
              "      <td>212829</td>\n",
              "      <td>OFC</td>\n",
              "      <td>Northern Cyprus</td>\n",
              "      <td>Padania</td>\n",
              "      <td>CONIFA World Football Cup</td>\n",
              "      <td>206.0</td>\n",
              "      <td>3.0</td>\n",
              "      <td>2.0</td>\n",
              "      <td>1</td>\n",
              "      <td>2</td>\n",
              "    </tr>\n",
              "    <tr>\n",
              "      <th>212797</th>\n",
              "      <td>212830</td>\n",
              "      <td>OFC</td>\n",
              "      <td>Kárpátalja</td>\n",
              "      <td>Székely Land</td>\n",
              "      <td>CONIFA World Football Cup</td>\n",
              "      <td>206.0</td>\n",
              "      <td>4.0</td>\n",
              "      <td>2.0</td>\n",
              "      <td>1</td>\n",
              "      <td>2</td>\n",
              "    </tr>\n",
              "  </tbody>\n",
              "</table>\n",
              "<p>193629 rows × 10 columns</p>\n",
              "</div>"
            ],
            "text/plain": [
              "        Unnamed: 0 Confederation         HomeTeam  ... AwayScore True  Status\n",
              "0                0          UEFA          Bolivia  ...       1.0    0       2\n",
              "1                1          UEFA           Brazil  ...       1.0    0       1\n",
              "2                2          UEFA          Ecuador  ...       0.0    0       2\n",
              "3                3          UEFA           Guinea  ...       0.0    0       2\n",
              "4                4          UEFA         Paraguay  ...       3.0    0       0\n",
              "...            ...           ...              ...  ...       ...  ...     ...\n",
              "212791      212824           OFC      Tamil Eelam  ...       3.0    1       2\n",
              "212793      212826           OFC         Abkhazia  ...       0.0    1       2\n",
              "212795      212828           OFC         Cascadia  ...       0.0    1       2\n",
              "212796      212829           OFC  Northern Cyprus  ...       2.0    1       2\n",
              "212797      212830           OFC       Kárpátalja  ...       2.0    1       2\n",
              "\n",
              "[193629 rows x 10 columns]"
            ]
          },
          "metadata": {
            "tags": []
          },
          "execution_count": 63
        }
      ]
    },
    {
      "cell_type": "code",
      "metadata": {
        "id": "JNniwrwogYIM",
        "colab_type": "code",
        "outputId": "dc0f72f8-db12-4eca-a0fc-f3030536008a",
        "colab": {
          "base_uri": "https://localhost:8080/",
          "height": 296
        }
      },
      "source": [
        "# Checking our variable\n",
        "\n",
        "sns.countplot(x='Status', data=data_1, palette='hls')"
      ],
      "execution_count": 0,
      "outputs": [
        {
          "output_type": "execute_result",
          "data": {
            "text/plain": [
              "<matplotlib.axes._subplots.AxesSubplot at 0x7fd01f961ba8>"
            ]
          },
          "metadata": {
            "tags": []
          },
          "execution_count": 64
        },
        {
          "output_type": "display_data",
          "data": {
            "image/png": "[encoded data removed]",
            "text/plain": [
              "<Figure size 432x288 with 1 Axes>"
            ]
          },
          "metadata": {
            "tags": [],
            "needs_background": "light"
          }
        }
      ]
    },
    {
      "cell_type": "markdown",
      "metadata": {
        "id": "gGyi25XOfvTy",
        "colab_type": "text"
      },
      "source": [
        "Our data shows us that the number of games won is the highest by teams which play at home. The number of draws are slighly more than losses."
      ]
    },
    {
      "cell_type": "code",
      "metadata": {
        "id": "TyL-EkTdhEpz",
        "colab_type": "code",
        "outputId": "dd274427-8398-4751-c3ce-7d3b27b3afe1",
        "colab": {
          "base_uri": "https://localhost:8080/",
          "height": 360
        }
      },
      "source": [
        "data_1.head()"
      ],
      "execution_count": 0,
      "outputs": [
        {
          "output_type": "execute_result",
          "data": {
            "text/html": [
              "<div>\n",
              "<style scoped>\n",
              "    .dataframe tbody tr th:only-of-type {\n",
              "        vertical-align: middle;\n",
              "    }\n",
              "\n",
              "    .dataframe tbody tr th {\n",
              "        vertical-align: top;\n",
              "    }\n",
              "\n",
              "    .dataframe thead th {\n",
              "        text-align: right;\n",
              "    }\n",
              "</style>\n",
              "<table border=\"1\" class=\"dataframe\">\n",
              "  <thead>\n",
              "    <tr style=\"text-align: right;\">\n",
              "      <th></th>\n",
              "      <th>Unnamed: 0</th>\n",
              "      <th>Confederation</th>\n",
              "      <th>HomeTeam</th>\n",
              "      <th>AwayTeam</th>\n",
              "      <th>Tournament</th>\n",
              "      <th>Rank</th>\n",
              "      <th>HomeScore</th>\n",
              "      <th>AwayScore</th>\n",
              "      <th>True</th>\n",
              "      <th>Status</th>\n",
              "    </tr>\n",
              "  </thead>\n",
              "  <tbody>\n",
              "    <tr>\n",
              "      <th>0</th>\n",
              "      <td>0</td>\n",
              "      <td>UEFA</td>\n",
              "      <td>Bolivia</td>\n",
              "      <td>Uruguay</td>\n",
              "      <td>FIFA World Cup qualification</td>\n",
              "      <td>1.0</td>\n",
              "      <td>3.0</td>\n",
              "      <td>1.0</td>\n",
              "      <td>0</td>\n",
              "      <td>2</td>\n",
              "    </tr>\n",
              "    <tr>\n",
              "      <th>1</th>\n",
              "      <td>1</td>\n",
              "      <td>UEFA</td>\n",
              "      <td>Brazil</td>\n",
              "      <td>Mexico</td>\n",
              "      <td>Friendly</td>\n",
              "      <td>1.0</td>\n",
              "      <td>1.0</td>\n",
              "      <td>1.0</td>\n",
              "      <td>0</td>\n",
              "      <td>1</td>\n",
              "    </tr>\n",
              "    <tr>\n",
              "      <th>2</th>\n",
              "      <td>2</td>\n",
              "      <td>UEFA</td>\n",
              "      <td>Ecuador</td>\n",
              "      <td>Venezuela</td>\n",
              "      <td>FIFA World Cup qualification</td>\n",
              "      <td>1.0</td>\n",
              "      <td>5.0</td>\n",
              "      <td>0.0</td>\n",
              "      <td>0</td>\n",
              "      <td>2</td>\n",
              "    </tr>\n",
              "    <tr>\n",
              "      <th>3</th>\n",
              "      <td>3</td>\n",
              "      <td>UEFA</td>\n",
              "      <td>Guinea</td>\n",
              "      <td>Sierra Leone</td>\n",
              "      <td>Friendly</td>\n",
              "      <td>1.0</td>\n",
              "      <td>1.0</td>\n",
              "      <td>0.0</td>\n",
              "      <td>0</td>\n",
              "      <td>2</td>\n",
              "    </tr>\n",
              "    <tr>\n",
              "      <th>4</th>\n",
              "      <td>4</td>\n",
              "      <td>UEFA</td>\n",
              "      <td>Paraguay</td>\n",
              "      <td>Argentina</td>\n",
              "      <td>FIFA World Cup qualification</td>\n",
              "      <td>1.0</td>\n",
              "      <td>1.0</td>\n",
              "      <td>3.0</td>\n",
              "      <td>0</td>\n",
              "      <td>0</td>\n",
              "    </tr>\n",
              "  </tbody>\n",
              "</table>\n",
              "</div>"
            ],
            "text/plain": [
              "   Unnamed: 0 Confederation  HomeTeam  ... AwayScore True  Status\n",
              "0           0          UEFA   Bolivia  ...       1.0    0       2\n",
              "1           1          UEFA    Brazil  ...       1.0    0       1\n",
              "2           2          UEFA   Ecuador  ...       0.0    0       2\n",
              "3           3          UEFA    Guinea  ...       0.0    0       2\n",
              "4           4          UEFA  Paraguay  ...       3.0    0       0\n",
              "\n",
              "[5 rows x 10 columns]"
            ]
          },
          "metadata": {
            "tags": []
          },
          "execution_count": 77
        }
      ]
    },
    {
      "cell_type": "code",
      "metadata": {
        "id": "fMzXFvl6zsnR",
        "colab_type": "code",
        "outputId": "d2d85784-e8b1-41fd-d863-2c80128ecc87",
        "colab": {
          "base_uri": "https://localhost:8080/",
          "height": 297
        }
      },
      "source": [
        "data_1.describe()"
      ],
      "execution_count": 0,
      "outputs": [
        {
          "output_type": "execute_result",
          "data": {
            "text/html": [
              "<div>\n",
              "<style scoped>\n",
              "    .dataframe tbody tr th:only-of-type {\n",
              "        vertical-align: middle;\n",
              "    }\n",
              "\n",
              "    .dataframe tbody tr th {\n",
              "        vertical-align: top;\n",
              "    }\n",
              "\n",
              "    .dataframe thead th {\n",
              "        text-align: right;\n",
              "    }\n",
              "</style>\n",
              "<table border=\"1\" class=\"dataframe\">\n",
              "  <thead>\n",
              "    <tr style=\"text-align: right;\">\n",
              "      <th></th>\n",
              "      <th>Unnamed: 0</th>\n",
              "      <th>Rank</th>\n",
              "      <th>HomeScore</th>\n",
              "      <th>AwayScore</th>\n",
              "      <th>True</th>\n",
              "    </tr>\n",
              "  </thead>\n",
              "  <tbody>\n",
              "    <tr>\n",
              "      <th>count</th>\n",
              "      <td>193629.000000</td>\n",
              "      <td>193629.000000</td>\n",
              "      <td>193629.000000</td>\n",
              "      <td>193629.000000</td>\n",
              "      <td>193629.000000</td>\n",
              "    </tr>\n",
              "    <tr>\n",
              "      <th>mean</th>\n",
              "      <td>102577.495272</td>\n",
              "      <td>105.011047</td>\n",
              "      <td>1.537631</td>\n",
              "      <td>0.971905</td>\n",
              "      <td>0.172066</td>\n",
              "    </tr>\n",
              "    <tr>\n",
              "      <th>std</th>\n",
              "      <td>59612.006973</td>\n",
              "      <td>57.904750</td>\n",
              "      <td>1.412315</td>\n",
              "      <td>1.017426</td>\n",
              "      <td>0.377439</td>\n",
              "    </tr>\n",
              "    <tr>\n",
              "      <th>min</th>\n",
              "      <td>0.000000</td>\n",
              "      <td>1.000000</td>\n",
              "      <td>0.000000</td>\n",
              "      <td>0.000000</td>\n",
              "      <td>0.000000</td>\n",
              "    </tr>\n",
              "    <tr>\n",
              "      <th>25%</th>\n",
              "      <td>51104.000000</td>\n",
              "      <td>56.000000</td>\n",
              "      <td>0.000000</td>\n",
              "      <td>0.000000</td>\n",
              "      <td>0.000000</td>\n",
              "    </tr>\n",
              "    <tr>\n",
              "      <th>50%</th>\n",
              "      <td>102028.000000</td>\n",
              "      <td>106.000000</td>\n",
              "      <td>1.000000</td>\n",
              "      <td>1.000000</td>\n",
              "      <td>0.000000</td>\n",
              "    </tr>\n",
              "    <tr>\n",
              "      <th>75%</th>\n",
              "      <td>153845.000000</td>\n",
              "      <td>155.000000</td>\n",
              "      <td>2.000000</td>\n",
              "      <td>2.000000</td>\n",
              "      <td>0.000000</td>\n",
              "    </tr>\n",
              "    <tr>\n",
              "      <th>max</th>\n",
              "      <td>212830.000000</td>\n",
              "      <td>209.000000</td>\n",
              "      <td>7.000000</td>\n",
              "      <td>4.000000</td>\n",
              "      <td>1.000000</td>\n",
              "    </tr>\n",
              "  </tbody>\n",
              "</table>\n",
              "</div>"
            ],
            "text/plain": [
              "          Unnamed: 0           Rank  ...      AwayScore           True\n",
              "count  193629.000000  193629.000000  ...  193629.000000  193629.000000\n",
              "mean   102577.495272     105.011047  ...       0.971905       0.172066\n",
              "std     59612.006973      57.904750  ...       1.017426       0.377439\n",
              "min         0.000000       1.000000  ...       0.000000       0.000000\n",
              "25%     51104.000000      56.000000  ...       0.000000       0.000000\n",
              "50%    102028.000000     106.000000  ...       1.000000       0.000000\n",
              "75%    153845.000000     155.000000  ...       2.000000       0.000000\n",
              "max    212830.000000     209.000000  ...       4.000000       1.000000\n",
              "\n",
              "[8 rows x 5 columns]"
            ]
          },
          "metadata": {
            "tags": []
          },
          "execution_count": 86
        }
      ]
    },
    {
      "cell_type": "code",
      "metadata": {
        "id": "1X410QSepOXL",
        "colab_type": "code",
        "colab": {}
      },
      "source": [
        "# Dropping the columns that we will not need\n",
        "\n",
        "data_1.drop(['Confederation', 'HomeTeam', 'Tournament', 'AwayTeam'], inplace=True, axis=1)"
      ],
      "execution_count": 0,
      "outputs": []
    },
    {
      "cell_type": "code",
      "metadata": {
        "id": "7TYBZSIkgPfh",
        "colab_type": "code",
        "outputId": "d4c5ef19-3acf-4a63-ad66-ae89906a98f3",
        "colab": {
          "base_uri": "https://localhost:8080/",
          "height": 459
        }
      },
      "source": [
        "# Creating our prediction model\n",
        "# --------\n",
        "\n",
        "# Splitting our dataset\n",
        "from sklearn.model_selection import train_test_split\n",
        "\n",
        "X = data_1.drop(\"HomeScore\", axis=1)\n",
        "y = data_1['HomeScore']\n",
        "\n",
        "print(X)\n",
        "print(y)\n",
        "\n",
        "X_train, X_test, y_train, y_test = train_test_split(X, y, test_size=0.2, random_state=0)\n"
      ],
      "execution_count": 0,
      "outputs": [
        {
          "output_type": "stream",
          "text": [
            "        Unnamed: 0   Rank  AwayScore  True Status\n",
            "0                0    1.0        1.0     0      2\n",
            "1                1    1.0        1.0     0      1\n",
            "2                2    1.0        0.0     0      2\n",
            "3                3    1.0        0.0     0      2\n",
            "4                4    1.0        3.0     0      0\n",
            "...            ...    ...        ...   ...    ...\n",
            "212791      212824  206.0        3.0     1      2\n",
            "212793      212826  206.0        0.0     1      2\n",
            "212795      212828  206.0        0.0     1      2\n",
            "212796      212829  206.0        2.0     1      2\n",
            "212797      212830  206.0        2.0     1      2\n",
            "\n",
            "[193629 rows x 5 columns]\n",
            "0         3.0\n",
            "1         1.0\n",
            "2         5.0\n",
            "3         1.0\n",
            "4         1.0\n",
            "         ... \n",
            "212791    4.0\n",
            "212793    2.0\n",
            "212795    4.0\n",
            "212796    3.0\n",
            "212797    4.0\n",
            "Name: HomeScore, Length: 193629, dtype: float64\n"
          ],
          "name": "stdout"
        }
      ]
    },
    {
      "cell_type": "code",
      "metadata": {
        "id": "7iFwpaqWjHX9",
        "colab_type": "code",
        "outputId": "c947d072-4299-4533-929d-0fb64c852ace",
        "colab": {
          "base_uri": "https://localhost:8080/",
          "height": 258
        }
      },
      "source": [
        "# Fitting our model\n",
        "\n",
        "from sklearn.linear_model import LogisticRegression\n",
        "\n",
        "LogReg = LogisticRegression()\n",
        "LogReg.fit(X_train, y_train)\n"
      ],
      "execution_count": 0,
      "outputs": [
        {
          "output_type": "stream",
          "text": [
            "/usr/local/lib/python3.6/dist-packages/sklearn/linear_model/_logistic.py:940: ConvergenceWarning: lbfgs failed to converge (status=1):\n",
            "STOP: TOTAL NO. of ITERATIONS REACHED LIMIT.\n",
            "\n",
            "Increase the number of iterations (max_iter) or scale the data as shown in:\n",
            "    https://scikit-learn.org/stable/modules/preprocessing.html\n",
            "Please also refer to the documentation for alternative solver options:\n",
            "    https://scikit-learn.org/stable/modules/linear_model.html#logistic-regression\n",
            "  extra_warning_msg=_LOGISTIC_SOLVER_CONVERGENCE_MSG)\n"
          ],
          "name": "stderr"
        },
        {
          "output_type": "execute_result",
          "data": {
            "text/plain": [
              "LogisticRegression(C=1.0, class_weight=None, dual=False, fit_intercept=True,\n",
              "                   intercept_scaling=1, l1_ratio=None, max_iter=100,\n",
              "                   multi_class='auto', n_jobs=None, penalty='l2',\n",
              "                   random_state=None, solver='lbfgs', tol=0.0001, verbose=0,\n",
              "                   warm_start=False)"
            ]
          },
          "metadata": {
            "tags": []
          },
          "execution_count": 82
        }
      ]
    },
    {
      "cell_type": "code",
      "metadata": {
        "id": "4jMnYL_crt_e",
        "colab_type": "code",
        "outputId": "e686bef9-2cf2-4f40-95bb-c0bd62c03b92",
        "colab": {
          "base_uri": "https://localhost:8080/",
          "height": 34
        }
      },
      "source": [
        "# Using our model to make a prediction\n",
        "\n",
        "y_pred = LogReg.predict(X_test)\n",
        "y_pred"
      ],
      "execution_count": 0,
      "outputs": [
        {
          "output_type": "execute_result",
          "data": {
            "text/plain": [
              "array([1., 0., 1., ..., 1., 1., 1.])"
            ]
          },
          "metadata": {
            "tags": []
          },
          "execution_count": 87
        }
      ]
    },
    {
      "cell_type": "code",
      "metadata": {
        "id": "JklTBewzsG7X",
        "colab_type": "code",
        "outputId": "d43aaad7-3417-4ef3-bb7a-6355b41a6f18",
        "colab": {
          "base_uri": "https://localhost:8080/",
          "height": 153
        }
      },
      "source": [
        "# Evaluating the model\n",
        "\n",
        "from sklearn.metrics import confusion_matrix\n",
        "\n",
        "confusion_matrix = confusion_matrix(y_test, y_pred)\n",
        "confusion_matrix"
      ],
      "execution_count": 0,
      "outputs": [
        {
          "output_type": "execute_result",
          "data": {
            "text/plain": [
              "array([[2215, 7752,    0,    0,    0,    0,    0,    0],\n",
              "       [2442, 9205,   14,    0,    0,    0,    0,    0],\n",
              "       [1802, 7412,   15,    0,    0,    0,    0,    0],\n",
              "       [ 935, 3433,    9,    0,    0,    0,    0,    0],\n",
              "       [ 369, 1335,    0,    0,    0,    0,    0,    0],\n",
              "       [ 322,  748,    9,    0,    0,    0,    0,    0],\n",
              "       [  70,  394,    1,    0,    0,    0,    0,    0],\n",
              "       [  32,  212,    0,    0,    0,    0,    0,    0]])"
            ]
          },
          "metadata": {
            "tags": []
          },
          "execution_count": 84
        }
      ]
    },
    {
      "cell_type": "code",
      "metadata": {
        "id": "2Hmn4tvxx7xA",
        "colab_type": "code",
        "outputId": "075d13a8-51c0-49b8-e6f9-937d5fdc2bb0",
        "colab": {
          "base_uri": "https://localhost:8080/",
          "height": 68
        }
      },
      "source": [
        "# Evaluating the performance of our algorithm.\n",
        "\n",
        "from sklearn import metrics\n",
        "\n",
        "# Determining the metrics of our model using MAE, MSE and RMSE\n",
        "\n",
        "# MAE - Mean absolute error\n",
        "print('Mean Absolute Error:', metrics.mean_absolute_error(y_test, y_pred))\n",
        "\n",
        "# MSE - Mean squared error\n",
        "print('Mean Squared Error:', metrics.mean_squared_error(y_test, y_pred))  \n",
        "\n",
        "# RMSE - Root mean squared error\n",
        "print('Root Mean Squared Error:', np.sqrt(metrics.mean_squared_error(y_test, y_pred)))  \n"
      ],
      "execution_count": 0,
      "outputs": [
        {
          "output_type": "stream",
          "text": [
            "Mean Absolute Error: 1.1595310644011776\n",
            "Mean Squared Error: 2.752362753705521\n",
            "Root Mean Squared Error: 1.6590246392701709\n"
          ],
          "name": "stdout"
        }
      ]
    },
    {
      "cell_type": "markdown",
      "metadata": {
        "id": "hUCHiqbtz4JF",
        "colab_type": "text"
      },
      "source": [
        "From the output, we will see that the value of root mean squared error is 1.659, which is more than 10% of the mean value of the home score. \n",
        "\n",
        "This means that our algorithm did not do decent job at making predictions"
      ]
    },
    {
      "cell_type": "markdown",
      "metadata": {
        "id": "26_be__rziAx",
        "colab_type": "text"
      },
      "source": [
        "## 8. Challenging the solution"
      ]
    },
    {
      "cell_type": "markdown",
      "metadata": {
        "id": "OqRghr6U1SKD",
        "colab_type": "text"
      },
      "source": [
        "### Cross Validation"
      ]
    },
    {
      "cell_type": "markdown",
      "metadata": {
        "id": "vUl7xYrSj0dU",
        "colab_type": "text"
      },
      "source": [
        "This entails creating a multivariate model using our data and assessing its accuracy.\n",
        "\n"
      ]
    },
    {
      "cell_type": "code",
      "metadata": {
        "id": "uBPqcX49i5FY",
        "colab_type": "code",
        "colab": {
          "base_uri": "https://localhost:8080/",
          "height": 204
        },
        "outputId": "137122ad-f812-4de3-d7fb-a78c78db4b2f"
      },
      "source": [
        "data.head()"
      ],
      "execution_count": 321,
      "outputs": [
        {
          "output_type": "execute_result",
          "data": {
            "text/html": [
              "<div>\n",
              "<style scoped>\n",
              "    .dataframe tbody tr th:only-of-type {\n",
              "        vertical-align: middle;\n",
              "    }\n",
              "\n",
              "    .dataframe tbody tr th {\n",
              "        vertical-align: top;\n",
              "    }\n",
              "\n",
              "    .dataframe thead th {\n",
              "        text-align: right;\n",
              "    }\n",
              "</style>\n",
              "<table border=\"1\" class=\"dataframe\">\n",
              "  <thead>\n",
              "    <tr style=\"text-align: right;\">\n",
              "      <th></th>\n",
              "      <th>HomeTeam</th>\n",
              "      <th>AwayTeam</th>\n",
              "      <th>Tournament</th>\n",
              "      <th>Rank</th>\n",
              "      <th>HomeScore</th>\n",
              "      <th>AwayScore</th>\n",
              "    </tr>\n",
              "  </thead>\n",
              "  <tbody>\n",
              "    <tr>\n",
              "      <th>0</th>\n",
              "      <td>22</td>\n",
              "      <td>184</td>\n",
              "      <td>17</td>\n",
              "      <td>1.0</td>\n",
              "      <td>3.0</td>\n",
              "      <td>1.0</td>\n",
              "    </tr>\n",
              "    <tr>\n",
              "      <th>1</th>\n",
              "      <td>25</td>\n",
              "      <td>104</td>\n",
              "      <td>18</td>\n",
              "      <td>1.0</td>\n",
              "      <td>1.0</td>\n",
              "      <td>1.0</td>\n",
              "    </tr>\n",
              "    <tr>\n",
              "      <th>2</th>\n",
              "      <td>49</td>\n",
              "      <td>187</td>\n",
              "      <td>17</td>\n",
              "      <td>1.0</td>\n",
              "      <td>5.0</td>\n",
              "      <td>0.0</td>\n",
              "    </tr>\n",
              "    <tr>\n",
              "      <th>3</th>\n",
              "      <td>70</td>\n",
              "      <td>152</td>\n",
              "      <td>18</td>\n",
              "      <td>1.0</td>\n",
              "      <td>1.0</td>\n",
              "      <td>0.0</td>\n",
              "    </tr>\n",
              "    <tr>\n",
              "      <th>4</th>\n",
              "      <td>133</td>\n",
              "      <td>7</td>\n",
              "      <td>17</td>\n",
              "      <td>1.0</td>\n",
              "      <td>1.0</td>\n",
              "      <td>3.0</td>\n",
              "    </tr>\n",
              "  </tbody>\n",
              "</table>\n",
              "</div>"
            ],
            "text/plain": [
              "   HomeTeam  AwayTeam  Tournament  Rank  HomeScore  AwayScore\n",
              "0        22       184          17   1.0        3.0        1.0\n",
              "1        25       104          18   1.0        1.0        1.0\n",
              "2        49       187          17   1.0        5.0        0.0\n",
              "3        70       152          18   1.0        1.0        0.0\n",
              "4       133         7          17   1.0        1.0        3.0"
            ]
          },
          "metadata": {
            "tags": []
          },
          "execution_count": 321
        }
      ]
    },
    {
      "cell_type": "code",
      "metadata": {
        "id": "3o9TIJUy1dKU",
        "colab_type": "code",
        "colab": {
          "base_uri": "https://localhost:8080/",
          "height": 289
        },
        "outputId": "673aaa6c-9dde-4d23-fdf2-d216daf9aabc"
      },
      "source": [
        "from sklearn.linear_model import LinearRegression\n",
        "\n",
        "from sklearn import metrics\n",
        "\n",
        "from sklearn.model_selection import KFold\n",
        "\n",
        "# We will use the independent variables we obtained when creating our residual plots for this\n",
        "# Using our home score as our label\n",
        "X = data[['HomeTeam', 'Tournament', 'Rank']].values\n",
        "y = data['HomeScore'].values\n",
        "\n",
        "# n = 5 folds\n",
        "folds = KFold(n_splits=5)\n",
        "\n",
        "print('we are using ' +str(folds.get_n_splits(X)) + ' folds')\n",
        "\n",
        "# We now create and assess 5 models based on the folds we created.\n",
        "RMSES = [] \n",
        "count = 1  \n",
        "for train_index, test_index in folds.split(X):\n",
        "  print('\\nTraining model ' + str(count))\n",
        "  \n",
        "  \n",
        "# With 5 folds, we will end up with 80% of our data in the training set, and 20% in the testing set\n",
        "  X_train, X_test = X[train_index], X[test_index]\n",
        "  y_train, y_test = y[train_index], y[test_index]\n",
        "  \n",
        "# fit the model accordingly\n",
        "  regressor = LinearRegression()  \n",
        "  regressor.fit(X_train, y_train)\n",
        "  \n",
        "# assess the accuracy of the model\n",
        "  y_pred = regressor.predict(X_test)\n",
        "  \n",
        "  rmse_value =  np.sqrt(metrics.mean_squared_error(y_test, y_pred))\n",
        "  RMSES.append(rmse_value)\n",
        "  \n",
        "  print('Model ' + str(count) + 'Root Mean Squared Error:',rmse_value)\n",
        "  count = count + 1"
      ],
      "execution_count": 56,
      "outputs": [
        {
          "output_type": "stream",
          "text": [
            "we are using 5 folds\n",
            "\n",
            "Training model 1\n",
            "Model 1Root Mean Squared Error: 1.4173293552023567\n",
            "\n",
            "Training model 2\n",
            "Model 2Root Mean Squared Error: 1.4494474795347634\n",
            "\n",
            "Training model 3\n",
            "Model 3Root Mean Squared Error: 1.487557843689151\n",
            "\n",
            "Training model 4\n",
            "Model 4Root Mean Squared Error: 1.268149659246159\n",
            "\n",
            "Training model 5\n",
            "Model 5Root Mean Squared Error: 1.4374813649762255\n"
          ],
          "name": "stdout"
        }
      ]
    },
    {
      "cell_type": "code",
      "metadata": {
        "id": "bTd49KezjoTO",
        "colab_type": "code",
        "colab": {
          "base_uri": "https://localhost:8080/",
          "height": 289
        },
        "outputId": "aada5185-5188-47f8-deea-1d66ea2bf3ed"
      },
      "source": [
        "# We will use our independent variables for this using the away score\n",
        "X = data[['AwayTeam', 'Tournament', 'Rank']].values\n",
        "y = data['AwayScore'].values\n",
        "\n",
        "folds = KFold(n_splits=5)\n",
        "\n",
        "print('we are using ' +str(folds.get_n_splits(X)) + ' folds')\n",
        "\n",
        "# Assessing the 5 models we have created based on the folds we created.\n",
        "RMSES = [] \n",
        "count = 1 \n",
        "for train_index, test_index in folds.split(X):\n",
        "  print('\\nTraining model ' + str(count))\n",
        "  \n",
        "\n",
        "# With 5 folds, we will end up with 80% of our data in the training set, and 20% in the test set\n",
        "  X_train, X_test = X[train_index], X[test_index]\n",
        "  y_train, y_test = y[train_index], y[test_index]\n",
        "  \n",
        "# fit a model accordingly\n",
        "  regressor = LinearRegression()  \n",
        "  regressor.fit(X_train, y_train)\n",
        "  \n",
        "# assess the accuracy of the model\n",
        "  y_pred = regressor.predict(X_test)\n",
        "  \n",
        "  rmse_value =  np.sqrt(metrics.mean_squared_error(y_test, y_pred))\n",
        "  RMSES.append(rmse_value)\n",
        "  \n",
        "  print('Model ' + str(count) + 'Root Mean Squared Error:',rmse_value)\n",
        "  count = count + 1"
      ],
      "execution_count": 323,
      "outputs": [
        {
          "output_type": "stream",
          "text": [
            "we are using 5 folds\n",
            "\n",
            "Training model 1\n",
            "Model 1 Root Mean Squared Error: 1.0824843411264597\n",
            "\n",
            "Training model 2\n",
            "Model 2 Root Mean Squared Error: 1.0358286194380306\n",
            "\n",
            "Training model 3\n",
            "Model 3 Root Mean Squared Error: 1.0432784374420454\n",
            "\n",
            "Training model 4\n",
            "Model 4 Root Mean Squared Error: 0.9793452697103777\n",
            "\n",
            "Training model 5\n",
            "Model 5 Root Mean Squared Error: 0.9470286684027872\n"
          ],
          "name": "stdout"
        }
      ]
    },
    {
      "cell_type": "markdown",
      "metadata": {
        "id": "rIAfvHBuyUfc",
        "colab_type": "text"
      },
      "source": [
        "From our validation, we can clearly see that using home score is less accurate than using the away score, which gives a lower RMSE. It is more appropriate to use the away score since it gives more accurate results."
      ]
    },
    {
      "cell_type": "markdown",
      "metadata": {
        "id": "xaLwfKB0zbmA",
        "colab_type": "text"
      },
      "source": [
        "## 9. Follow up questions"
      ]
    },
    {
      "cell_type": "markdown",
      "metadata": {
        "id": "tBu0hj1hz7iC",
        "colab_type": "text"
      },
      "source": [
        "### a). Did we have the right data?"
      ]
    },
    {
      "cell_type": "markdown",
      "metadata": {
        "id": "NbYSkQ0C1MRb",
        "colab_type": "text"
      },
      "source": [
        "### b). Do we need other data to answer our question?"
      ]
    },
    {
      "cell_type": "markdown",
      "metadata": {
        "id": "xe1ggW9T1YFk",
        "colab_type": "text"
      },
      "source": [
        "### c). Did we have the right question?"
      ]
    }
  ]
}